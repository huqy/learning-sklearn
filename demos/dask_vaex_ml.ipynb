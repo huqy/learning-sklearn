{
  "nbformat": 4,
  "nbformat_minor": 0,
  "metadata": {
    "colab": {
      "name": "dask_vaex_ml.ipynb",
      "provenance": [],
      "toc_visible": true
    },
    "kernelspec": {
      "name": "python3",
      "display_name": "Python 3"
    },
    "language_info": {
      "name": "python"
    }
  },
  "cells": [
    {
      "cell_type": "markdown",
      "metadata": {
        "id": "rbB9RJTyp3KG"
      },
      "source": [
        "# Dask-ML using random generated dask arrays\n",
        "\n",
        "The code snipets are from the [page](https://examples.dask.org/machine-learning.html#Training-on-Large-Datasets)."
      ]
    },
    {
      "cell_type": "code",
      "metadata": {
        "colab": {
          "base_uri": "https://localhost:8080/"
        },
        "id": "3OZlSlJRnq_p",
        "outputId": "e50f475d-7131-4cc6-9193-33ec6ebfdf18"
      },
      "source": [
        "#! pip install \"tornado>=5\" \n",
        "#! pip install \"dask[complete]==2021.06.0\"\n",
        "! pip install \"cloudpickle>=1.5.0\"\n",
        "! pip install dask distributed --upgrade\n",
        "! pip install dask_ml dask-ml\n",
        "#! python -m pip install dask distributed --upgrade"
      ],
      "execution_count": null,
      "outputs": [
        {
          "output_type": "stream",
          "text": [
            "Collecting cloudpickle>=1.5.0\n",
            "  Downloading https://files.pythonhosted.org/packages/e7/e3/898487e5dbeb612054cf2e0c188463acb358167fef749c53c8bb8918cea1/cloudpickle-1.6.0-py3-none-any.whl\n",
            "Installing collected packages: cloudpickle\n",
            "  Found existing installation: cloudpickle 1.3.0\n",
            "    Uninstalling cloudpickle-1.3.0:\n",
            "      Successfully uninstalled cloudpickle-1.3.0\n",
            "Successfully installed cloudpickle-1.6.0\n",
            "Collecting dask\n",
            "\u001b[?25l  Downloading https://files.pythonhosted.org/packages/31/a2/59bd5d72cfe1ecc540d1307fc4cca8ac5151d625e0a68474e21cf7b2267d/dask-2021.6.0-py3-none-any.whl (965kB)\n",
            "\u001b[K     |████████████████████████████████| 972kB 5.0MB/s \n",
            "\u001b[?25hCollecting distributed\n",
            "\u001b[?25l  Downloading https://files.pythonhosted.org/packages/91/57/4ab1e5b6a4aee968ab7a808ca99fd85a4709c2e2b32bf6956cfd5e6c6c82/distributed-2021.6.0-py3-none-any.whl (715kB)\n",
            "\u001b[K     |████████████████████████████████| 716kB 16.0MB/s \n",
            "\u001b[?25hRequirement already satisfied, skipping upgrade: pyyaml in /usr/local/lib/python3.7/dist-packages (from dask) (3.13)\n",
            "Collecting fsspec>=0.6.0\n",
            "\u001b[?25l  Downloading https://files.pythonhosted.org/packages/8e/d2/d05466997f7751a2c06a7a416b7d1f131d765f7916698d3fdcb3a4d037e5/fsspec-2021.6.0-py3-none-any.whl (114kB)\n",
            "\u001b[K     |████████████████████████████████| 122kB 23.1MB/s \n",
            "\u001b[?25hCollecting partd>=0.3.10\n",
            "  Downloading https://files.pythonhosted.org/packages/41/94/360258a68b55f47859d72b2d0b2b3cfe0ca4fbbcb81b78812bd00ae86b7c/partd-1.2.0-py3-none-any.whl\n",
            "Requirement already satisfied, skipping upgrade: cloudpickle>=1.1.1 in /usr/local/lib/python3.7/dist-packages (from dask) (1.6.0)\n",
            "Requirement already satisfied, skipping upgrade: toolz>=0.8.2 in /usr/local/lib/python3.7/dist-packages (from dask) (0.11.1)\n",
            "Requirement already satisfied, skipping upgrade: setuptools in /usr/local/lib/python3.7/dist-packages (from distributed) (57.0.0)\n",
            "Requirement already satisfied, skipping upgrade: click>=6.6 in /usr/local/lib/python3.7/dist-packages (from distributed) (7.1.2)\n",
            "Requirement already satisfied, skipping upgrade: tornado>=5; python_version < \"3.8\" in /usr/local/lib/python3.7/dist-packages (from distributed) (5.1.1)\n",
            "Requirement already satisfied, skipping upgrade: msgpack>=0.6.0 in /usr/local/lib/python3.7/dist-packages (from distributed) (1.0.2)\n",
            "Requirement already satisfied, skipping upgrade: tblib>=1.6.0 in /usr/local/lib/python3.7/dist-packages (from distributed) (1.7.0)\n",
            "Requirement already satisfied, skipping upgrade: psutil>=5.0 in /usr/local/lib/python3.7/dist-packages (from distributed) (5.4.8)\n",
            "Requirement already satisfied, skipping upgrade: zict>=0.1.3 in /usr/local/lib/python3.7/dist-packages (from distributed) (2.0.0)\n",
            "Requirement already satisfied, skipping upgrade: sortedcontainers!=2.0.0,!=2.0.1 in /usr/local/lib/python3.7/dist-packages (from distributed) (2.4.0)\n",
            "Collecting locket\n",
            "  Downloading https://files.pythonhosted.org/packages/50/b8/e789e45b9b9c2db75e9d9e6ceb022c8d1d7e49b2c085ce8c05600f90a96b/locket-0.2.1-py2.py3-none-any.whl\n",
            "Requirement already satisfied, skipping upgrade: heapdict in /usr/local/lib/python3.7/dist-packages (from zict>=0.1.3->distributed) (1.0.1)\n",
            "Installing collected packages: fsspec, locket, partd, dask, distributed\n",
            "  Found existing installation: dask 2.12.0\n",
            "    Uninstalling dask-2.12.0:\n",
            "      Successfully uninstalled dask-2.12.0\n",
            "  Found existing installation: distributed 1.25.3\n",
            "    Uninstalling distributed-1.25.3:\n",
            "      Successfully uninstalled distributed-1.25.3\n",
            "Successfully installed dask-2021.6.0 distributed-2021.6.0 fsspec-2021.6.0 locket-0.2.1 partd-1.2.0\n",
            "Collecting dask_ml\n",
            "\u001b[?25l  Downloading https://files.pythonhosted.org/packages/d5/ad/e3b5e3f5773ee07c43f8c3a2596a8c55a2958ebee10b3a37f72a8cf193e4/dask_ml-1.9.0-py3-none-any.whl (143kB)\n",
            "\u001b[K     |████████████████████████████████| 143kB 6.6MB/s \n",
            "\u001b[?25hRequirement already satisfied: scipy in /usr/local/lib/python3.7/dist-packages (from dask_ml) (1.4.1)\n",
            "Collecting multipledispatch>=0.4.9\n",
            "  Downloading https://files.pythonhosted.org/packages/89/79/429ecef45fd5e4504f7474d4c3c3c4668c267be3370e4c2fd33e61506833/multipledispatch-0.6.0-py3-none-any.whl\n",
            "Requirement already satisfied: pandas>=0.24.2 in /usr/local/lib/python3.7/dist-packages (from dask_ml) (1.1.5)\n",
            "Collecting scikit-learn>=0.23\n",
            "\u001b[?25l  Downloading https://files.pythonhosted.org/packages/a8/eb/a48f25c967526b66d5f1fa7a984594f0bf0a5afafa94a8c4dbc317744620/scikit_learn-0.24.2-cp37-cp37m-manylinux2010_x86_64.whl (22.3MB)\n",
            "\u001b[K     |████████████████████████████████| 22.3MB 1.4MB/s \n",
            "\u001b[?25hRequirement already satisfied: numba>=0.51.0 in /usr/local/lib/python3.7/dist-packages (from dask_ml) (0.51.2)\n",
            "Requirement already satisfied: packaging in /usr/local/lib/python3.7/dist-packages (from dask_ml) (20.9)\n",
            "Requirement already satisfied: numpy>=1.17.3 in /usr/local/lib/python3.7/dist-packages (from dask_ml) (1.19.5)\n",
            "Collecting dask-glm>=0.2.0\n",
            "  Downloading https://files.pythonhosted.org/packages/cb/ee/36c6e0e7b51e08406e5c3bb036f35adb77bd0a89335437b2e6f03c948f1a/dask_glm-0.2.0-py2.py3-none-any.whl\n",
            "Requirement already satisfied: distributed>=2.4.0 in /usr/local/lib/python3.7/dist-packages (from dask_ml) (2021.6.0)\n",
            "Requirement already satisfied: dask[array,dataframe]>=2.4.0 in /usr/local/lib/python3.7/dist-packages (from dask_ml) (2021.6.0)\n",
            "Requirement already satisfied: six in /usr/local/lib/python3.7/dist-packages (from multipledispatch>=0.4.9->dask_ml) (1.15.0)\n",
            "Requirement already satisfied: python-dateutil>=2.7.3 in /usr/local/lib/python3.7/dist-packages (from pandas>=0.24.2->dask_ml) (2.8.1)\n",
            "Requirement already satisfied: pytz>=2017.2 in /usr/local/lib/python3.7/dist-packages (from pandas>=0.24.2->dask_ml) (2018.9)\n",
            "Requirement already satisfied: joblib>=0.11 in /usr/local/lib/python3.7/dist-packages (from scikit-learn>=0.23->dask_ml) (1.0.1)\n",
            "Collecting threadpoolctl>=2.0.0\n",
            "  Downloading https://files.pythonhosted.org/packages/f7/12/ec3f2e203afa394a149911729357aa48affc59c20e2c1c8297a60f33f133/threadpoolctl-2.1.0-py3-none-any.whl\n",
            "Requirement already satisfied: llvmlite<0.35,>=0.34.0.dev0 in /usr/local/lib/python3.7/dist-packages (from numba>=0.51.0->dask_ml) (0.34.0)\n",
            "Requirement already satisfied: setuptools in /usr/local/lib/python3.7/dist-packages (from numba>=0.51.0->dask_ml) (57.0.0)\n",
            "Requirement already satisfied: pyparsing>=2.0.2 in /usr/local/lib/python3.7/dist-packages (from packaging->dask_ml) (2.4.7)\n",
            "Requirement already satisfied: cloudpickle>=0.2.2 in /usr/local/lib/python3.7/dist-packages (from dask-glm>=0.2.0->dask_ml) (1.6.0)\n",
            "Requirement already satisfied: click>=6.6 in /usr/local/lib/python3.7/dist-packages (from distributed>=2.4.0->dask_ml) (7.1.2)\n",
            "Requirement already satisfied: sortedcontainers!=2.0.0,!=2.0.1 in /usr/local/lib/python3.7/dist-packages (from distributed>=2.4.0->dask_ml) (2.4.0)\n",
            "Requirement already satisfied: zict>=0.1.3 in /usr/local/lib/python3.7/dist-packages (from distributed>=2.4.0->dask_ml) (2.0.0)\n",
            "Requirement already satisfied: msgpack>=0.6.0 in /usr/local/lib/python3.7/dist-packages (from distributed>=2.4.0->dask_ml) (1.0.2)\n",
            "Requirement already satisfied: tornado>=5; python_version < \"3.8\" in /usr/local/lib/python3.7/dist-packages (from distributed>=2.4.0->dask_ml) (5.1.1)\n",
            "Requirement already satisfied: toolz>=0.8.2 in /usr/local/lib/python3.7/dist-packages (from distributed>=2.4.0->dask_ml) (0.11.1)\n",
            "Requirement already satisfied: psutil>=5.0 in /usr/local/lib/python3.7/dist-packages (from distributed>=2.4.0->dask_ml) (5.4.8)\n",
            "Requirement already satisfied: pyyaml in /usr/local/lib/python3.7/dist-packages (from distributed>=2.4.0->dask_ml) (3.13)\n",
            "Requirement already satisfied: tblib>=1.6.0 in /usr/local/lib/python3.7/dist-packages (from distributed>=2.4.0->dask_ml) (1.7.0)\n",
            "Requirement already satisfied: fsspec>=0.6.0 in /usr/local/lib/python3.7/dist-packages (from dask[array,dataframe]>=2.4.0->dask_ml) (2021.6.0)\n",
            "Requirement already satisfied: partd>=0.3.10 in /usr/local/lib/python3.7/dist-packages (from dask[array,dataframe]>=2.4.0->dask_ml) (1.2.0)\n",
            "Requirement already satisfied: heapdict in /usr/local/lib/python3.7/dist-packages (from zict>=0.1.3->distributed>=2.4.0->dask_ml) (1.0.1)\n",
            "Requirement already satisfied: locket in /usr/local/lib/python3.7/dist-packages (from partd>=0.3.10->dask[array,dataframe]>=2.4.0->dask_ml) (0.2.1)\n",
            "Installing collected packages: multipledispatch, threadpoolctl, scikit-learn, dask-glm, dask-ml\n",
            "  Found existing installation: scikit-learn 0.22.2.post1\n",
            "    Uninstalling scikit-learn-0.22.2.post1:\n",
            "      Successfully uninstalled scikit-learn-0.22.2.post1\n",
            "Successfully installed dask-glm-0.2.0 dask-ml-1.9.0 multipledispatch-0.6.0 scikit-learn-0.24.2 threadpoolctl-2.1.0\n"
          ],
          "name": "stdout"
        }
      ]
    },
    {
      "cell_type": "markdown",
      "metadata": {
        "id": "fC2xk7DR_dWC"
      },
      "source": [
        "Need to restart the runtime."
      ]
    },
    {
      "cell_type": "code",
      "metadata": {
        "id": "hLxodZM5qCzq"
      },
      "source": [
        "import dask_ml.datasets\n",
        "import dask_ml.cluster\n",
        "import matplotlib.pyplot as plt"
      ],
      "execution_count": null,
      "outputs": []
    },
    {
      "cell_type": "code",
      "metadata": {
        "id": "357IMMJD_jw7"
      },
      "source": [
        "%matplotlib inline"
      ],
      "execution_count": null,
      "outputs": []
    },
    {
      "cell_type": "code",
      "metadata": {
        "colab": {
          "base_uri": "https://localhost:8080/",
          "height": 199
        },
        "id": "m9NmwoXh_zNu",
        "outputId": "032f1700-b6e3-4542-89a4-a5df5668a103"
      },
      "source": [
        "X, y = dask_ml.datasets.make_blobs(n_samples=10000000,\n",
        "                                   chunks=1000000,\n",
        "                                   random_state=0,\n",
        "                                   centers=3)\n",
        "X = X.persist()\n",
        "X"
      ],
      "execution_count": null,
      "outputs": [
        {
          "output_type": "execute_result",
          "data": {
            "text/html": [
              "<table>\n",
              "<tr>\n",
              "<td>\n",
              "<table>\n",
              "  <thead>\n",
              "    <tr><td> </td><th> Array </th><th> Chunk </th></tr>\n",
              "  </thead>\n",
              "  <tbody>\n",
              "    <tr><th> Bytes </th><td> 152.59 MiB </td> <td> 15.26 MiB </td></tr>\n",
              "    <tr><th> Shape </th><td> (10000000, 2) </td> <td> (1000000, 2) </td></tr>\n",
              "    <tr><th> Count </th><td> 10 Tasks </td><td> 10 Chunks </td></tr>\n",
              "    <tr><th> Type </th><td> float64 </td><td> numpy.ndarray </td></tr>\n",
              "  </tbody>\n",
              "</table>\n",
              "</td>\n",
              "<td>\n",
              "<svg width=\"75\" height=\"170\" style=\"stroke:rgb(0,0,0);stroke-width:1\" >\n",
              "\n",
              "  <!-- Horizontal lines -->\n",
              "  <line x1=\"0\" y1=\"0\" x2=\"25\" y2=\"0\" style=\"stroke-width:2\" />\n",
              "  <line x1=\"0\" y1=\"12\" x2=\"25\" y2=\"12\" />\n",
              "  <line x1=\"0\" y1=\"24\" x2=\"25\" y2=\"24\" />\n",
              "  <line x1=\"0\" y1=\"36\" x2=\"25\" y2=\"36\" />\n",
              "  <line x1=\"0\" y1=\"48\" x2=\"25\" y2=\"48\" />\n",
              "  <line x1=\"0\" y1=\"60\" x2=\"25\" y2=\"60\" />\n",
              "  <line x1=\"0\" y1=\"72\" x2=\"25\" y2=\"72\" />\n",
              "  <line x1=\"0\" y1=\"84\" x2=\"25\" y2=\"84\" />\n",
              "  <line x1=\"0\" y1=\"96\" x2=\"25\" y2=\"96\" />\n",
              "  <line x1=\"0\" y1=\"108\" x2=\"25\" y2=\"108\" />\n",
              "  <line x1=\"0\" y1=\"120\" x2=\"25\" y2=\"120\" style=\"stroke-width:2\" />\n",
              "\n",
              "  <!-- Vertical lines -->\n",
              "  <line x1=\"0\" y1=\"0\" x2=\"0\" y2=\"120\" style=\"stroke-width:2\" />\n",
              "  <line x1=\"25\" y1=\"0\" x2=\"25\" y2=\"120\" style=\"stroke-width:2\" />\n",
              "\n",
              "  <!-- Colored Rectangle -->\n",
              "  <polygon points=\"0.0,0.0 25.412616514582485,0.0 25.412616514582485,120.0 0.0,120.0\" style=\"fill:#ECB172A0;stroke-width:0\"/>\n",
              "\n",
              "  <!-- Text -->\n",
              "  <text x=\"12.706308\" y=\"140.000000\" font-size=\"1.0rem\" font-weight=\"100\" text-anchor=\"middle\" >2</text>\n",
              "  <text x=\"45.412617\" y=\"60.000000\" font-size=\"1.0rem\" font-weight=\"100\" text-anchor=\"middle\" transform=\"rotate(-90,45.412617,60.000000)\">10000000</text>\n",
              "</svg>\n",
              "</td>\n",
              "</tr>\n",
              "</table>"
            ],
            "text/plain": [
              "dask.array<concatenate, shape=(10000000, 2), dtype=float64, chunksize=(1000000, 2), chunktype=numpy.ndarray>"
            ]
          },
          "metadata": {
            "tags": []
          },
          "execution_count": 3
        }
      ]
    },
    {
      "cell_type": "code",
      "metadata": {
        "colab": {
          "base_uri": "https://localhost:8080/"
        },
        "id": "nW70HY_v_2gr",
        "outputId": "dcb92b94-0d2e-4bc3-ba92-862b9552298b"
      },
      "source": [
        "km = dask_ml.cluster.KMeans(n_clusters=3, init_max_iter=2, oversampling_factor=10)\n",
        "km.fit(X)"
      ],
      "execution_count": null,
      "outputs": [
        {
          "output_type": "execute_result",
          "data": {
            "text/plain": [
              "KMeans(init_max_iter=2, n_clusters=3, oversampling_factor=10)"
            ]
          },
          "metadata": {
            "tags": []
          },
          "execution_count": 4
        }
      ]
    },
    {
      "cell_type": "code",
      "metadata": {
        "colab": {
          "base_uri": "https://localhost:8080/",
          "height": 265
        },
        "id": "QBq6OskW_5At",
        "outputId": "6ab068b8-7f7e-4aea-f8b3-2e2cc4e68a8f"
      },
      "source": [
        "fig, ax = plt.subplots()\n",
        "ax.scatter(X[::10000, 0], X[::10000, 1], marker='.', c=km.labels_[::10000],\n",
        "           cmap='viridis', alpha=0.25);"
      ],
      "execution_count": null,
      "outputs": [
        {
          "output_type": "display_data",
          "data": {
            "image/png": "[encoded data removed]",
            "text/plain": [
              "<Figure size 432x288 with 1 Axes>"
            ]
          },
          "metadata": {
            "tags": [],
            "needs_background": "light"
          }
        }
      ]
    },
    {
      "cell_type": "markdown",
      "metadata": {
        "id": "TBEGy4_6_95H"
      },
      "source": [
        "# Vaex.ml example on Iris Dataset\n",
        "\n",
        "The code snipets are from the [page](https://vaex.io/docs/example_ml_iris.html) from vaex.io site."
      ]
    },
    {
      "cell_type": "code",
      "metadata": {
        "colab": {
          "base_uri": "https://localhost:8080/",
          "height": 1000
        },
        "id": "wI7dVV4Y__Wl",
        "outputId": "2929feac-a6d5-4fa3-9b54-cfcb478ba14e"
      },
      "source": [
        "!pip install vaex\n",
        "!pip install ipython==7.0.0"
      ],
      "execution_count": null,
      "outputs": [
        {
          "output_type": "stream",
          "text": [
            "Requirement already satisfied: vaex in /usr/local/lib/python3.7/dist-packages (4.2.0)\n",
            "Requirement already satisfied: vaex-hdf5<0.8,>=0.7.0 in /usr/local/lib/python3.7/dist-packages (from vaex) (0.7.0)\n",
            "Requirement already satisfied: vaex-server<0.5,>=0.4.1 in /usr/local/lib/python3.7/dist-packages (from vaex) (0.4.1)\n",
            "Requirement already satisfied: vaex-core<5,>=4.2.0 in /usr/local/lib/python3.7/dist-packages (from vaex) (4.2.0)\n",
            "Requirement already satisfied: vaex-astro<0.9,>=0.8.1 in /usr/local/lib/python3.7/dist-packages (from vaex) (0.8.1)\n",
            "Requirement already satisfied: vaex-viz<0.6,>=0.5.0 in /usr/local/lib/python3.7/dist-packages (from vaex) (0.5.0)\n",
            "Requirement already satisfied: vaex-jupyter<0.7,>=0.6.0 in /usr/local/lib/python3.7/dist-packages (from vaex) (0.6.0)\n",
            "Requirement already satisfied: vaex-ml<0.13,>=0.12.0 in /usr/local/lib/python3.7/dist-packages (from vaex) (0.12.0)\n",
            "Requirement already satisfied: h5py>=2.9 in /usr/local/lib/python3.7/dist-packages (from vaex-hdf5<0.8,>=0.7.0->vaex) (3.1.0)\n",
            "Requirement already satisfied: tornado>4.1 in /usr/local/lib/python3.7/dist-packages (from vaex-server<0.5,>=0.4.1->vaex) (5.1.1)\n",
            "Requirement already satisfied: cachetools in /usr/local/lib/python3.7/dist-packages (from vaex-server<0.5,>=0.4.1->vaex) (4.2.2)\n",
            "Requirement already satisfied: pandas in /usr/local/lib/python3.7/dist-packages (from vaex-core<5,>=4.2.0->vaex) (1.1.5)\n",
            "Requirement already satisfied: requests in /usr/local/lib/python3.7/dist-packages (from vaex-core<5,>=4.2.0->vaex) (2.23.0)\n",
            "Requirement already satisfied: future>=0.15.2 in /usr/local/lib/python3.7/dist-packages (from vaex-core<5,>=4.2.0->vaex) (0.16.0)\n",
            "Requirement already satisfied: pyyaml in /usr/local/lib/python3.7/dist-packages (from vaex-core<5,>=4.2.0->vaex) (3.13)\n",
            "Requirement already satisfied: cloudpickle in /usr/local/lib/python3.7/dist-packages (from vaex-core<5,>=4.2.0->vaex) (1.6.0)\n",
            "Requirement already satisfied: frozendict in /usr/local/lib/python3.7/dist-packages (from vaex-core<5,>=4.2.0->vaex) (2.0.2)\n",
            "Requirement already satisfied: pyarrow>=3.0 in /usr/local/lib/python3.7/dist-packages (from vaex-core<5,>=4.2.0->vaex) (3.0.0)\n",
            "Requirement already satisfied: aplus in /usr/local/lib/python3.7/dist-packages (from vaex-core<5,>=4.2.0->vaex) (0.11.0)\n",
            "Requirement already satisfied: tabulate>=0.8.3 in /usr/local/lib/python3.7/dist-packages (from vaex-core<5,>=4.2.0->vaex) (0.8.9)\n",
            "Requirement already satisfied: progressbar2 in /usr/local/lib/python3.7/dist-packages (from vaex-core<5,>=4.2.0->vaex) (3.38.0)\n",
            "Requirement already satisfied: numpy>=1.16 in /usr/local/lib/python3.7/dist-packages (from vaex-core<5,>=4.2.0->vaex) (1.19.5)\n",
            "Requirement already satisfied: nest-asyncio>=1.3.3 in /usr/local/lib/python3.7/dist-packages (from vaex-core<5,>=4.2.0->vaex) (1.5.1)\n",
            "Requirement already satisfied: dask in /usr/local/lib/python3.7/dist-packages (from vaex-core<5,>=4.2.0->vaex) (2021.6.0)\n",
            "Requirement already satisfied: psutil>=1.2.1 in /usr/local/lib/python3.7/dist-packages (from vaex-core<5,>=4.2.0->vaex) (5.4.8)\n",
            "Requirement already satisfied: six in /usr/local/lib/python3.7/dist-packages (from vaex-core<5,>=4.2.0->vaex) (1.15.0)\n",
            "Requirement already satisfied: astropy in /usr/local/lib/python3.7/dist-packages (from vaex-astro<0.9,>=0.8.1->vaex) (4.2.1)\n",
            "Requirement already satisfied: pillow in /usr/local/lib/python3.7/dist-packages (from vaex-viz<0.6,>=0.5.0->vaex) (7.1.2)\n",
            "Requirement already satisfied: matplotlib>=1.3.1 in /usr/local/lib/python3.7/dist-packages (from vaex-viz<0.6,>=0.5.0->vaex) (3.2.2)\n",
            "Requirement already satisfied: ipyleaflet in /usr/local/lib/python3.7/dist-packages (from vaex-jupyter<0.7,>=0.6.0->vaex) (0.13.6)\n",
            "Requirement already satisfied: ipyvuetify<2,>=1.2.2 in /usr/local/lib/python3.7/dist-packages (from vaex-jupyter<0.7,>=0.6.0->vaex) (1.7.0)\n",
            "Requirement already satisfied: xarray in /usr/local/lib/python3.7/dist-packages (from vaex-jupyter<0.7,>=0.6.0->vaex) (0.18.2)\n",
            "Requirement already satisfied: ipympl in /usr/local/lib/python3.7/dist-packages (from vaex-jupyter<0.7,>=0.6.0->vaex) (0.7.0)\n",
            "Requirement already satisfied: bqplot>=0.10.1 in /usr/local/lib/python3.7/dist-packages (from vaex-jupyter<0.7,>=0.6.0->vaex) (0.12.29)\n",
            "Requirement already satisfied: ipyvolume>=0.4 in /usr/local/lib/python3.7/dist-packages (from vaex-jupyter<0.7,>=0.6.0->vaex) (0.5.2)\n",
            "Requirement already satisfied: traitlets in /usr/local/lib/python3.7/dist-packages (from vaex-ml<0.13,>=0.12.0->vaex) (5.0.5)\n",
            "Requirement already satisfied: numba in /usr/local/lib/python3.7/dist-packages (from vaex-ml<0.13,>=0.12.0->vaex) (0.51.2)\n",
            "Requirement already satisfied: jinja2 in /usr/local/lib/python3.7/dist-packages (from vaex-ml<0.13,>=0.12.0->vaex) (2.11.3)\n",
            "Requirement already satisfied: cached-property; python_version < \"3.8\" in /usr/local/lib/python3.7/dist-packages (from h5py>=2.9->vaex-hdf5<0.8,>=0.7.0->vaex) (1.5.2)\n",
            "Requirement already satisfied: pytz>=2017.2 in /usr/local/lib/python3.7/dist-packages (from pandas->vaex-core<5,>=4.2.0->vaex) (2018.9)\n",
            "Requirement already satisfied: python-dateutil>=2.7.3 in /usr/local/lib/python3.7/dist-packages (from pandas->vaex-core<5,>=4.2.0->vaex) (2.8.1)\n",
            "Requirement already satisfied: certifi>=2017.4.17 in /usr/local/lib/python3.7/dist-packages (from requests->vaex-core<5,>=4.2.0->vaex) (2021.5.30)\n",
            "Requirement already satisfied: urllib3!=1.25.0,!=1.25.1,<1.26,>=1.21.1 in /usr/local/lib/python3.7/dist-packages (from requests->vaex-core<5,>=4.2.0->vaex) (1.24.3)\n",
            "Requirement already satisfied: chardet<4,>=3.0.2 in /usr/local/lib/python3.7/dist-packages (from requests->vaex-core<5,>=4.2.0->vaex) (3.0.4)\n",
            "Requirement already satisfied: idna<3,>=2.5 in /usr/local/lib/python3.7/dist-packages (from requests->vaex-core<5,>=4.2.0->vaex) (2.10)\n",
            "Requirement already satisfied: python-utils>=2.3.0 in /usr/local/lib/python3.7/dist-packages (from progressbar2->vaex-core<5,>=4.2.0->vaex) (2.5.6)\n",
            "Requirement already satisfied: partd>=0.3.10 in /usr/local/lib/python3.7/dist-packages (from dask->vaex-core<5,>=4.2.0->vaex) (1.2.0)\n",
            "Requirement already satisfied: fsspec>=0.6.0 in /usr/local/lib/python3.7/dist-packages (from dask->vaex-core<5,>=4.2.0->vaex) (2021.6.0)\n",
            "Requirement already satisfied: toolz>=0.8.2 in /usr/local/lib/python3.7/dist-packages (from dask->vaex-core<5,>=4.2.0->vaex) (0.11.1)\n",
            "Requirement already satisfied: pyerfa in /usr/local/lib/python3.7/dist-packages (from astropy->vaex-astro<0.9,>=0.8.1->vaex) (2.0.0)\n",
            "Requirement already satisfied: kiwisolver>=1.0.1 in /usr/local/lib/python3.7/dist-packages (from matplotlib>=1.3.1->vaex-viz<0.6,>=0.5.0->vaex) (1.3.1)\n",
            "Requirement already satisfied: cycler>=0.10 in /usr/local/lib/python3.7/dist-packages (from matplotlib>=1.3.1->vaex-viz<0.6,>=0.5.0->vaex) (0.10.0)\n",
            "Requirement already satisfied: pyparsing!=2.0.4,!=2.1.2,!=2.1.6,>=2.0.1 in /usr/local/lib/python3.7/dist-packages (from matplotlib>=1.3.1->vaex-viz<0.6,>=0.5.0->vaex) (2.4.7)\n",
            "Requirement already satisfied: shapely in /usr/local/lib/python3.7/dist-packages (from ipyleaflet->vaex-jupyter<0.7,>=0.6.0->vaex) (1.7.1)\n",
            "Requirement already satisfied: ipywidgets<8,>=7.6.0 in /usr/local/lib/python3.7/dist-packages (from ipyleaflet->vaex-jupyter<0.7,>=0.6.0->vaex) (7.6.3)\n",
            "Requirement already satisfied: traittypes<3,>=0.2.1 in /usr/local/lib/python3.7/dist-packages (from ipyleaflet->vaex-jupyter<0.7,>=0.6.0->vaex) (0.2.1)\n",
            "Requirement already satisfied: branca<0.5,>=0.3.1 in /usr/local/lib/python3.7/dist-packages (from ipyleaflet->vaex-jupyter<0.7,>=0.6.0->vaex) (0.4.2)\n",
            "Requirement already satisfied: ipyvue<2,>=1.5 in /usr/local/lib/python3.7/dist-packages (from ipyvuetify<2,>=1.2.2->vaex-jupyter<0.7,>=0.6.0->vaex) (1.5.0)\n",
            "Requirement already satisfied: setuptools>=40.4 in /usr/local/lib/python3.7/dist-packages (from xarray->vaex-jupyter<0.7,>=0.6.0->vaex) (57.0.0)\n",
            "Requirement already satisfied: ipykernel>=4.7 in /usr/local/lib/python3.7/dist-packages (from ipympl->vaex-jupyter<0.7,>=0.6.0->vaex) (4.10.1)\n",
            "Requirement already satisfied: pythreejs>=1.0.0 in /usr/local/lib/python3.7/dist-packages (from ipyvolume>=0.4->vaex-jupyter<0.7,>=0.6.0->vaex) (2.3.0)\n",
            "Requirement already satisfied: ipywebrtc in /usr/local/lib/python3.7/dist-packages (from ipyvolume>=0.4->vaex-jupyter<0.7,>=0.6.0->vaex) (0.6.0)\n",
            "Requirement already satisfied: ipython-genutils in /usr/local/lib/python3.7/dist-packages (from traitlets->vaex-ml<0.13,>=0.12.0->vaex) (0.2.0)\n",
            "Requirement already satisfied: llvmlite<0.35,>=0.34.0.dev0 in /usr/local/lib/python3.7/dist-packages (from numba->vaex-ml<0.13,>=0.12.0->vaex) (0.34.0)\n",
            "Requirement already satisfied: MarkupSafe>=0.23 in /usr/local/lib/python3.7/dist-packages (from jinja2->vaex-ml<0.13,>=0.12.0->vaex) (2.0.1)\n",
            "Requirement already satisfied: locket in /usr/local/lib/python3.7/dist-packages (from partd>=0.3.10->dask->vaex-core<5,>=4.2.0->vaex) (0.2.1)\n",
            "Requirement already satisfied: widgetsnbextension~=3.5.0 in /usr/local/lib/python3.7/dist-packages (from ipywidgets<8,>=7.6.0->ipyleaflet->vaex-jupyter<0.7,>=0.6.0->vaex) (3.5.1)\n",
            "Requirement already satisfied: jupyterlab-widgets>=1.0.0; python_version >= \"3.6\" in /usr/local/lib/python3.7/dist-packages (from ipywidgets<8,>=7.6.0->ipyleaflet->vaex-jupyter<0.7,>=0.6.0->vaex) (1.0.0)\n",
            "Requirement already satisfied: ipython>=4.0.0; python_version >= \"3.3\" in /usr/local/lib/python3.7/dist-packages (from ipywidgets<8,>=7.6.0->ipyleaflet->vaex-jupyter<0.7,>=0.6.0->vaex) (5.5.0)\n",
            "Requirement already satisfied: nbformat>=4.2.0 in /usr/local/lib/python3.7/dist-packages (from ipywidgets<8,>=7.6.0->ipyleaflet->vaex-jupyter<0.7,>=0.6.0->vaex) (5.1.3)\n",
            "Requirement already satisfied: jupyter-client in /usr/local/lib/python3.7/dist-packages (from ipykernel>=4.7->ipympl->vaex-jupyter<0.7,>=0.6.0->vaex) (5.3.5)\n",
            "Requirement already satisfied: ipydatawidgets>=1.1.1 in /usr/local/lib/python3.7/dist-packages (from pythreejs>=1.0.0->ipyvolume>=0.4->vaex-jupyter<0.7,>=0.6.0->vaex) (4.2.0)\n",
            "Requirement already satisfied: notebook>=4.4.1 in /usr/local/lib/python3.7/dist-packages (from widgetsnbextension~=3.5.0->ipywidgets<8,>=7.6.0->ipyleaflet->vaex-jupyter<0.7,>=0.6.0->vaex) (5.3.1)\n",
            "Requirement already satisfied: decorator in /usr/local/lib/python3.7/dist-packages (from ipython>=4.0.0; python_version >= \"3.3\"->ipywidgets<8,>=7.6.0->ipyleaflet->vaex-jupyter<0.7,>=0.6.0->vaex) (4.4.2)\n",
            "Requirement already satisfied: pygments in /usr/local/lib/python3.7/dist-packages (from ipython>=4.0.0; python_version >= \"3.3\"->ipywidgets<8,>=7.6.0->ipyleaflet->vaex-jupyter<0.7,>=0.6.0->vaex) (2.6.1)\n",
            "Requirement already satisfied: pickleshare in /usr/local/lib/python3.7/dist-packages (from ipython>=4.0.0; python_version >= \"3.3\"->ipywidgets<8,>=7.6.0->ipyleaflet->vaex-jupyter<0.7,>=0.6.0->vaex) (0.7.5)\n",
            "Requirement already satisfied: pexpect; sys_platform != \"win32\" in /usr/local/lib/python3.7/dist-packages (from ipython>=4.0.0; python_version >= \"3.3\"->ipywidgets<8,>=7.6.0->ipyleaflet->vaex-jupyter<0.7,>=0.6.0->vaex) (4.8.0)\n",
            "Requirement already satisfied: prompt-toolkit<2.0.0,>=1.0.4 in /usr/local/lib/python3.7/dist-packages (from ipython>=4.0.0; python_version >= \"3.3\"->ipywidgets<8,>=7.6.0->ipyleaflet->vaex-jupyter<0.7,>=0.6.0->vaex) (1.0.18)\n",
            "Requirement already satisfied: simplegeneric>0.8 in /usr/local/lib/python3.7/dist-packages (from ipython>=4.0.0; python_version >= \"3.3\"->ipywidgets<8,>=7.6.0->ipyleaflet->vaex-jupyter<0.7,>=0.6.0->vaex) (0.8.1)\n",
            "Requirement already satisfied: jupyter-core in /usr/local/lib/python3.7/dist-packages (from nbformat>=4.2.0->ipywidgets<8,>=7.6.0->ipyleaflet->vaex-jupyter<0.7,>=0.6.0->vaex) (4.7.1)\n",
            "Requirement already satisfied: jsonschema!=2.5.0,>=2.4 in /usr/local/lib/python3.7/dist-packages (from nbformat>=4.2.0->ipywidgets<8,>=7.6.0->ipyleaflet->vaex-jupyter<0.7,>=0.6.0->vaex) (2.6.0)\n",
            "Requirement already satisfied: pyzmq>=13 in /usr/local/lib/python3.7/dist-packages (from jupyter-client->ipykernel>=4.7->ipympl->vaex-jupyter<0.7,>=0.6.0->vaex) (22.1.0)\n",
            "Requirement already satisfied: terminado>=0.8.1 in /usr/local/lib/python3.7/dist-packages (from notebook>=4.4.1->widgetsnbextension~=3.5.0->ipywidgets<8,>=7.6.0->ipyleaflet->vaex-jupyter<0.7,>=0.6.0->vaex) (0.10.1)\n",
            "Requirement already satisfied: Send2Trash in /usr/local/lib/python3.7/dist-packages (from notebook>=4.4.1->widgetsnbextension~=3.5.0->ipywidgets<8,>=7.6.0->ipyleaflet->vaex-jupyter<0.7,>=0.6.0->vaex) (1.5.0)\n",
            "Requirement already satisfied: nbconvert in /usr/local/lib/python3.7/dist-packages (from notebook>=4.4.1->widgetsnbextension~=3.5.0->ipywidgets<8,>=7.6.0->ipyleaflet->vaex-jupyter<0.7,>=0.6.0->vaex) (5.6.1)\n",
            "Requirement already satisfied: ptyprocess>=0.5 in /usr/local/lib/python3.7/dist-packages (from pexpect; sys_platform != \"win32\"->ipython>=4.0.0; python_version >= \"3.3\"->ipywidgets<8,>=7.6.0->ipyleaflet->vaex-jupyter<0.7,>=0.6.0->vaex) (0.7.0)\n",
            "Requirement already satisfied: wcwidth in /usr/local/lib/python3.7/dist-packages (from prompt-toolkit<2.0.0,>=1.0.4->ipython>=4.0.0; python_version >= \"3.3\"->ipywidgets<8,>=7.6.0->ipyleaflet->vaex-jupyter<0.7,>=0.6.0->vaex) (0.2.5)\n",
            "Requirement already satisfied: mistune<2,>=0.8.1 in /usr/local/lib/python3.7/dist-packages (from nbconvert->notebook>=4.4.1->widgetsnbextension~=3.5.0->ipywidgets<8,>=7.6.0->ipyleaflet->vaex-jupyter<0.7,>=0.6.0->vaex) (0.8.4)\n",
            "Requirement already satisfied: pandocfilters>=1.4.1 in /usr/local/lib/python3.7/dist-packages (from nbconvert->notebook>=4.4.1->widgetsnbextension~=3.5.0->ipywidgets<8,>=7.6.0->ipyleaflet->vaex-jupyter<0.7,>=0.6.0->vaex) (1.4.3)\n",
            "Requirement already satisfied: entrypoints>=0.2.2 in /usr/local/lib/python3.7/dist-packages (from nbconvert->notebook>=4.4.1->widgetsnbextension~=3.5.0->ipywidgets<8,>=7.6.0->ipyleaflet->vaex-jupyter<0.7,>=0.6.0->vaex) (0.3)\n",
            "Requirement already satisfied: testpath in /usr/local/lib/python3.7/dist-packages (from nbconvert->notebook>=4.4.1->widgetsnbextension~=3.5.0->ipywidgets<8,>=7.6.0->ipyleaflet->vaex-jupyter<0.7,>=0.6.0->vaex) (0.5.0)\n",
            "Requirement already satisfied: defusedxml in /usr/local/lib/python3.7/dist-packages (from nbconvert->notebook>=4.4.1->widgetsnbextension~=3.5.0->ipywidgets<8,>=7.6.0->ipyleaflet->vaex-jupyter<0.7,>=0.6.0->vaex) (0.7.1)\n",
            "Requirement already satisfied: bleach in /usr/local/lib/python3.7/dist-packages (from nbconvert->notebook>=4.4.1->widgetsnbextension~=3.5.0->ipywidgets<8,>=7.6.0->ipyleaflet->vaex-jupyter<0.7,>=0.6.0->vaex) (3.3.0)\n",
            "Requirement already satisfied: packaging in /usr/local/lib/python3.7/dist-packages (from bleach->nbconvert->notebook>=4.4.1->widgetsnbextension~=3.5.0->ipywidgets<8,>=7.6.0->ipyleaflet->vaex-jupyter<0.7,>=0.6.0->vaex) (20.9)\n",
            "Requirement already satisfied: webencodings in /usr/local/lib/python3.7/dist-packages (from bleach->nbconvert->notebook>=4.4.1->widgetsnbextension~=3.5.0->ipywidgets<8,>=7.6.0->ipyleaflet->vaex-jupyter<0.7,>=0.6.0->vaex) (0.5.1)\n",
            "Collecting ipython==7.0.0\n",
            "\u001b[?25l  Downloading https://files.pythonhosted.org/packages/cb/0f/1b5660969baf0d1c5b535ee51160c26e5f2307b57252601b8dbba0b5b3b2/ipython-7.0.0-py3-none-any.whl (760kB)\n",
            "\u001b[K     |████████████████████████████████| 768kB 6.4MB/s \n",
            "\u001b[?25hCollecting prompt-toolkit<2.1.0,>=2.0.0\n",
            "\u001b[?25l  Downloading https://files.pythonhosted.org/packages/87/61/2dfea88583d5454e3a64f9308a686071d58d59a55db638268a6413e1eb6d/prompt_toolkit-2.0.10-py3-none-any.whl (340kB)\n",
            "\u001b[K     |████████████████████████████████| 348kB 13.6MB/s \n",
            "\u001b[?25hRequirement already satisfied: pexpect; sys_platform != \"win32\" in /usr/local/lib/python3.7/dist-packages (from ipython==7.0.0) (4.8.0)\n",
            "Requirement already satisfied: simplegeneric>0.8 in /usr/local/lib/python3.7/dist-packages (from ipython==7.0.0) (0.8.1)\n",
            "Requirement already satisfied: jedi>=0.10 in /usr/local/lib/python3.7/dist-packages (from ipython==7.0.0) (0.18.0)\n",
            "Requirement already satisfied: pygments in /usr/local/lib/python3.7/dist-packages (from ipython==7.0.0) (2.6.1)\n",
            "Requirement already satisfied: pickleshare in /usr/local/lib/python3.7/dist-packages (from ipython==7.0.0) (0.7.5)\n",
            "Requirement already satisfied: backcall in /usr/local/lib/python3.7/dist-packages (from ipython==7.0.0) (0.2.0)\n",
            "Requirement already satisfied: decorator in /usr/local/lib/python3.7/dist-packages (from ipython==7.0.0) (4.4.2)\n",
            "Requirement already satisfied: setuptools>=18.5 in /usr/local/lib/python3.7/dist-packages (from ipython==7.0.0) (57.0.0)\n",
            "Requirement already satisfied: traitlets>=4.2 in /usr/local/lib/python3.7/dist-packages (from ipython==7.0.0) (5.0.5)\n",
            "Requirement already satisfied: wcwidth in /usr/local/lib/python3.7/dist-packages (from prompt-toolkit<2.1.0,>=2.0.0->ipython==7.0.0) (0.2.5)\n",
            "Requirement already satisfied: six>=1.9.0 in /usr/local/lib/python3.7/dist-packages (from prompt-toolkit<2.1.0,>=2.0.0->ipython==7.0.0) (1.15.0)\n",
            "Requirement already satisfied: ptyprocess>=0.5 in /usr/local/lib/python3.7/dist-packages (from pexpect; sys_platform != \"win32\"->ipython==7.0.0) (0.7.0)\n",
            "Requirement already satisfied: parso<0.9.0,>=0.8.0 in /usr/local/lib/python3.7/dist-packages (from jedi>=0.10->ipython==7.0.0) (0.8.2)\n",
            "Requirement already satisfied: ipython-genutils in /usr/local/lib/python3.7/dist-packages (from traitlets>=4.2->ipython==7.0.0) (0.2.0)\n",
            "\u001b[31mERROR: jupyter-console 5.2.0 has requirement prompt-toolkit<2.0.0,>=1.0.0, but you'll have prompt-toolkit 2.0.10 which is incompatible.\u001b[0m\n",
            "\u001b[31mERROR: google-colab 1.0.0 has requirement ipython~=5.5.0, but you'll have ipython 7.0.0 which is incompatible.\u001b[0m\n",
            "Installing collected packages: prompt-toolkit, ipython\n",
            "  Found existing installation: prompt-toolkit 1.0.18\n",
            "    Uninstalling prompt-toolkit-1.0.18:\n",
            "      Successfully uninstalled prompt-toolkit-1.0.18\n",
            "  Found existing installation: ipython 5.5.0\n",
            "    Uninstalling ipython-5.5.0:\n",
            "      Successfully uninstalled ipython-5.5.0\n",
            "Successfully installed ipython-7.0.0 prompt-toolkit-2.0.10\n"
          ],
          "name": "stdout"
        },
        {
          "output_type": "display_data",
          "data": {
            "application/vnd.colab-display-data+json": {
              "pip_warning": {
                "packages": [
                  "IPython",
                  "prompt_toolkit"
                ]
              }
            }
          },
          "metadata": {
            "tags": []
          }
        }
      ]
    },
    {
      "cell_type": "markdown",
      "metadata": {
        "id": "--aYFo85AlmP"
      },
      "source": [
        "You need to restart the runtime here to use newly installed packages."
      ]
    },
    {
      "cell_type": "code",
      "metadata": {
        "id": "9pM_UtQMAP9m"
      },
      "source": [
        "import vaex\n",
        "vaex.multithreading.thread_count_default = 2\n",
        "import vaex.ml\n",
        "\n",
        "import numpy as np\n",
        "import pylab as plt"
      ],
      "execution_count": null,
      "outputs": []
    },
    {
      "cell_type": "code",
      "metadata": {
        "colab": {
          "base_uri": "https://localhost:8080/",
          "height": 291
        },
        "id": "oRDEA2plAUcn",
        "outputId": "d82befe9-faa8-46ee-8e23-f09363154c2c"
      },
      "source": [
        "df = vaex.ml.datasets.load_iris()\n",
        "df"
      ],
      "execution_count": null,
      "outputs": [
        {
          "output_type": "execute_result",
          "data": {
            "text/plain": [
              "#    sepal_length    sepal_width    petal_length    petal_width    class_\n",
              "0    5.9             3.0            4.2             1.5            1\n",
              "1    6.1             3.0            4.6             1.4            1\n",
              "2    6.6             2.9            4.6             1.3            1\n",
              "3    6.7             3.3            5.7             2.1            2\n",
              "4    5.5             4.2            1.4             0.2            0\n",
              "...  ...             ...            ...             ...            ...\n",
              "145  5.2             3.4            1.4             0.2            0\n",
              "146  5.1             3.8            1.6             0.2            0\n",
              "147  5.8             2.6            4.0             1.2            1\n",
              "148  5.7             3.8            1.7             0.3            0\n",
              "149  6.2             2.9            4.3             1.3            1"
            ],
            "text/html": [
              "<table>\n",
              "<thead>\n",
              "<tr><th>#                              </th><th>sepal_length  </th><th>sepal_width  </th><th>petal_length  </th><th>petal_width  </th><th>class_  </th></tr>\n",
              "</thead>\n",
              "<tbody>\n",
              "<tr><td><i style='opacity: 0.6'>0</i>  </td><td>5.9           </td><td>3.0          </td><td>4.2           </td><td>1.5          </td><td>1       </td></tr>\n",
              "<tr><td><i style='opacity: 0.6'>1</i>  </td><td>6.1           </td><td>3.0          </td><td>4.6           </td><td>1.4          </td><td>1       </td></tr>\n",
              "<tr><td><i style='opacity: 0.6'>2</i>  </td><td>6.6           </td><td>2.9          </td><td>4.6           </td><td>1.3          </td><td>1       </td></tr>\n",
              "<tr><td><i style='opacity: 0.6'>3</i>  </td><td>6.7           </td><td>3.3          </td><td>5.7           </td><td>2.1          </td><td>2       </td></tr>\n",
              "<tr><td><i style='opacity: 0.6'>4</i>  </td><td>5.5           </td><td>4.2          </td><td>1.4           </td><td>0.2          </td><td>0       </td></tr>\n",
              "<tr><td>...                            </td><td>...           </td><td>...          </td><td>...           </td><td>...          </td><td>...     </td></tr>\n",
              "<tr><td><i style='opacity: 0.6'>145</i></td><td>5.2           </td><td>3.4          </td><td>1.4           </td><td>0.2          </td><td>0       </td></tr>\n",
              "<tr><td><i style='opacity: 0.6'>146</i></td><td>5.1           </td><td>3.8          </td><td>1.6           </td><td>0.2          </td><td>0       </td></tr>\n",
              "<tr><td><i style='opacity: 0.6'>147</i></td><td>5.8           </td><td>2.6          </td><td>4.0           </td><td>1.2          </td><td>1       </td></tr>\n",
              "<tr><td><i style='opacity: 0.6'>148</i></td><td>5.7           </td><td>3.8          </td><td>1.7           </td><td>0.3          </td><td>0       </td></tr>\n",
              "<tr><td><i style='opacity: 0.6'>149</i></td><td>6.2           </td><td>2.9          </td><td>4.3           </td><td>1.3          </td><td>1       </td></tr>\n",
              "</tbody>\n",
              "</table>"
            ]
          },
          "metadata": {
            "tags": []
          },
          "execution_count": 2
        }
      ]
    },
    {
      "cell_type": "code",
      "metadata": {
        "colab": {
          "base_uri": "https://localhost:8080/",
          "height": 318
        },
        "id": "EzDSGZVZAXXV",
        "outputId": "9d174d7e-baeb-4426-b54f-cd156c793782"
      },
      "source": [
        "df.scatter(df.petal_length, df.petal_width, c_expr=df.class_);"
      ],
      "execution_count": null,
      "outputs": [
        {
          "output_type": "stream",
          "text": [
            "/usr/local/lib/python3.7/dist-packages/vaex/viz/mpl.py:205: UserWarning: `scatter` is deprecated and it will be removed in version 5.x. Please use `df.viz.scatter` instead.\n",
            "  warnings.warn('`scatter` is deprecated and it will be removed in version 5.x. Please use `df.viz.scatter` instead.')\n"
          ],
          "name": "stderr"
        },
        {
          "output_type": "display_data",
          "data": {
            "image/png": "[encoded data removed]",
            "text/plain": [
              "<Figure size 432x288 with 1 Axes>"
            ]
          },
          "metadata": {
            "tags": [],
            "needs_background": "light"
          }
        }
      ]
    },
    {
      "cell_type": "code",
      "metadata": {
        "colab": {
          "base_uri": "https://localhost:8080/"
        },
        "id": "VnsX8mg0AuZm",
        "outputId": "ee005922-a8f3-46fc-a936-80a6275b4e6a"
      },
      "source": [
        "df.shuffle().export(\"shuffled.hdf5\")\n",
        "df = vaex.open(\"shuffled.hdf5\")\n",
        "df_train, df_test = df.ml.train_test_split(test_size=0.2)"
      ],
      "execution_count": null,
      "outputs": [
        {
          "output_type": "stream",
          "text": [
            "/usr/local/lib/python3.7/dist-packages/vaex/ml/__init__.py:31: UserWarning: Make sure the DataFrame is shuffled\n",
            "  warnings.warn('Make sure the DataFrame is shuffled')\n"
          ],
          "name": "stderr"
        }
      ]
    },
    {
      "cell_type": "code",
      "metadata": {
        "colab": {
          "base_uri": "https://localhost:8080/"
        },
        "id": "NOHp3yl7AyAD",
        "outputId": "8d2c6f1a-2196-4e40-8a5a-645836ecc326"
      },
      "source": [
        "features = df_train.column_names[:4]\n",
        "features"
      ],
      "execution_count": null,
      "outputs": [
        {
          "output_type": "execute_result",
          "data": {
            "text/plain": [
              "['sepal_length', 'sepal_width', 'petal_length', 'petal_width']"
            ]
          },
          "metadata": {
            "tags": []
          },
          "execution_count": 6
        }
      ]
    },
    {
      "cell_type": "code",
      "metadata": {
        "colab": {
          "base_uri": "https://localhost:8080/",
          "height": 291
        },
        "id": "TA4zwPOBBZZC",
        "outputId": "5724c1d9-d2fb-418c-af21-e818b4dcf2d8"
      },
      "source": [
        "pca = vaex.ml.PCA(features=features, n_components=4)\n",
        "df_train = pca.fit_transform(df_train)\n",
        "df_train"
      ],
      "execution_count": null,
      "outputs": [
        {
          "output_type": "execute_result",
          "data": {
            "text/plain": [
              "#    sepal_length    sepal_width    petal_length    petal_width    class_    PCA_0                 PCA_1                 PCA_2                 PCA_3\n",
              "0    5.2             3.5            1.5             0.2            0         2.568713586840249     0.3670395451364764    0.09456798683369383   -0.01133770793405331\n",
              "1    6.9             3.2            5.7             2.3            2         -2.420623123419454    0.4031245768756558    -0.22770390438319071  0.165743884194422\n",
              "2    5.5             2.3            4.0             1.3            1         -0.18239831039579563  -0.8178024786242812   0.16643771705285243   0.0998713271981017\n",
              "3    6.9             3.1            5.1             2.3            2         -1.9160356139446175   0.4325085874684942    -0.13162002972812348  0.490237203439567\n",
              "4    6.3             2.5            4.9             1.5            1         -1.2956107717031755   -0.31572872481754216  0.34042210315951926   0.008168573043919186\n",
              "...  ...             ...            ...             ...            ...       ...                   ...                   ...                   ...\n",
              "115  6.1             2.6            5.6             1.4            2         -1.7776801115848906   -0.4864741712865185   0.17994472858548538   -0.5043762116392749\n",
              "116  5.4             3.9            1.7             0.4            0         2.2897304867856394    0.744865747885167     -0.14822862113867102  -0.032915417672087055\n",
              "117  6.3             3.4            5.6             2.4            2         -2.1358439516567094   0.1696647484921654    -0.7404483068642085   0.01914746682462054\n",
              "118  5.0             3.4            1.5             0.2            0         2.631974087415509     0.16300588277104427   0.03670639017265753   -0.0432815542984476\n",
              "119  6.3             2.5            5.0             1.9            2         -1.5244962767247128   -0.35798890852319715  0.10403152066310328   0.2530052430327201"
            ],
            "text/html": [
              "<table>\n",
              "<thead>\n",
              "<tr><th>#                              </th><th>sepal_length  </th><th>sepal_width  </th><th>petal_length  </th><th>petal_width  </th><th>class_  </th><th>PCA_0               </th><th>PCA_1               </th><th>PCA_2               </th><th>PCA_3                </th></tr>\n",
              "</thead>\n",
              "<tbody>\n",
              "<tr><td><i style='opacity: 0.6'>0</i>  </td><td>5.2           </td><td>3.5          </td><td>1.5           </td><td>0.2          </td><td>0       </td><td>2.568713586840249   </td><td>0.3670395451364764  </td><td>0.09456798683369383 </td><td>-0.01133770793405331 </td></tr>\n",
              "<tr><td><i style='opacity: 0.6'>1</i>  </td><td>6.9           </td><td>3.2          </td><td>5.7           </td><td>2.3          </td><td>2       </td><td>-2.420623123419454  </td><td>0.4031245768756558  </td><td>-0.22770390438319071</td><td>0.165743884194422    </td></tr>\n",
              "<tr><td><i style='opacity: 0.6'>2</i>  </td><td>5.5           </td><td>2.3          </td><td>4.0           </td><td>1.3          </td><td>1       </td><td>-0.18239831039579563</td><td>-0.8178024786242812 </td><td>0.16643771705285243 </td><td>0.0998713271981017   </td></tr>\n",
              "<tr><td><i style='opacity: 0.6'>3</i>  </td><td>6.9           </td><td>3.1          </td><td>5.1           </td><td>2.3          </td><td>2       </td><td>-1.9160356139446175 </td><td>0.4325085874684942  </td><td>-0.13162002972812348</td><td>0.490237203439567    </td></tr>\n",
              "<tr><td><i style='opacity: 0.6'>4</i>  </td><td>6.3           </td><td>2.5          </td><td>4.9           </td><td>1.5          </td><td>1       </td><td>-1.2956107717031755 </td><td>-0.31572872481754216</td><td>0.34042210315951926 </td><td>0.008168573043919186 </td></tr>\n",
              "<tr><td>...                            </td><td>...           </td><td>...          </td><td>...           </td><td>...          </td><td>...     </td><td>...                 </td><td>...                 </td><td>...                 </td><td>...                  </td></tr>\n",
              "<tr><td><i style='opacity: 0.6'>115</i></td><td>6.1           </td><td>2.6          </td><td>5.6           </td><td>1.4          </td><td>2       </td><td>-1.7776801115848906 </td><td>-0.4864741712865185 </td><td>0.17994472858548538 </td><td>-0.5043762116392749  </td></tr>\n",
              "<tr><td><i style='opacity: 0.6'>116</i></td><td>5.4           </td><td>3.9          </td><td>1.7           </td><td>0.4          </td><td>0       </td><td>2.2897304867856394  </td><td>0.744865747885167   </td><td>-0.14822862113867102</td><td>-0.032915417672087055</td></tr>\n",
              "<tr><td><i style='opacity: 0.6'>117</i></td><td>6.3           </td><td>3.4          </td><td>5.6           </td><td>2.4          </td><td>2       </td><td>-2.1358439516567094 </td><td>0.1696647484921654  </td><td>-0.7404483068642085 </td><td>0.01914746682462054  </td></tr>\n",
              "<tr><td><i style='opacity: 0.6'>118</i></td><td>5.0           </td><td>3.4          </td><td>1.5           </td><td>0.2          </td><td>0       </td><td>2.631974087415509   </td><td>0.16300588277104427 </td><td>0.03670639017265753 </td><td>-0.0432815542984476  </td></tr>\n",
              "<tr><td><i style='opacity: 0.6'>119</i></td><td>6.3           </td><td>2.5          </td><td>5.0           </td><td>1.9          </td><td>2       </td><td>-1.5244962767247128 </td><td>-0.35798890852319715</td><td>0.10403152066310328 </td><td>0.2530052430327201   </td></tr>\n",
              "</tbody>\n",
              "</table>"
            ]
          },
          "metadata": {
            "tags": []
          },
          "execution_count": 7
        }
      ]
    },
    {
      "cell_type": "code",
      "metadata": {
        "id": "j48v0KzgBb7q"
      },
      "source": [
        "import lightgbm\n",
        "import vaex.ml.sklearn"
      ],
      "execution_count": null,
      "outputs": []
    },
    {
      "cell_type": "code",
      "metadata": {
        "id": "paZA3BZUBfjP"
      },
      "source": [
        "# Features on which to train the model\n",
        "train_features = df_train.get_column_names(regex='PCA_.*')\n",
        "# The target column\n",
        "target = 'class_'"
      ],
      "execution_count": null,
      "outputs": []
    },
    {
      "cell_type": "code",
      "metadata": {
        "id": "scaCG3FmBj3i"
      },
      "source": [
        "# Instantiate the LightGBM Classifier\n",
        "booster = lightgbm.sklearn.LGBMClassifier(num_leaves=5,\n",
        "                                          max_depth=5,\n",
        "                                          n_estimators=100,\n",
        "                                          random_state=42)"
      ],
      "execution_count": null,
      "outputs": []
    },
    {
      "cell_type": "code",
      "metadata": {
        "id": "Ykt6lgKtBnW5"
      },
      "source": [
        "# Make it a vaex transformer (for the automagic pipeline and lazy predictions)\n",
        "model = vaex.ml.sklearn.Predictor(features=train_features,\n",
        "                                  target=target,\n",
        "                                  model=booster,\n",
        "                                  prediction_name='prediction')"
      ],
      "execution_count": null,
      "outputs": []
    },
    {
      "cell_type": "code",
      "metadata": {
        "colab": {
          "base_uri": "https://localhost:8080/",
          "height": 291
        },
        "id": "QARhhTtcBpaU",
        "outputId": "b6d96af2-7e9c-48f7-ef4d-d0103845d959"
      },
      "source": [
        "# Train and predict\n",
        "model.fit(df=df_train)\n",
        "df_train = model.transform(df=df_train)\n",
        "\n",
        "df_train"
      ],
      "execution_count": null,
      "outputs": [
        {
          "output_type": "execute_result",
          "data": {
            "text/plain": [
              "#    sepal_length    sepal_width    petal_length    petal_width    class_    PCA_0                 PCA_1                 PCA_2                 PCA_3                  prediction\n",
              "0    5.2             3.5            1.5             0.2            0         2.568713586840249     0.3670395451364764    0.09456798683369383   -0.01133770793405331   0\n",
              "1    6.9             3.2            5.7             2.3            2         -2.420623123419454    0.4031245768756558    -0.22770390438319071  0.165743884194422      2\n",
              "2    5.5             2.3            4.0             1.3            1         -0.18239831039579563  -0.8178024786242812   0.16643771705285243   0.0998713271981017     1\n",
              "3    6.9             3.1            5.1             2.3            2         -1.9160356139446175   0.4325085874684942    -0.13162002972812348  0.490237203439567      2\n",
              "4    6.3             2.5            4.9             1.5            1         -1.2956107717031755   -0.31572872481754216  0.34042210315951926   0.008168573043919186   1\n",
              "...  ...             ...            ...             ...            ...       ...                   ...                   ...                   ...                    ...\n",
              "115  6.1             2.6            5.6             1.4            2         -1.7776801115848906   -0.4864741712865185   0.17994472858548538   -0.5043762116392749    2\n",
              "116  5.4             3.9            1.7             0.4            0         2.2897304867856394    0.744865747885167     -0.14822862113867102  -0.032915417672087055  0\n",
              "117  6.3             3.4            5.6             2.4            2         -2.1358439516567094   0.1696647484921654    -0.7404483068642085   0.01914746682462054    2\n",
              "118  5.0             3.4            1.5             0.2            0         2.631974087415509     0.16300588277104427   0.03670639017265753   -0.0432815542984476    0\n",
              "119  6.3             2.5            5.0             1.9            2         -1.5244962767247128   -0.35798890852319715  0.10403152066310328   0.2530052430327201     2"
            ],
            "text/html": [
              "<table>\n",
              "<thead>\n",
              "<tr><th>#                              </th><th>sepal_length  </th><th>sepal_width  </th><th>petal_length  </th><th>petal_width  </th><th>class_  </th><th>PCA_0               </th><th>PCA_1               </th><th>PCA_2               </th><th>PCA_3                </th><th>prediction  </th></tr>\n",
              "</thead>\n",
              "<tbody>\n",
              "<tr><td><i style='opacity: 0.6'>0</i>  </td><td>5.2           </td><td>3.5          </td><td>1.5           </td><td>0.2          </td><td>0       </td><td>2.568713586840249   </td><td>0.3670395451364764  </td><td>0.09456798683369383 </td><td>-0.01133770793405331 </td><td>0           </td></tr>\n",
              "<tr><td><i style='opacity: 0.6'>1</i>  </td><td>6.9           </td><td>3.2          </td><td>5.7           </td><td>2.3          </td><td>2       </td><td>-2.420623123419454  </td><td>0.4031245768756558  </td><td>-0.22770390438319071</td><td>0.165743884194422    </td><td>2           </td></tr>\n",
              "<tr><td><i style='opacity: 0.6'>2</i>  </td><td>5.5           </td><td>2.3          </td><td>4.0           </td><td>1.3          </td><td>1       </td><td>-0.18239831039579563</td><td>-0.8178024786242812 </td><td>0.16643771705285243 </td><td>0.0998713271981017   </td><td>1           </td></tr>\n",
              "<tr><td><i style='opacity: 0.6'>3</i>  </td><td>6.9           </td><td>3.1          </td><td>5.1           </td><td>2.3          </td><td>2       </td><td>-1.9160356139446175 </td><td>0.4325085874684942  </td><td>-0.13162002972812348</td><td>0.490237203439567    </td><td>2           </td></tr>\n",
              "<tr><td><i style='opacity: 0.6'>4</i>  </td><td>6.3           </td><td>2.5          </td><td>4.9           </td><td>1.5          </td><td>1       </td><td>-1.2956107717031755 </td><td>-0.31572872481754216</td><td>0.34042210315951926 </td><td>0.008168573043919186 </td><td>1           </td></tr>\n",
              "<tr><td>...                            </td><td>...           </td><td>...          </td><td>...           </td><td>...          </td><td>...     </td><td>...                 </td><td>...                 </td><td>...                 </td><td>...                  </td><td>...         </td></tr>\n",
              "<tr><td><i style='opacity: 0.6'>115</i></td><td>6.1           </td><td>2.6          </td><td>5.6           </td><td>1.4          </td><td>2       </td><td>-1.7776801115848906 </td><td>-0.4864741712865185 </td><td>0.17994472858548538 </td><td>-0.5043762116392749  </td><td>2           </td></tr>\n",
              "<tr><td><i style='opacity: 0.6'>116</i></td><td>5.4           </td><td>3.9          </td><td>1.7           </td><td>0.4          </td><td>0       </td><td>2.2897304867856394  </td><td>0.744865747885167   </td><td>-0.14822862113867102</td><td>-0.032915417672087055</td><td>0           </td></tr>\n",
              "<tr><td><i style='opacity: 0.6'>117</i></td><td>6.3           </td><td>3.4          </td><td>5.6           </td><td>2.4          </td><td>2       </td><td>-2.1358439516567094 </td><td>0.1696647484921654  </td><td>-0.7404483068642085 </td><td>0.01914746682462054  </td><td>2           </td></tr>\n",
              "<tr><td><i style='opacity: 0.6'>118</i></td><td>5.0           </td><td>3.4          </td><td>1.5           </td><td>0.2          </td><td>0       </td><td>2.631974087415509   </td><td>0.16300588277104427 </td><td>0.03670639017265753 </td><td>-0.0432815542984476  </td><td>0           </td></tr>\n",
              "<tr><td><i style='opacity: 0.6'>119</i></td><td>6.3           </td><td>2.5          </td><td>5.0           </td><td>1.9          </td><td>2       </td><td>-1.5244962767247128 </td><td>-0.35798890852319715</td><td>0.10403152066310328 </td><td>0.2530052430327201   </td><td>2           </td></tr>\n",
              "</tbody>\n",
              "</table>"
            ]
          },
          "metadata": {
            "tags": []
          },
          "execution_count": 12
        }
      ]
    },
    {
      "cell_type": "code",
      "metadata": {
        "colab": {
          "base_uri": "https://localhost:8080/",
          "height": 291
        },
        "id": "-QbjyLNUBvuT",
        "outputId": "37f24fa2-7e4a-4fdd-f337-9e1b36079239"
      },
      "source": [
        "state = df_train.state_get()\n",
        "df_test.state_set(state)\n",
        "\n",
        "df_test"
      ],
      "execution_count": null,
      "outputs": [
        {
          "output_type": "execute_result",
          "data": {
            "text/plain": [
              "#    sepal_length    sepal_width    petal_length    petal_width    class_    PCA_0                PCA_1                 PCA_2                 PCA_3                 prediction\n",
              "0    6.5             3.2            5.1             2.0            2         -1.6549265727485285  0.2639260629354394    -0.24770462180944067  0.10303393833319496   2\n",
              "1    6.0             3.4            4.5             1.6            1         -0.7991732570110774  0.2128673308456351    -0.38317948275824965  -0.13513791250699264  1\n",
              "2    4.8             3.0            1.4             0.1            0         2.7895320529667376   -0.23825239608654208  0.21559677476728145   0.003253501725940744  0\n",
              "3    7.9             3.8            6.4             2.0            2         -3.219657776249763   1.3955809454634271    0.13159312638074994   -0.2672452885456579   2\n",
              "4    6.3             2.7            4.9             1.8            2         -1.384986029203057   -0.1874523706802681   0.052707238788897326  0.15909039762960742   2\n",
              "...  ...             ...            ...             ...            ...       ...                  ...                   ...                   ...                   ...\n",
              "25   6.3             3.3            6.0             2.5            2         -2.5231266756612154  0.021212320786325525  -0.765973588630523    -0.06642372217402892  2\n",
              "26   6.3             2.3            4.4             1.3            1         -0.8140305827227013  -0.3645009136038568   0.6026993661814943    0.1722186644313512    1\n",
              "27   5.8             2.7            4.1             1.0            1         -0.2328273104650135  -0.32619934055514116  0.27526490259329983   -0.20662486246816167  1\n",
              "28   4.4             3.2            1.3             0.2            0         3.0020081676450845   -0.34123079297161624  -0.1816707784267264   -0.0769203197210877   0\n",
              "29   6.4             2.9            4.3             1.3            1         -0.7103217612127456  0.15920922759076042   0.32115771207400895   0.04689322665692497   1"
            ],
            "text/html": [
              "<table>\n",
              "<thead>\n",
              "<tr><th>#                             </th><th>sepal_length  </th><th>sepal_width  </th><th>petal_length  </th><th>petal_width  </th><th>class_  </th><th>PCA_0              </th><th>PCA_1               </th><th>PCA_2               </th><th>PCA_3               </th><th>prediction  </th></tr>\n",
              "</thead>\n",
              "<tbody>\n",
              "<tr><td><i style='opacity: 0.6'>0</i> </td><td>6.5           </td><td>3.2          </td><td>5.1           </td><td>2.0          </td><td>2       </td><td>-1.6549265727485285</td><td>0.2639260629354394  </td><td>-0.24770462180944067</td><td>0.10303393833319496 </td><td>2           </td></tr>\n",
              "<tr><td><i style='opacity: 0.6'>1</i> </td><td>6.0           </td><td>3.4          </td><td>4.5           </td><td>1.6          </td><td>1       </td><td>-0.7991732570110774</td><td>0.2128673308456351  </td><td>-0.38317948275824965</td><td>-0.13513791250699264</td><td>1           </td></tr>\n",
              "<tr><td><i style='opacity: 0.6'>2</i> </td><td>4.8           </td><td>3.0          </td><td>1.4           </td><td>0.1          </td><td>0       </td><td>2.7895320529667376 </td><td>-0.23825239608654208</td><td>0.21559677476728145 </td><td>0.003253501725940744</td><td>0           </td></tr>\n",
              "<tr><td><i style='opacity: 0.6'>3</i> </td><td>7.9           </td><td>3.8          </td><td>6.4           </td><td>2.0          </td><td>2       </td><td>-3.219657776249763 </td><td>1.3955809454634271  </td><td>0.13159312638074994 </td><td>-0.2672452885456579 </td><td>2           </td></tr>\n",
              "<tr><td><i style='opacity: 0.6'>4</i> </td><td>6.3           </td><td>2.7          </td><td>4.9           </td><td>1.8          </td><td>2       </td><td>-1.384986029203057 </td><td>-0.1874523706802681 </td><td>0.052707238788897326</td><td>0.15909039762960742 </td><td>2           </td></tr>\n",
              "<tr><td>...                           </td><td>...           </td><td>...          </td><td>...           </td><td>...          </td><td>...     </td><td>...                </td><td>...                 </td><td>...                 </td><td>...                 </td><td>...         </td></tr>\n",
              "<tr><td><i style='opacity: 0.6'>25</i></td><td>6.3           </td><td>3.3          </td><td>6.0           </td><td>2.5          </td><td>2       </td><td>-2.5231266756612154</td><td>0.021212320786325525</td><td>-0.765973588630523  </td><td>-0.06642372217402892</td><td>2           </td></tr>\n",
              "<tr><td><i style='opacity: 0.6'>26</i></td><td>6.3           </td><td>2.3          </td><td>4.4           </td><td>1.3          </td><td>1       </td><td>-0.8140305827227013</td><td>-0.3645009136038568 </td><td>0.6026993661814943  </td><td>0.1722186644313512  </td><td>1           </td></tr>\n",
              "<tr><td><i style='opacity: 0.6'>27</i></td><td>5.8           </td><td>2.7          </td><td>4.1           </td><td>1.0          </td><td>1       </td><td>-0.2328273104650135</td><td>-0.32619934055514116</td><td>0.27526490259329983 </td><td>-0.20662486246816167</td><td>1           </td></tr>\n",
              "<tr><td><i style='opacity: 0.6'>28</i></td><td>4.4           </td><td>3.2          </td><td>1.3           </td><td>0.2          </td><td>0       </td><td>3.0020081676450845 </td><td>-0.34123079297161624</td><td>-0.1816707784267264 </td><td>-0.0769203197210877 </td><td>0           </td></tr>\n",
              "<tr><td><i style='opacity: 0.6'>29</i></td><td>6.4           </td><td>2.9          </td><td>4.3           </td><td>1.3          </td><td>1       </td><td>-0.7103217612127456</td><td>0.15920922759076042 </td><td>0.32115771207400895 </td><td>0.04689322665692497 </td><td>1           </td></tr>\n",
              "</tbody>\n",
              "</table>"
            ]
          },
          "metadata": {
            "tags": []
          },
          "execution_count": 13
        }
      ]
    },
    {
      "cell_type": "code",
      "metadata": {
        "colab": {
          "base_uri": "https://localhost:8080/"
        },
        "id": "jv4iDXr0B2Ah",
        "outputId": "3955aace-cb4d-45e4-ca80-f9f1c3cbfcd1"
      },
      "source": [
        "from sklearn.metrics import accuracy_score\n",
        "\n",
        "acc = accuracy_score(y_true=df_test.class_.values, y_pred=df_test.prediction.values)\n",
        "acc *= 100.\n",
        "print(f'Test set accuracy: {acc}%')"
      ],
      "execution_count": null,
      "outputs": [
        {
          "output_type": "stream",
          "text": [
            "Test set accuracy: 96.66666666666667%\n"
          ],
          "name": "stdout"
        }
      ]
    },
    {
      "cell_type": "code",
      "metadata": {
        "colab": {
          "base_uri": "https://localhost:8080/",
          "height": 322
        },
        "id": "5IjXUMyHB46X",
        "outputId": "2e5f08c3-1643-4f45-8be2-04516cd81b2a"
      },
      "source": [
        "plt.figure(figsize=(8, 4))\n",
        "df_test.scatter(df_test.PCA_0, df_test.PCA_1, c_expr=df_test.class_, s=50)\n",
        "plt.show()"
      ],
      "execution_count": null,
      "outputs": [
        {
          "output_type": "stream",
          "text": [
            "/usr/local/lib/python3.7/dist-packages/vaex/viz/mpl.py:205: UserWarning: `scatter` is deprecated and it will be removed in version 5.x. Please use `df.viz.scatter` instead.\n",
            "  warnings.warn('`scatter` is deprecated and it will be removed in version 5.x. Please use `df.viz.scatter` instead.')\n"
          ],
          "name": "stderr"
        },
        {
          "output_type": "display_data",
          "data": {
            "image/png": "[encoded data removed]",
            "text/plain": [
              "<Figure size 576x288 with 1 Axes>"
            ]
          },
          "metadata": {
            "tags": [],
            "needs_background": "light"
          }
        }
      ]
    }
  ]
}
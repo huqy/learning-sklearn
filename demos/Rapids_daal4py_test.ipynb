{
  "nbformat": 4,
  "nbformat_minor": 0,
  "metadata": {
    "colab": {
      "name": "Rapids_daal4py_test.ipynb",
      "provenance": []
    },
    "kernelspec": {
      "name": "python3",
      "display_name": "Python 3"
    },
    "accelerator": "GPU"
  },
  "cells": [
    {
      "cell_type": "code",
      "metadata": {
        "colab": {
          "base_uri": "https://localhost:8080/"
        },
        "id": "tuM-_n-P1qdU",
        "outputId": "4393c7c7-a912-43c7-decb-bf8a22cbf698"
      },
      "source": [
        "!nvidia-smi"
      ],
      "execution_count": null,
      "outputs": [
        {
          "output_type": "stream",
          "text": [
            "Fri Feb 19 19:49:31 2021       \n",
            "+-----------------------------------------------------------------------------+\n",
            "| NVIDIA-SMI 460.39       Driver Version: 460.32.03    CUDA Version: 11.2     |\n",
            "|-------------------------------+----------------------+----------------------+\n",
            "| GPU  Name        Persistence-M| Bus-Id        Disp.A | Volatile Uncorr. ECC |\n",
            "| Fan  Temp  Perf  Pwr:Usage/Cap|         Memory-Usage | GPU-Util  Compute M. |\n",
            "|                               |                      |               MIG M. |\n",
            "|===============================+======================+======================|\n",
            "|   0  Tesla T4            Off  | 00000000:00:04.0 Off |                    0 |\n",
            "| N/A   35C    P8     9W /  70W |      0MiB / 15109MiB |      0%      Default |\n",
            "|                               |                      |                  N/A |\n",
            "+-------------------------------+----------------------+----------------------+\n",
            "                                                                               \n",
            "+-----------------------------------------------------------------------------+\n",
            "| Processes:                                                                  |\n",
            "|  GPU   GI   CI        PID   Type   Process name                  GPU Memory |\n",
            "|        ID   ID                                                   Usage      |\n",
            "|=============================================================================|\n",
            "|  No running processes found                                                 |\n",
            "+-----------------------------------------------------------------------------+\n"
          ],
          "name": "stdout"
        }
      ]
    },
    {
      "cell_type": "markdown",
      "metadata": {
        "id": "9P40ll5X3fBm"
      },
      "source": [
        "# Prepare the packages"
      ]
    },
    {
      "cell_type": "markdown",
      "metadata": {
        "id": "7PhgtSyF2Cij"
      },
      "source": [
        "## Install RAPIDS"
      ]
    },
    {
      "cell_type": "code",
      "metadata": {
        "colab": {
          "base_uri": "https://localhost:8080/"
        },
        "id": "4lfmsMlj1xdw",
        "outputId": "d67e01e4-43f0-4d93-beda-4d527ff60e38"
      },
      "source": [
        "# Install RAPIDS\n",
        "!git clone https://github.com/rapidsai/rapidsai-csp-utils.git\n",
        "!bash rapidsai-csp-utils/colab/rapids-colab.sh stable\n",
        "\n",
        "import sys, os\n",
        "\n",
        "dist_package_index = sys.path.index('/usr/local/lib/python3.6/dist-packages')\n",
        "sys.path = sys.path[:dist_package_index] + ['/usr/local/lib/python3.6/site-packages'] + sys.path[dist_package_index:]\n",
        "sys.path\n",
        "exec(open('rapidsai-csp-utils/colab/update_modules.py').read(), globals())"
      ],
      "execution_count": null,
      "outputs": [
        {
          "output_type": "stream",
          "text": [
            "Cloning into 'rapidsai-csp-utils'...\n",
            "remote: Enumerating objects: 19, done.\u001b[K\n",
            "remote: Counting objects: 100% (19/19), done.\u001b[K\n",
            "remote: Compressing objects: 100% (19/19), done.\u001b[K\n",
            "remote: Total 190 (delta 8), reused 0 (delta 0), pack-reused 171\u001b[K\n",
            "Receiving objects: 100% (190/190), 58.54 KiB | 8.36 MiB/s, done.\n",
            "Resolving deltas: 100% (70/70), done.\n",
            "PLEASE READ\n",
            "********************************************************************************************************\n",
            "Changes:\n",
            "1. IMPORTANT CHANGES: RAPIDS on Colab will be pegged to 0.14 Stable until further notice.  This version of RAPIDS, while works, is outdated.  We have alternative solutions, https://app.blazingsql.com, to run the latest versions of RAPIDS\n",
            "2. Default stable version is now 0.14.  Nightly will redirect to 0.14.\n",
            "3. You can now declare your RAPIDSAI version as a CLI option and skip the user prompts (ex: '0.14' or '0.15', between 0.13 to 0.14, without the quotes): \n",
            "        \"!bash rapidsai-csp-utils/colab/rapids-colab.sh <version/label>\"\n",
            "        Examples: '!bash rapidsai-csp-utils/colab/rapids-colab.sh 0.14', or '!bash rapidsai-csp-utils/colab/rapids-colab.sh stable', or '!bash rapidsai-csp-utils/colab/rapids-colab.sh s'\n",
            "                  '!bash rapidsai-csp-utils/colab/rapids-colab.sh 0.15, or '!bash rapidsai-csp-utils/colab/rapids-colab.sh nightly', or '!bash rapidsai-csp-utils/colab/rapids-colab.sh n'\n",
            "Enjoy using RAPIDS!  If you have any issues with or suggestions for RAPIDSAI on Colab, please create a bug request on https://github.com/rapidsai/rapidsai-csp-utils/issues/new.  Thanks!\n",
            "Starting to prep Colab for install RAPIDS Version 0.14 stable\n",
            "Checking for GPU type:\n",
            "***********************************************************************\n",
            "Woo! Your instance has the right kind of GPU, a 'Tesla T4'!\n",
            "***********************************************************************\n",
            "\n",
            "Removing conflicting packages, will replace with RAPIDS compatible versions\n",
            "Uninstalling xgboost-0.90:\n",
            "  Successfully uninstalled xgboost-0.90\n",
            "Uninstalling dask-2.12.0:\n",
            "  Successfully uninstalled dask-2.12.0\n",
            "Uninstalling distributed-1.25.3:\n",
            "  Successfully uninstalled distributed-1.25.3\n",
            "Installing conda\n",
            "--2021-02-19 19:49:57--  https://repo.continuum.io/miniconda/Miniconda3-4.5.4-Linux-x86_64.sh\n",
            "Resolving repo.continuum.io (repo.continuum.io)... 104.18.200.79, 104.18.201.79, 2606:4700::6812:c84f, ...\n",
            "Connecting to repo.continuum.io (repo.continuum.io)|104.18.200.79|:443... connected.\n",
            "HTTP request sent, awaiting response... 301 Moved Permanently\n",
            "Location: https://repo.anaconda.com/miniconda/Miniconda3-4.5.4-Linux-x86_64.sh [following]\n",
            "--2021-02-19 19:49:57--  https://repo.anaconda.com/miniconda/Miniconda3-4.5.4-Linux-x86_64.sh\n",
            "Resolving repo.anaconda.com (repo.anaconda.com)... 104.16.130.3, 104.16.131.3, 2606:4700::6810:8303, ...\n",
            "Connecting to repo.anaconda.com (repo.anaconda.com)|104.16.130.3|:443... connected.\n",
            "HTTP request sent, awaiting response... 200 OK\n",
            "Length: 58468498 (56M) [application/x-sh]\n",
            "Saving to: ‘Miniconda3-4.5.4-Linux-x86_64.sh’\n",
            "\n",
            "Miniconda3-4.5.4-Li 100%[===================>]  55.76M   209MB/s    in 0.3s    \n",
            "\n",
            "2021-02-19 19:49:57 (209 MB/s) - ‘Miniconda3-4.5.4-Linux-x86_64.sh’ saved [58468498/58468498]\n",
            "\n",
            "PREFIX=/usr/local\n",
            "installing: python-3.6.5-hc3d631a_2 ...\n",
            "Python 3.6.5 :: Anaconda, Inc.\n",
            "installing: ca-certificates-2018.03.07-0 ...\n",
            "installing: conda-env-2.6.0-h36134e3_1 ...\n",
            "installing: libgcc-ng-7.2.0-hdf63c60_3 ...\n",
            "installing: libstdcxx-ng-7.2.0-hdf63c60_3 ...\n",
            "installing: libffi-3.2.1-hd88cf55_4 ...\n",
            "installing: ncurses-6.1-hf484d3e_0 ...\n",
            "installing: openssl-1.0.2o-h20670df_0 ...\n",
            "installing: tk-8.6.7-hc745277_3 ...\n",
            "installing: xz-5.2.4-h14c3975_4 ...\n",
            "installing: yaml-0.1.7-had09818_2 ...\n",
            "installing: zlib-1.2.11-ha838bed_2 ...\n",
            "installing: libedit-3.1.20170329-h6b74fdf_2 ...\n",
            "installing: readline-7.0-ha6073c6_4 ...\n",
            "installing: sqlite-3.23.1-he433501_0 ...\n",
            "installing: asn1crypto-0.24.0-py36_0 ...\n",
            "installing: certifi-2018.4.16-py36_0 ...\n",
            "installing: chardet-3.0.4-py36h0f667ec_1 ...\n",
            "installing: idna-2.6-py36h82fb2a8_1 ...\n",
            "installing: pycosat-0.6.3-py36h0a5515d_0 ...\n",
            "installing: pycparser-2.18-py36hf9f622e_1 ...\n",
            "installing: pysocks-1.6.8-py36_0 ...\n",
            "installing: ruamel_yaml-0.15.37-py36h14c3975_2 ...\n",
            "installing: six-1.11.0-py36h372c433_1 ...\n",
            "installing: cffi-1.11.5-py36h9745a5d_0 ...\n",
            "installing: setuptools-39.2.0-py36_0 ...\n",
            "installing: cryptography-2.2.2-py36h14c3975_0 ...\n",
            "installing: wheel-0.31.1-py36_0 ...\n",
            "installing: pip-10.0.1-py36_0 ...\n",
            "installing: pyopenssl-18.0.0-py36_0 ...\n",
            "installing: urllib3-1.22-py36hbe7ace6_0 ...\n",
            "installing: requests-2.18.4-py36he2e5f8d_1 ...\n",
            "installing: conda-4.5.4-py36_0 ...\n",
            "installation finished.\n",
            "WARNING:\n",
            "    You currently have a PYTHONPATH environment variable set. This may cause\n",
            "    unexpected behavior when running the Python interpreter in Miniconda3.\n",
            "    For best results, please verify that your PYTHONPATH only points to\n",
            "    directories of packages that are compatible with the Python interpreter\n",
            "    in Miniconda3: /usr/local\n",
            "Solving environment: - \b\b\\ \b\b| \b\b/ \b\b- \b\b\\ \b\b| \b\b/ \b\b- \b\b\\ \b\b| \b\b/ \b\b- \b\b\\ \b\b| \b\b/ \b\b- \b\b\\ \b\b| \b\b/ \b\b- \b\b\\ \b\b| \b\b/ \b\b- \b\b\\ \b\b| \b\b/ \b\b- \b\b\\ \b\b| \b\b/ \b\b- \b\b\\ \b\b| \b\b/ \b\b- \b\b\\ \b\b| \b\b/ \b\b- \b\b\\ \b\b| \b\b/ \b\b- \b\b\\ \b\b| \b\b/ \b\b- \b\b\\ \b\b| \b\b/ \b\b- \b\b\\ \b\b| \b\b/ \b\b- \b\b\\ \b\b| \b\b/ \b\b- \b\b\\ \b\b| \b\b/ \b\b- \b\b\\ \b\b| \b\b/ \b\b- \b\b\\ \b\b| \b\b/ \b\b- \b\b\\ \b\b| \b\b/ \b\b- \b\b\\ \b\b| \b\b/ \b\b- \b\b\\ \b\b| \b\b/ \b\b- \b\b\\ \b\b| \b\b/ \b\b- \b\b\\ \b\b| \b\b/ \b\b- \b\b\\ \b\b| \b\b/ \b\b- \b\b\\ \b\b| \b\b/ \b\b- \b\b\\ \b\b| \b\b/ \b\b- \b\b\\ \b\b| \b\b/ \b\b- \b\b\\ \b\b| \b\bdone\n",
            "\n",
            "## Package Plan ##\n",
            "\n",
            "  environment location: /usr/local\n",
            "\n",
            "  added / updated specs: \n",
            "    - conda\n",
            "    - python=3.6\n",
            "\n",
            "\n",
            "The following packages will be downloaded:\n",
            "\n",
            "    package                    |            build\n",
            "    ---------------------------|-----------------\n",
            "    ncurses-6.2                |       he6710b0_1         1.1 MB\n",
            "    python-3.6.12              |       hcff3b4d_2        34.0 MB\n",
            "    _libgcc_mutex-0.1          |             main           3 KB\n",
            "    idna-2.10                  |     pyhd3eb1b0_0          52 KB\n",
            "    yaml-0.2.5                 |       h7b6447c_0          87 KB\n",
            "    conda-package-handling-1.7.2|   py36h03888b9_0         967 KB\n",
            "    zlib-1.2.11                |       h7b6447c_3         120 KB\n",
            "    pycparser-2.20             |             py_2          94 KB\n",
            "    wheel-0.36.2               |     pyhd3eb1b0_0          31 KB\n",
            "    libedit-3.1.20191231       |       h14c3975_1         121 KB\n",
            "    ruamel_yaml-0.15.87        |   py36h7b6447c_1         256 KB\n",
            "    openssl-1.1.1j             |       h27cfd23_0         3.8 MB\n",
            "    ca-certificates-2021.1.19  |       h06a4308_0         128 KB\n",
            "    ld_impl_linux-64-2.33.1    |       h53a641e_7         645 KB\n",
            "    chardet-4.0.0              |py36h06a4308_1003         213 KB\n",
            "    pip-21.0.1                 |   py36h06a4308_0         2.0 MB\n",
            "    brotlipy-0.7.0             |py36h27cfd23_1003         349 KB\n",
            "    setuptools-52.0.0          |   py36h06a4308_0         933 KB\n",
            "    libffi-3.3                 |       he6710b0_2          54 KB\n",
            "    readline-8.1               |       h27cfd23_0         464 KB\n",
            "    cffi-1.14.5                |   py36h261ae71_0         224 KB\n",
            "    requests-2.25.1            |     pyhd3eb1b0_0          51 KB\n",
            "    pyopenssl-20.0.1           |     pyhd3eb1b0_1          48 KB\n",
            "    conda-4.9.2                |   py36h06a4308_0         3.1 MB\n",
            "    urllib3-1.26.3             |     pyhd3eb1b0_0          99 KB\n",
            "    libgcc-ng-9.1.0            |       hdf63c60_0         8.1 MB\n",
            "    tk-8.6.10                  |       hbc83047_0         3.2 MB\n",
            "    sqlite-3.33.0              |       h62c20be_0         2.0 MB\n",
            "    xz-5.2.5                   |       h7b6447c_0         438 KB\n",
            "    six-1.15.0                 |     pyhd3eb1b0_0          13 KB\n",
            "    libstdcxx-ng-9.1.0         |       hdf63c60_0         4.0 MB\n",
            "    pycosat-0.6.3              |   py36h27cfd23_0         107 KB\n",
            "    pysocks-1.7.1              |   py36h06a4308_0          30 KB\n",
            "    certifi-2020.12.5          |   py36h06a4308_0         144 KB\n",
            "    tqdm-4.56.0                |     pyhd3eb1b0_0          76 KB\n",
            "    cryptography-3.3.1         |   py36h3c74f83_1         633 KB\n",
            "    ------------------------------------------------------------\n",
            "                                           Total:        67.7 MB\n",
            "\n",
            "The following NEW packages will be INSTALLED:\n",
            "\n",
            "    _libgcc_mutex:          0.1-main               \n",
            "    brotlipy:               0.7.0-py36h27cfd23_1003\n",
            "    conda-package-handling: 1.7.2-py36h03888b9_0   \n",
            "    ld_impl_linux-64:       2.33.1-h53a641e_7      \n",
            "    tqdm:                   4.56.0-pyhd3eb1b0_0    \n",
            "\n",
            "The following packages will be UPDATED:\n",
            "\n",
            "    ca-certificates:        2018.03.07-0            --> 2021.1.19-h06a4308_0    \n",
            "    certifi:                2018.4.16-py36_0        --> 2020.12.5-py36h06a4308_0\n",
            "    cffi:                   1.11.5-py36h9745a5d_0   --> 1.14.5-py36h261ae71_0   \n",
            "    chardet:                3.0.4-py36h0f667ec_1    --> 4.0.0-py36h06a4308_1003 \n",
            "    conda:                  4.5.4-py36_0            --> 4.9.2-py36h06a4308_0    \n",
            "    cryptography:           2.2.2-py36h14c3975_0    --> 3.3.1-py36h3c74f83_1    \n",
            "    idna:                   2.6-py36h82fb2a8_1      --> 2.10-pyhd3eb1b0_0       \n",
            "    libedit:                3.1.20170329-h6b74fdf_2 --> 3.1.20191231-h14c3975_1 \n",
            "    libffi:                 3.2.1-hd88cf55_4        --> 3.3-he6710b0_2          \n",
            "    libgcc-ng:              7.2.0-hdf63c60_3        --> 9.1.0-hdf63c60_0        \n",
            "    libstdcxx-ng:           7.2.0-hdf63c60_3        --> 9.1.0-hdf63c60_0        \n",
            "    ncurses:                6.1-hf484d3e_0          --> 6.2-he6710b0_1          \n",
            "    openssl:                1.0.2o-h20670df_0       --> 1.1.1j-h27cfd23_0       \n",
            "    pip:                    10.0.1-py36_0           --> 21.0.1-py36h06a4308_0   \n",
            "    pycosat:                0.6.3-py36h0a5515d_0    --> 0.6.3-py36h27cfd23_0    \n",
            "    pycparser:              2.18-py36hf9f622e_1     --> 2.20-py_2               \n",
            "    pyopenssl:              18.0.0-py36_0           --> 20.0.1-pyhd3eb1b0_1     \n",
            "    pysocks:                1.6.8-py36_0            --> 1.7.1-py36h06a4308_0    \n",
            "    python:                 3.6.5-hc3d631a_2        --> 3.6.12-hcff3b4d_2       \n",
            "    readline:               7.0-ha6073c6_4          --> 8.1-h27cfd23_0          \n",
            "    requests:               2.18.4-py36he2e5f8d_1   --> 2.25.1-pyhd3eb1b0_0     \n",
            "    ruamel_yaml:            0.15.37-py36h14c3975_2  --> 0.15.87-py36h7b6447c_1  \n",
            "    setuptools:             39.2.0-py36_0           --> 52.0.0-py36h06a4308_0   \n",
            "    six:                    1.11.0-py36h372c433_1   --> 1.15.0-pyhd3eb1b0_0     \n",
            "    sqlite:                 3.23.1-he433501_0       --> 3.33.0-h62c20be_0       \n",
            "    tk:                     8.6.7-hc745277_3        --> 8.6.10-hbc83047_0       \n",
            "    urllib3:                1.22-py36hbe7ace6_0     --> 1.26.3-pyhd3eb1b0_0     \n",
            "    wheel:                  0.31.1-py36_0           --> 0.36.2-pyhd3eb1b0_0     \n",
            "    xz:                     5.2.4-h14c3975_4        --> 5.2.5-h7b6447c_0        \n",
            "    yaml:                   0.1.7-had09818_2        --> 0.2.5-h7b6447c_0        \n",
            "    zlib:                   1.2.11-ha838bed_2       --> 1.2.11-h7b6447c_3       \n",
            "\n",
            "\n",
            "Downloading and Extracting Packages\n",
            "ncurses-6.2          |  1.1 MB | : 100% 1.0/1 [00:00<00:00,  1.29it/s]               \n",
            "python-3.6.12        | 34.0 MB | : 100% 1.0/1 [00:04<00:00,  4.59s/it]               \n",
            "_libgcc_mutex-0.1    |    3 KB | : 100% 1.0/1 [00:00<00:00, 52.46it/s]\n",
            "idna-2.10            |   52 KB | : 100% 1.0/1 [00:00<00:00, 26.06it/s]\n",
            "yaml-0.2.5           |   87 KB | : 100% 1.0/1 [00:00<00:00, 22.10it/s]\n",
            "conda-package-handli |  967 KB | : 100% 1.0/1 [00:00<00:00,  6.50it/s]               \n",
            "zlib-1.2.11          |  120 KB | : 100% 1.0/1 [00:00<00:00, 28.06it/s]\n",
            "pycparser-2.20       |   94 KB | : 100% 1.0/1 [00:00<00:00, 10.73it/s]\n",
            "wheel-0.36.2         |   31 KB | : 100% 1.0/1 [00:00<00:00, 36.26it/s]\n",
            "libedit-3.1.20191231 |  121 KB | : 100% 1.0/1 [00:00<00:00, 21.59it/s]\n",
            "ruamel_yaml-0.15.87  |  256 KB | : 100% 1.0/1 [00:00<00:00, 13.25it/s]\n",
            "openssl-1.1.1j       |  3.8 MB | : 100% 1.0/1 [00:00<00:00,  1.68it/s]              \n",
            "ca-certificates-2021 |  128 KB | : 100% 1.0/1 [00:00<00:00, 21.94it/s]\n",
            "ld_impl_linux-64-2.3 |  645 KB | : 100% 1.0/1 [00:00<00:00,  7.38it/s]               \n",
            "chardet-4.0.0        |  213 KB | : 100% 1.0/1 [00:00<00:00,  9.24it/s]\n",
            "pip-21.0.1           |  2.0 MB | : 100% 1.0/1 [00:00<00:00,  1.71it/s]               \n",
            "brotlipy-0.7.0       |  349 KB | : 100% 1.0/1 [00:00<00:00, 15.40it/s]\n",
            "setuptools-52.0.0    |  933 KB | : 100% 1.0/1 [00:00<00:00,  4.03it/s]               \n",
            "libffi-3.3           |   54 KB | : 100% 1.0/1 [00:00<00:00, 31.60it/s]\n",
            "readline-8.1         |  464 KB | : 100% 1.0/1 [00:00<00:00,  8.97it/s]\n",
            "cffi-1.14.5          |  224 KB | : 100% 1.0/1 [00:00<00:00, 12.53it/s]\n",
            "requests-2.25.1      |   51 KB | : 100% 1.0/1 [00:00<00:00, 33.03it/s]\n",
            "pyopenssl-20.0.1     |   48 KB | : 100% 1.0/1 [00:00<00:00, 15.45it/s]\n",
            "conda-4.9.2          |  3.1 MB | : 100% 1.0/1 [00:00<00:00,  1.39it/s]               \n",
            "urllib3-1.26.3       |   99 KB | : 100% 1.0/1 [00:00<00:00, 16.13it/s]\n",
            "libgcc-ng-9.1.0      |  8.1 MB | : 100% 1.0/1 [00:01<00:00,  1.21s/it]               \n",
            "tk-8.6.10            |  3.2 MB | : 100% 1.0/1 [00:00<00:00,  1.47it/s]               \n",
            "sqlite-3.33.0        |  2.0 MB | : 100% 1.0/1 [00:00<00:00,  3.15it/s]              \n",
            "xz-5.2.5             |  438 KB | : 100% 1.0/1 [00:00<00:00,  7.72it/s]               \n",
            "six-1.15.0           |   13 KB | : 100% 1.0/1 [00:00<00:00, 35.87it/s]\n",
            "libstdcxx-ng-9.1.0   |  4.0 MB | : 100% 1.0/1 [00:00<00:00,  1.61it/s]               \n",
            "pycosat-0.6.3        |  107 KB | : 100% 1.0/1 [00:00<00:00, 29.90it/s]\n",
            "pysocks-1.7.1        |   30 KB | : 100% 1.0/1 [00:00<00:00, 35.01it/s]\n",
            "certifi-2020.12.5    |  144 KB | : 100% 1.0/1 [00:00<00:00, 25.13it/s]\n",
            "tqdm-4.56.0          |   76 KB | : 100% 1.0/1 [00:00<00:00, 24.51it/s]\n",
            "cryptography-3.3.1   |  633 KB | : 100% 1.0/1 [00:00<00:00,  4.54it/s]               \n",
            "Preparing transaction: - \b\b\\ \b\b| \b\b/ \b\bdone\n",
            "Verifying transaction: \\ \b\b| \b\b/ \b\b- \b\b\\ \b\b| \b\b/ \b\b- \b\b\\ \b\b| \b\b/ \b\b- \b\b\\ \b\b| \b\b/ \b\b- \b\b\\ \b\bdone\n",
            "Executing transaction: / \b\b- \b\b\\ \b\b| \b\b/ \b\b- \b\b\\ \b\b| \b\b/ \b\b- \b\b\\ \b\b| \b\b/ \b\b- \b\b\\ \b\b| \b\b/ \b\b- \b\b\\ \b\b| \b\b/ \b\b- \b\b\\ \b\b| \b\b/ \b\b- \b\b\\ \b\b| \b\b/ \b\b- \b\b\\ \b\b| \b\b/ \b\b- \b\b\\ \b\b| \b\b/ \b\b- \b\b\\ \b\b| \b\b/ \b\b- \b\b\\ \b\b| \b\b/ \b\b- \b\b\\ \b\b| \b\b/ \b\b- \b\b\\ \b\b| \b\b/ \b\b- \b\b\\ \b\b| \b\b/ \b\b- \b\b\\ \b\b| \b\b/ \b\bdone\n",
            "Collecting package metadata (current_repodata.json): - \b\b\\ \b\b| \b\b/ \b\b- \b\b\\ \b\b| \b\b/ \b\b- \b\b\\ \b\b| \b\b/ \b\b- \b\b\\ \b\b| \b\b/ \b\b- \b\b\\ \b\b| \b\b/ \b\b- \b\b\\ \b\b| \b\b/ \b\b- \b\b\\ \b\b| \b\b/ \b\b- \b\b\\ \b\b| \b\b/ \b\b- \b\b\\ \b\b| \b\b/ \b\b- \b\b\\ \b\b| \b\b/ \b\b- \b\b\\ \b\b| \b\b/ \b\b- \b\b\\ \b\b| \b\b/ \b\b- \b\b\\ \b\b| \b\b/ \b\b- \b\b\\ \b\b| \b\b/ \b\b- \b\b\\ \b\b| \b\b/ \b\b- \b\b\\ \b\b| \b\b/ \b\b- \b\bdone\n",
            "Solving environment: | \b\b/ \b\b- \b\b\\ \b\b| \b\b/ \b\b- \b\b\\ \b\b| \b\bdone\n",
            "\n",
            "## Package Plan ##\n",
            "\n",
            "  environment location: /usr/local\n",
            "\n",
            "\n",
            "The following packages will be downloaded:\n",
            "\n",
            "    package                    |            build\n",
            "    ---------------------------|-----------------\n",
            "    _libgcc_mutex-0.1          |      conda_forge           3 KB  conda-forge\n",
            "    _openmp_mutex-4.5          |            1_gnu          22 KB  conda-forge\n",
            "    brotlipy-0.7.0             |py36h8f6f2f9_1001         341 KB  conda-forge\n",
            "    ca-certificates-2020.12.5  |       ha878542_0         137 KB  conda-forge\n",
            "    certifi-2020.12.5          |   py36h5fab9bb_1         143 KB  conda-forge\n",
            "    cffi-1.14.5                |   py36hc120d54_0         225 KB  conda-forge\n",
            "    chardet-4.0.0              |   py36h5fab9bb_1         219 KB  conda-forge\n",
            "    conda-4.9.2                |   py36h5fab9bb_0         3.0 MB  conda-forge\n",
            "    conda-package-handling-1.7.2|   py36he6145b8_0         925 KB  conda-forge\n",
            "    cryptography-3.4.4         |   py36hc39840e_0         631 KB  conda-forge\n",
            "    idna-2.10                  |     pyh9f0ad1d_0          52 KB  conda-forge\n",
            "    ld_impl_linux-64-2.35.1    |       hea4e1c9_2         618 KB  conda-forge\n",
            "    libffi-3.3                 |       h58526e2_2          51 KB  conda-forge\n",
            "    libgcc-ng-9.3.0            |      h2828fa1_18         7.8 MB  conda-forge\n",
            "    libgomp-9.3.0              |      h2828fa1_18         376 KB  conda-forge\n",
            "    libstdcxx-ng-9.3.0         |      h6de172a_18         4.0 MB  conda-forge\n",
            "    ncurses-6.2                |       h58526e2_4         985 KB  conda-forge\n",
            "    openssl-1.1.1j             |       h7f98852_0         2.1 MB  conda-forge\n",
            "    pip-21.0.1                 |     pyhd8ed1ab_0         1.1 MB  conda-forge\n",
            "    pycosat-0.6.3              |py36h8f6f2f9_1006         107 KB  conda-forge\n",
            "    pycparser-2.20             |     pyh9f0ad1d_2          94 KB  conda-forge\n",
            "    pyopenssl-20.0.1           |     pyhd8ed1ab_0          48 KB  conda-forge\n",
            "    pysocks-1.7.1              |   py36h5fab9bb_3          27 KB  conda-forge\n",
            "    python_abi-3.6             |          1_cp36m           4 KB  conda-forge\n",
            "    readline-8.0               |       he28a2e2_2         281 KB  conda-forge\n",
            "    requests-2.25.1            |     pyhd3deb0d_0          51 KB  conda-forge\n",
            "    ruamel_yaml-0.15.80        |py36h8f6f2f9_1004         268 KB  conda-forge\n",
            "    setuptools-49.6.0          |   py36h5fab9bb_3         936 KB  conda-forge\n",
            "    six-1.15.0                 |     pyh9f0ad1d_0          14 KB  conda-forge\n",
            "    sqlite-3.34.0              |       h74cdb3f_0         1.4 MB  conda-forge\n",
            "    tk-8.6.10                  |       h21135ba_1         3.2 MB  conda-forge\n",
            "    tqdm-4.57.0                |     pyhd8ed1ab_0          76 KB  conda-forge\n",
            "    urllib3-1.26.3             |     pyhd8ed1ab_0          99 KB  conda-forge\n",
            "    wheel-0.36.2               |     pyhd3deb0d_0          31 KB  conda-forge\n",
            "    xz-5.2.5                   |       h516909a_1         343 KB  conda-forge\n",
            "    yaml-0.2.5                 |       h516909a_0          82 KB  conda-forge\n",
            "    zlib-1.2.11                |    h516909a_1010         106 KB  conda-forge\n",
            "    ------------------------------------------------------------\n",
            "                                           Total:        29.8 MB\n",
            "\n",
            "The following NEW packages will be INSTALLED:\n",
            "\n",
            "  _openmp_mutex      conda-forge/linux-64::_openmp_mutex-4.5-1_gnu\n",
            "  libgomp            conda-forge/linux-64::libgomp-9.3.0-h2828fa1_18\n",
            "  python_abi         conda-forge/linux-64::python_abi-3.6-1_cp36m\n",
            "\n",
            "The following packages will be REMOVED:\n",
            "\n",
            "  asn1crypto-0.24.0-py36_0\n",
            "  conda-env-2.6.0-h36134e3_1\n",
            "  libedit-3.1.20191231-h14c3975_1\n",
            "\n",
            "The following packages will be UPDATED:\n",
            "\n",
            "  certifi            pkgs/main::certifi-2020.12.5-py36h06a~ --> conda-forge::certifi-2020.12.5-py36h5fab9bb_1\n",
            "  cryptography       pkgs/main::cryptography-3.3.1-py36h3c~ --> conda-forge::cryptography-3.4.4-py36hc39840e_0\n",
            "  ld_impl_linux-64   pkgs/main::ld_impl_linux-64-2.33.1-h5~ --> conda-forge::ld_impl_linux-64-2.35.1-hea4e1c9_2\n",
            "  libgcc-ng           pkgs/main::libgcc-ng-9.1.0-hdf63c60_0 --> conda-forge::libgcc-ng-9.3.0-h2828fa1_18\n",
            "  libstdcxx-ng       pkgs/main::libstdcxx-ng-9.1.0-hdf63c6~ --> conda-forge::libstdcxx-ng-9.3.0-h6de172a_18\n",
            "  ncurses                 pkgs/main::ncurses-6.2-he6710b0_1 --> conda-forge::ncurses-6.2-h58526e2_4\n",
            "  pycosat            pkgs/main::pycosat-0.6.3-py36h27cfd23~ --> conda-forge::pycosat-0.6.3-py36h8f6f2f9_1006\n",
            "  pysocks            pkgs/main::pysocks-1.7.1-py36h06a4308~ --> conda-forge::pysocks-1.7.1-py36h5fab9bb_3\n",
            "  sqlite                pkgs/main::sqlite-3.33.0-h62c20be_0 --> conda-forge::sqlite-3.34.0-h74cdb3f_0\n",
            "  tk                        pkgs/main::tk-8.6.10-hbc83047_0 --> conda-forge::tk-8.6.10-h21135ba_1\n",
            "  tqdm                  pkgs/main::tqdm-4.56.0-pyhd3eb1b0_0 --> conda-forge::tqdm-4.57.0-pyhd8ed1ab_0\n",
            "  xz                         pkgs/main::xz-5.2.5-h7b6447c_0 --> conda-forge::xz-5.2.5-h516909a_1\n",
            "  zlib                    pkgs/main::zlib-1.2.11-h7b6447c_3 --> conda-forge::zlib-1.2.11-h516909a_1010\n",
            "\n",
            "The following packages will be SUPERSEDED by a higher-priority channel:\n",
            "\n",
            "  _libgcc_mutex           pkgs/main::_libgcc_mutex-0.1-main --> conda-forge::_libgcc_mutex-0.1-conda_forge\n",
            "  brotlipy           pkgs/main::brotlipy-0.7.0-py36h27cfd2~ --> conda-forge::brotlipy-0.7.0-py36h8f6f2f9_1001\n",
            "  ca-certificates    pkgs/main::ca-certificates-2021.1.19-~ --> conda-forge::ca-certificates-2020.12.5-ha878542_0\n",
            "  cffi                pkgs/main::cffi-1.14.5-py36h261ae71_0 --> conda-forge::cffi-1.14.5-py36hc120d54_0\n",
            "  chardet            pkgs/main::chardet-4.0.0-py36h06a4308~ --> conda-forge::chardet-4.0.0-py36h5fab9bb_1\n",
            "  conda               pkgs/main::conda-4.9.2-py36h06a4308_0 --> conda-forge::conda-4.9.2-py36h5fab9bb_0\n",
            "  conda-package-han~ pkgs/main::conda-package-handling-1.7~ --> conda-forge::conda-package-handling-1.7.2-py36he6145b8_0\n",
            "  idna                    pkgs/main::idna-2.10-pyhd3eb1b0_0 --> conda-forge::idna-2.10-pyh9f0ad1d_0\n",
            "  libffi                   pkgs/main::libffi-3.3-he6710b0_2 --> conda-forge::libffi-3.3-h58526e2_2\n",
            "  openssl              pkgs/main::openssl-1.1.1j-h27cfd23_0 --> conda-forge::openssl-1.1.1j-h7f98852_0\n",
            "  pip                pkgs/main/linux-64::pip-21.0.1-py36h0~ --> conda-forge/noarch::pip-21.0.1-pyhd8ed1ab_0\n",
            "  pycparser                  pkgs/main::pycparser-2.20-py_2 --> conda-forge::pycparser-2.20-pyh9f0ad1d_2\n",
            "  pyopenssl          pkgs/main::pyopenssl-20.0.1-pyhd3eb1b~ --> conda-forge::pyopenssl-20.0.1-pyhd8ed1ab_0\n",
            "  readline               pkgs/main::readline-8.1-h27cfd23_0 --> conda-forge::readline-8.0-he28a2e2_2\n",
            "  requests           pkgs/main::requests-2.25.1-pyhd3eb1b0~ --> conda-forge::requests-2.25.1-pyhd3deb0d_0\n",
            "  ruamel_yaml        pkgs/main::ruamel_yaml-0.15.87-py36h7~ --> conda-forge::ruamel_yaml-0.15.80-py36h8f6f2f9_1004\n",
            "  setuptools         pkgs/main::setuptools-52.0.0-py36h06a~ --> conda-forge::setuptools-49.6.0-py36h5fab9bb_3\n",
            "  six                    pkgs/main::six-1.15.0-pyhd3eb1b0_0 --> conda-forge::six-1.15.0-pyh9f0ad1d_0\n",
            "  urllib3            pkgs/main::urllib3-1.26.3-pyhd3eb1b0_0 --> conda-forge::urllib3-1.26.3-pyhd8ed1ab_0\n",
            "  wheel                pkgs/main::wheel-0.36.2-pyhd3eb1b0_0 --> conda-forge::wheel-0.36.2-pyhd3deb0d_0\n",
            "  yaml                     pkgs/main::yaml-0.2.5-h7b6447c_0 --> conda-forge::yaml-0.2.5-h516909a_0\n",
            "\n",
            "\n",
            "\n",
            "Downloading and Extracting Packages\n",
            "tqdm-4.57.0          | 76 KB     | : 100% 1.0/1 [00:00<00:00,  9.01it/s]\n",
            "tk-8.6.10            | 3.2 MB    | : 100% 1.0/1 [00:00<00:00,  1.94it/s]\n",
            "libgcc-ng-9.3.0      | 7.8 MB    | : 100% 1.0/1 [00:01<00:00,  1.11s/it]               \n",
            "ruamel_yaml-0.15.80  | 268 KB    | : 100% 1.0/1 [00:00<00:00, 11.54it/s]\n",
            "idna-2.10            | 52 KB     | : 100% 1.0/1 [00:00<00:00, 30.39it/s]\n",
            "libffi-3.3           | 51 KB     | : 100% 1.0/1 [00:00<00:00, 26.07it/s]\n",
            "conda-package-handli | 925 KB    | : 100% 1.0/1 [00:00<00:00,  6.83it/s]\n",
            "pip-21.0.1           | 1.1 MB    | : 100% 1.0/1 [00:00<00:00,  3.42it/s]\n",
            "setuptools-49.6.0    | 936 KB    | : 100% 1.0/1 [00:00<00:00,  2.57it/s]\n",
            "wheel-0.36.2         | 31 KB     | : 100% 1.0/1 [00:00<00:00, 22.47it/s]\n",
            "cffi-1.14.5          | 225 KB    | : 100% 1.0/1 [00:00<00:00, 14.91it/s]\n",
            "yaml-0.2.5           | 82 KB     | : 100% 1.0/1 [00:00<00:00, 26.66it/s]\n",
            "ncurses-6.2          | 985 KB    | : 100% 1.0/1 [00:00<00:00,  2.74it/s]\n",
            "cryptography-3.4.4   | 631 KB    | : 100% 1.0/1 [00:00<00:00,  5.84it/s]\n",
            "ca-certificates-2020 | 137 KB    | : 100% 1.0/1 [00:00<00:00, 22.74it/s]\n",
            "chardet-4.0.0        | 219 KB    | : 100% 1.0/1 [00:00<00:00, 11.27it/s]\n",
            "certifi-2020.12.5    | 143 KB    | : 100% 1.0/1 [00:00<00:00, 24.33it/s]\n",
            "_openmp_mutex-4.5    | 22 KB     | : 100% 1.0/1 [00:00<00:00, 33.18it/s]\n",
            "pycosat-0.6.3        | 107 KB    | : 100% 1.0/1 [00:00<00:00, 20.91it/s]\n",
            "pysocks-1.7.1        | 27 KB     | : 100% 1.0/1 [00:00<00:00, 20.90it/s]\n",
            "urllib3-1.26.3       | 99 KB     | : 100% 1.0/1 [00:00<00:00, 19.39it/s]\n",
            "ld_impl_linux-64-2.3 | 618 KB    | : 100% 1.0/1 [00:00<00:00,  7.26it/s]\n",
            "requests-2.25.1      | 51 KB     | : 100% 1.0/1 [00:00<00:00, 29.02it/s]\n",
            "pycparser-2.20       | 94 KB     | : 100% 1.0/1 [00:00<00:00, 17.10it/s]\n",
            "openssl-1.1.1j       | 2.1 MB    | : 100% 1.0/1 [00:00<00:00,  3.00it/s]\n",
            "zlib-1.2.11          | 106 KB    | : 100% 1.0/1 [00:00<00:00, 24.70it/s]\n",
            "six-1.15.0           | 14 KB     | : 100% 1.0/1 [00:00<00:00, 28.65it/s]\n",
            "sqlite-3.34.0        | 1.4 MB    | : 100% 1.0/1 [00:00<00:00,  4.45it/s]\n",
            "xz-5.2.5             | 343 KB    | : 100% 1.0/1 [00:00<00:00, 11.21it/s]\n",
            "brotlipy-0.7.0       | 341 KB    | : 100% 1.0/1 [00:00<00:00, 13.89it/s]\n",
            "_libgcc_mutex-0.1    | 3 KB      | : 100% 1.0/1 [00:00<00:00, 51.26it/s]\n",
            "conda-4.9.2          | 3.0 MB    | : 100% 1.0/1 [00:00<00:00,  1.73it/s]\n",
            "pyopenssl-20.0.1     | 48 KB     | : 100% 1.0/1 [00:00<00:00, 32.48it/s]\n",
            "python_abi-3.6       | 4 KB      | : 100% 1.0/1 [00:00<00:00, 30.15it/s]\n",
            "libstdcxx-ng-9.3.0   | 4.0 MB    | : 100% 1.0/1 [00:00<00:00,  1.71it/s]\n",
            "libgomp-9.3.0        | 376 KB    | : 100% 1.0/1 [00:00<00:00, 11.39it/s]\n",
            "readline-8.0         | 281 KB    | : 100% 1.0/1 [00:00<00:00, 10.65it/s]\n",
            "Preparing transaction: - \b\b\\ \b\b| \b\bdone\n",
            "Verifying transaction: - \b\b\\ \b\b| \b\b/ \b\b- \b\b\\ \b\b| \b\b/ \b\b- \b\bdone\n",
            "Executing transaction: | \b\b/ \b\b- \b\b\\ \b\b| \b\b/ \b\b- \b\b\\ \b\b| \b\b/ \b\b- \b\b\\ \b\b| \b\b/ \b\b- \b\b\\ \b\b| \b\b/ \b\b- \b\b\\ \b\bdone\n",
            "Collecting package metadata (current_repodata.json): - \b\b\\ \b\b| \b\b/ \b\b- \b\b\\ \b\b| \b\b/ \b\b- \b\b\\ \b\b| \b\b/ \b\bdone\n",
            "Solving environment: \\ \b\b| \b\b/ \b\b- \b\b\\ \b\b| \b\b/ \b\bdone\n",
            "\n",
            "# All requested packages already installed.\n",
            "\n",
            "Installing RAPIDS 0.14 packages from the stable release channel\n",
            "Please standby, this will take a few minutes...\n",
            "Collecting package metadata (current_repodata.json): - \b\b\\ \b\b| \b\b/ \b\b- \b\b\\ \b\b| \b\b/ \b\b- \b\b\\ \b\b| \b\b/ \b\b- \b\b\\ \b\b| \b\b/ \b\b- \b\b\\ \b\b| \b\b/ \b\b- \b\b\\ \b\b| \b\b/ \b\b- \b\b\\ \b\b| \b\b/ \b\b- \b\b\\ \b\b| \b\b/ \b\b- \b\b\\ \b\b| \b\bdone\n",
            "Solving environment: - \b\bfailed with initial frozen solve. Retrying with flexible solve.\n",
            "Collecting package metadata (repodata.json): | \b\b/ \b\b- \b\b\\ \b\b| \b\b/ \b\b- \b\b\\ \b\b| \b\b/ \b\b- \b\b\\ \b\b| \b\b/ \b\b- \b\b\\ \b\b| \b\b/ \b\b- \b\b\\ \b\b| \b\b/ \b\b- \b\b\\ \b\b| \b\b/ \b\b- \b\b\\ \b\b| \b\b/ \b\b- \b\b\\ \b\b| \b\b/ \b\b- \b\b\\ \b\b| \b\b/ \b\b- \b\b\\ \b\b| \b\b/ \b\b- \b\b\\ \b\b| \b\b/ \b\b- \b\b\\ \b\b| \b\b/ \b\b- \b\b\\ \b\b| \b\b/ \b\b- \b\b\\ \b\b| \b\b/ \b\b- \b\b\\ \b\b| \b\b/ \b\b- \b\b\\ \b\b| \b\b/ \b\b- \b\b\\ \b\b| \b\b/ \b\b- \b\b\\ \b\b| \b\b/ \b\b- \b\b\\ \b\b| \b\b/ \b\b- \b\b\\ \b\b| \b\b/ \b\b- \b\b\\ \b\b| \b\b/ \b\b- \b\b\\ \b\b| \b\b/ \b\b- \b\b\\ \b\b| \b\b/ \b\b- \b\b\\ \b\b| \b\b/ \b\b- \b\b\\ \b\b| \b\b/ \b\b- \b\b\\ \b\b| \b\b/ \b\b- \b\b\\ \b\b| \b\b/ \b\b- \b\b\\ \b\b| \b\b/ \b\b- \b\b\\ \b\b| \b\b/ \b\b- \b\b\\ \b\b| \b\b/ \b\b- \b\b\\ \b\b| \b\b/ \b\b- \b\b\\ \b\b| \b\b/ \b\b- \b\b\\ \b\b| \b\b/ \b\b- \b\b\\ \b\b| \b\b/ \b\b- \b\b\\ \b\b| \b\b/ \b\b- \b\b\\ \b\b| \b\b/ \b\b- \b\b\\ \b\b| \b\b/ \b\b- \b\b\\ \b\b| \b\b/ \b\b- \b\b\\ \b\b| \b\b/ \b\b- \b\b\\ \b\b| \b\b/ \b\b- \b\b\\ \b\b| \b\b/ \b\b- \b\b\\ \b\b| \b\b/ \b\b- \b\b\\ \b\b| \b\b/ \b\b- \b\b\\ \b\b| \b\b/ \b\b- \b\b\\ \b\b| \b\b/ \b\b- \b\b\\ \b\b| \b\b/ \b\b- \b\b\\ \b\b| \b\b/ \b\b- \b\b\\ \b\b| \b\b/ \b\b- \b\b\\ \b\b| \b\b/ \b\b- \b\b\\ \b\b| \b\b/ \b\b- \b\b\\ \b\b| \b\b/ \b\b- \b\b\\ \b\b| \b\b/ \b\b- \b\b\\ \b\b| \b\b/ \b\b- \b\b\\ \b\b| \b\b/ \b\b- \b\b\\ \b\b| \b\b/ \b\b- \b\b\\ \b\b| \b\b/ \b\b- \b\b\\ \b\b| \b\b/ \b\b- \b\b\\ \b\b| \b\b/ \b\b- \b\b\\ \b\b| \b\b/ \b\b- \b\b\\ \b\b| \b\b/ \b\b- \b\b\\ \b\b| \b\b/ \b\b- \b\b\\ \b\b| \b\b/ \b\bdone\n",
            "Solving environment: \\ \b\b| \b\b/ \b\b- \b\b\\ \b\b| \b\b/ \b\b- \b\b\\ \b\b| \b\b/ \b\b- \b\b\\ \b\b| \b\b/ \b\b- \b\b\\ \b\b| \b\b/ \b\b- \b\b\\ \b\b| \b\b/ \b\b- \b\b\\ \b\b| \b\b/ \b\b- \b\b\\ \b\b| \b\b/ \b\b- \b\b\\ \b\b| \b\b/ \b\b- \b\b\\ \b\b| \b\b/ \b\b- \b\b\\ \b\b| \b\b/ \b\b- \b\b\\ \b\b| \b\b/ \b\b- \b\b\\ \b\b| \b\b/ \b\b- \b\b\\ \b\b| \b\b/ \b\b- \b\b\\ \b\b| \b\b/ \b\b- \b\b\\ \b\b| \b\b/ \b\b- \b\b\\ \b\b| \b\b/ \b\b- \b\b\\ \b\b| \b\b/ \b\b- \b\b\\ \b\b| \b\b/ \b\b- \b\b\\ \b\b| \b\b/ \b\b- \b\b\\ \b\b| \b\b/ \b\b- \b\b\\ \b\b| \b\b/ \b\b- \b\b\\ \b\b| \b\b/ \b\b- \b\b\\ \b\b| \b\b/ \b\b- \b\b\\ \b\b| \b\b/ \b\b- \b\b\\ \b\b| \b\b/ \b\b- \b\b\\ \b\b| \b\b/ \b\b- \b\b\\ \b\b| \b\b/ \b\b- \b\b\\ \b\b| \b\b/ \b\b- \b\b\\ \b\b| \b\b/ \b\b- \b\b\\ \b\b| \b\b/ \b\b- \b\b\\ \b\b| \b\b/ \b\b- \b\b\\ \b\b| \b\b/ \b\b- \b\b\\ \b\b| \b\b/ \b\b- \b\b\\ \b\b| \b\b/ \b\b- \b\b\\ \b\b| \b\b/ \b\b- \b\b\\ \b\b| \b\b/ \b\b- \b\b\\ \b\b| \b\b/ \b\b- \b\b\\ \b\b| \b\b/ \b\b- \b\b\\ \b\b| \b\b/ \b\b- \b\b\\ \b\b| \b\b/ \b\b- \b\b\\ \b\b| \b\b/ \b\b- \b\b\\ \b\b| \b\b/ \b\b- \b\b\\ \b\b| \b\b/ \b\b- \b\b\\ \b\b| \b\b/ \b\b- \b\b\\ \b\b| \b\b/ \b\b- \b\b\\ \b\b| \b\b/ \b\b- \b\b\\ \b\b| \b\b/ \b\b- \b\b\\ \b\b| \b\b/ \b\b- \b\b\\ \b\b| \b\b/ \b\b- \b\b\\ \b\b| \b\b/ \b\b- \b\b\\ \b\b| \b\b/ \b\b- \b\b\\ \b\b| \b\b/ \b\b- \b\b\\ \b\b| \b\b/ \b\b- \b\b\\ \b\b| \b\b/ \b\b- \b\b\\ \b\b| \b\b/ \b\b- \b\b\\ \b\b| \b\b/ \b\b- \b\b\\ \b\b| \b\b/ \b\b- \b\b\\ \b\b| \b\b/ \b\b- \b\b\\ \b\b| \b\b/ \b\b- \b\b\\ \b\b| \b\b/ \b\b- \b\b\\ \b\b| \b\b/ \b\b- \b\b\\ \b\b| \b\b/ \b\b- \b\b\\ \b\b| \b\b/ \b\b- \b\b\\ \b\b| \b\b/ \b\b- \b\b\\ \b\b| \b\b/ \b\b- \b\b\\ \b\b| \b\b/ \b\b- \b\b\\ \b\b| \b\b/ \b\b- \b\b\\ \b\b| \b\b/ \b\b- \b\b\\ \b\b| \b\b/ \b\b- \b\b\\ \b\b| \b\b/ \b\b- \b\b\\ \b\b| \b\b/ \b\b- \b\b\\ \b\b| \b\b/ \b\b- \b\b\\ \b\b| \b\b/ \b\b- \b\b\\ \b\b| \b\b/ \b\b- \b\b\\ \b\b| \b\b/ \b\b- \b\b\\ \b\b| \b\b/ \b\b- \b\b\\ \b\b| \b\b/ \b\b- \b\b\\ \b\b| \b\b/ \b\b- \b\b\\ \b\b| \b\b/ \b\b- \b\b\\ \b\b| \b\b/ \b\b- \b\b\\ \b\b| \b\b/ \b\b- \b\b\\ \b\b| \b\b/ \b\b- \b\b\\ \b\b| \b\b/ \b\b- \b\b\\ \b\b| \b\b/ \b\b- \b\b\\ \b\b| \b\b/ \b\b- \b\b\\ \b\b| \b\b/ \b\b- \b\b\\ \b\b| \b\b/ \b\b- \b\b\\ \b\b| \b\b/ \b\b- \b\b\\ \b\b| \b\b/ \b\b- \b\b\\ \b\b| \b\b/ \b\b- \b\b\\ \b\b| \b\b/ \b\b- \b\b\\ \b\b| \b\b/ \b\b- \b\b\\ \b\b| \b\b/ \b\b- \b\b\\ \b\b| \b\b/ \b\b- \b\b\\ \b\b| \b\b/ \b\b- \b\b\\ \b\b| \b\b/ \b\b- \b\b\\ \b\b| \b\b/ \b\b- \b\b\\ \b\b| \b\b/ \b\b- \b\b\\ \b\b| \b\b/ \b\b- \b\b\\ \b\b| \b\b/ \b\b- \b\b\\ \b\b| \b\b/ \b\b- \b\b\\ \b\b| \b\b/ \b\b- \b\b\\ \b\b| \b\b/ \b\b- \b\b\\ \b\b| \b\b/ \b\b- \b\b\\ \b\b| \b\b/ \b\b- \b\b\\ \b\b| \b\b/ \b\b- \b\b\\ \b\b| \b\b/ \b\b- \b\b\\ \b\b| \b\b/ \b\b- \b\b\\ \b\b| \b\b/ \b\b- \b\b\\ \b\b| \b\b/ \b\b- \b\b\\ \b\b| \b\b/ \b\b- \b\b\\ \b\b| \b\b/ \b\b- \b\b\\ \b\b| \b\b/ \b\b- \b\b\\ \b\b| \b\b/ \b\b- \b\b\\ \b\b| \b\b/ \b\b- \b\b\\ \b\b| \b\b/ \b\b- \b\b\\ \b\b| \b\b/ \b\b- \b\b\\ \b\b| \b\b/ \b\b- \b\b\\ \b\b| \b\b/ \b\b- \b\b\\ \b\b| \b\b/ \b\b- \b\b\\ \b\b| \b\b/ \b\b- \b\b\\ \b\b| \b\b/ \b\b- \b\b\\ \b\b| \b\b/ \b\b- \b\b\\ \b\b| \b\b/ \b\b- \b\b\\ \b\b| \b\b/ \b\b- \b\b\\ \b\b| \b\b/ \b\b- \b\b\\ \b\b| \b\b/ \b\b- \b\b\\ \b\b| \b\b/ \b\b- \b\b\\ \b\b| \b\b/ \b\b- \b\b\\ \b\b| \b\b/ \b\b- \b\b\\ \b\b| \b\b/ \b\b- \b\b\\ \b\b| \b\b/ \b\b- \b\b\\ \b\b| \b\b/ \b\b- \b\b\\ \b\b| \b\b/ \b\b- \b\b\\ \b\b| \b\b/ \b\b- \b\b\\ \b\b| \b\b/ \b\b- \b\b\\ \b\b| \b\b/ \b\b- \b\b\\ \b\b| \b\b/ \b\b- \b\b\\ \b\b| \b\b/ \b\b- \b\b\\ \b\b| \b\b/ \b\b- \b\b\\ \b\b| \b\b/ \b\b- \b\b\\ \b\b| \b\b/ \b\b- \b\b\\ \b\b| \b\b/ \b\b- \b\b\\ \b\b| \b\b/ \b\b- \b\b\\ \b\b| \b\b/ \b\b- \b\b\\ \b\b| \b\b/ \b\b- \b\b\\ \b\b| \b\b/ \b\b- \b\b\\ \b\b| \b\b/ \b\b- \b\b\\ \b\b| \b\b/ \b\b- \b\b\\ \b\b| \b\b/ \b\b- \b\b\\ \b\b| \b\b/ \b\b- \b\b\\ \b\b| \b\b/ \b\b- \b\b\\ \b\b| \b\b/ \b\b- \b\b\\ \b\b| \b\b/ \b\b- \b\b\\ \b\b| \b\b/ \b\b- \b\b\\ \b\b| \b\b/ \b\b- \b\b\\ \b\b| \b\b/ \b\b- \b\b\\ \b\b| \b\b/ \b\b- \b\b\\ \b\b| \b\b/ \b\b- \b\b\\ \b\b| \b\b/ \b\b- \b\b\\ \b\b| \b\b/ \b\b- \b\b\\ \b\b| \b\b/ \b\b- \b\b\\ \b\b| \b\b/ \b\b- \b\b\\ \b\b| \b\b/ \b\b- \b\b\\ \b\b| \b\b/ \b\b- \b\b\\ \b\b| \b\b/ \b\b- \b\b\\ \b\b| \b\b/ \b\b- \b\b\\ \b\bdone\n",
            "\n",
            "## Package Plan ##\n",
            "\n",
            "  environment location: /usr/local\n",
            "\n",
            "  added / updated specs:\n",
            "    - cudatoolkit=10.1\n",
            "    - cudf=0.14\n",
            "    - cugraph\n",
            "    - cuml\n",
            "    - cusignal\n",
            "    - cuspatial\n",
            "    - dask-cudf\n",
            "    - gcsfs\n",
            "    - gdal=3.0.4\n",
            "    - llvm=9.0.0\n",
            "    - pynvml\n",
            "    - python=3.6\n",
            "    - xgboost=1.1.0dev.rapidsai0.14\n",
            "\n",
            "\n",
            "The following packages will be downloaded:\n",
            "\n",
            "    package                    |            build\n",
            "    ---------------------------|-----------------\n",
            "    aiohttp-2.0.7              |           py36_0         474 KB  conda-forge\n",
            "    arrow-cpp-0.15.0           |   py36h090bef1_2        18.1 MB  conda-forge\n",
            "    async-timeout-3.0.1        |          py_1000          11 KB  conda-forge\n",
            "    blinker-1.4                |             py_1          13 KB  conda-forge\n",
            "    bokeh-2.2.3                |   py36h5fab9bb_0         7.0 MB  conda-forge\n",
            "    boost-1.70.0               |   py36h9de70de_1         337 KB  conda-forge\n",
            "    boost-cpp-1.70.0           |       h8e57a91_2        21.1 MB  conda-forge\n",
            "    brotli-1.0.9               |       h9c3ff4c_4         389 KB  conda-forge\n",
            "    bzip2-1.0.8                |       h7f98852_4         484 KB  conda-forge\n",
            "    c-ares-1.17.1              |       h36c2ea0_0         111 KB  conda-forge\n",
            "    cachetools-4.2.1           |     pyhd8ed1ab_0          13 KB  conda-forge\n",
            "    cairo-1.16.0               |    hcf35c78_1003         1.5 MB  conda-forge\n",
            "    cfitsio-3.470              |       hb418390_7         1.3 MB  conda-forge\n",
            "    click-7.1.2                |     pyh9f0ad1d_0          64 KB  conda-forge\n",
            "    cloudpickle-1.6.0          |             py_0          22 KB  conda-forge\n",
            "    contextvars-2.4            |             py_0          11 KB  conda-forge\n",
            "    cudatoolkit-10.1.243       |       h6bb024c_0       513.2 MB  nvidia\n",
            "    cudf-0.14.0                |           py36_0        25.7 MB  rapidsai/label/main\n",
            "    cudnn-7.6.0                |       cuda10.1_0       240.9 MB  nvidia\n",
            "    cugraph-0.14.0             |           py36_0         6.9 MB  rapidsai/label/main\n",
            "    cuml-0.14.0                |  cuda10.1_py36_0         9.6 MB  rapidsai/label/main\n",
            "    cupy-7.8.0                 |   py36h5c369b2_1        20.6 MB  conda-forge\n",
            "    curl-7.71.1                |       he644dc0_8         139 KB  conda-forge\n",
            "    cusignal-0.16.0            |  py38_g61980b6_0         821 KB  rapidsai/label/main\n",
            "    cuspatial-0.14.0           |           py36_0         3.6 MB  rapidsai/label/main\n",
            "    cytoolz-0.11.0             |   py36h8f6f2f9_3         393 KB  conda-forge\n",
            "    dask-2021.2.0              |     pyhd8ed1ab_0           4 KB  conda-forge\n",
            "    dask-core-2021.2.0         |     pyhd8ed1ab_0         681 KB  conda-forge\n",
            "    dask-cudf-0.14.0           |           py36_0          81 KB  rapidsai/label/main\n",
            "    distributed-2021.2.0       |   py36h5fab9bb_0         1.1 MB  conda-forge\n",
            "    dlpack-0.3                 |       he1b5a44_1          13 KB  conda-forge\n",
            "    double-conversion-3.1.5    |       he1b5a44_2          85 KB  conda-forge\n",
            "    expat-2.2.10               |       h9c3ff4c_0         164 KB  conda-forge\n",
            "    fastavro-1.3.2             |   py36h8f6f2f9_0         481 KB  conda-forge\n",
            "    fastrlock-0.5              |   py36hc4f0c31_2          31 KB  conda-forge\n",
            "    fontconfig-2.13.1          |    hba837de_1004         344 KB  conda-forge\n",
            "    freetype-2.10.4            |       h0708190_1         890 KB  conda-forge\n",
            "    freexl-1.0.5               |    h516909a_1002          46 KB  conda-forge\n",
            "    fsspec-0.8.5               |     pyhd8ed1ab_0          69 KB  conda-forge\n",
            "    gcsfs-0.7.2                |     pyhd8ed1ab_0          23 KB  conda-forge\n",
            "    gdal-3.0.4                 |  py36hd60729c_10         1.3 MB  conda-forge\n",
            "    geos-3.8.1                 |       he1b5a44_0         1.0 MB  conda-forge\n",
            "    geotiff-1.6.0              |       h05acad5_0         280 KB  conda-forge\n",
            "    gettext-0.19.8.1           |    h0b5b191_1005         3.6 MB  conda-forge\n",
            "    gflags-2.2.2               |    he1b5a44_1004         114 KB  conda-forge\n",
            "    giflib-5.2.1               |       h36c2ea0_2          77 KB  conda-forge\n",
            "    glib-2.66.7                |       h9c3ff4c_0         441 KB  conda-forge\n",
            "    glib-tools-2.66.7          |       h9c3ff4c_0          85 KB  conda-forge\n",
            "    glog-0.4.0                 |       h49b9bf7_3         104 KB  conda-forge\n",
            "    google-auth-1.21.3         |             py_0          56 KB  conda-forge\n",
            "    google-auth-oauthlib-0.4.2 |     pyhd8ed1ab_0          19 KB  conda-forge\n",
            "    grpc-cpp-1.23.0            |       h18db393_0         4.5 MB  conda-forge\n",
            "    hdf4-4.2.13                |    h10796ff_1004         951 KB  conda-forge\n",
            "    hdf5-1.10.6                |nompi_h6a2412b_1114         3.1 MB  conda-forge\n",
            "    heapdict-1.0.1             |             py_0           7 KB  conda-forge\n",
            "    icu-64.2                   |       he1b5a44_1        12.6 MB  conda-forge\n",
            "    immutables-0.15            |   py36h8f6f2f9_0          70 KB  conda-forge\n",
            "    jinja2-2.11.3              |     pyh44b312d_0          93 KB  conda-forge\n",
            "    joblib-1.0.1               |     pyhd8ed1ab_0         206 KB  conda-forge\n",
            "    jpeg-9d                    |       h36c2ea0_0         264 KB  conda-forge\n",
            "    json-c-0.13.1              |    hbfbb72e_1002          76 KB  conda-forge\n",
            "    kealib-1.4.14              |       he4dc956_1         186 KB  conda-forge\n",
            "    krb5-1.17.2                |       h926e7f8_0         1.4 MB  conda-forge\n",
            "    lcms2-2.11                 |       hcbb858e_1         434 KB  conda-forge\n",
            "    libblas-3.9.0              |       8_openblas          11 KB  conda-forge\n",
            "    libcblas-3.9.0             |       8_openblas          11 KB  conda-forge\n",
            "    libcudf-0.14.0             |       cuda10.1_0       101.5 MB  rapidsai/label/main\n",
            "    libcugraph-0.14.0          |       cuda10.1_0        14.3 MB  rapidsai/label/main\n",
            "    libcuml-0.14.0             |       cuda10.1_0        42.4 MB  rapidsai/label/main\n",
            "    libcumlprims-0.14.1        |       cuda10.1_0         6.0 MB  nvidia\n",
            "    libcurl-7.71.1             |       hcdd3856_8         312 KB  conda-forge\n",
            "    libcuspatial-0.14.0        |       cuda10.1_0         3.4 MB  rapidsai/label/main\n",
            "    libdap4-3.20.6             |       hd7c4107_1        11.4 MB  conda-forge\n",
            "    libedit-3.1.20191231       |       he28a2e2_2         121 KB  conda-forge\n",
            "    libev-4.33                 |       h516909a_1         104 KB  conda-forge\n",
            "    libevent-2.1.10            |       hcdb4288_3         1.1 MB  conda-forge\n",
            "    libgdal-3.0.4              |      he6a97d6_10        18.8 MB  conda-forge\n",
            "    libgfortran-ng-9.3.0       |      hff62375_18          22 KB  conda-forge\n",
            "    libgfortran5-9.3.0         |      hff62375_18         2.0 MB  conda-forge\n",
            "    libglib-2.66.7             |       h1f3bc88_0         3.0 MB  conda-forge\n",
            "    libhwloc-2.1.0             |       h3c4fd83_0         2.7 MB  conda-forge\n",
            "    libiconv-1.16              |       h516909a_0         1.4 MB  conda-forge\n",
            "    libkml-1.3.0               |    h4fcabce_1010         643 KB  conda-forge\n",
            "    liblapack-3.9.0            |       8_openblas          11 KB  conda-forge\n",
            "    libllvm8-8.0.1             |       hc9558a2_0        23.2 MB  conda-forge\n",
            "    libllvm9-9.0.0             |       hc9558a2_3        25.1 MB  conda-forge\n",
            "    libnetcdf-4.7.4            |nompi_h56d31a8_107         1.3 MB  conda-forge\n",
            "    libnghttp2-1.43.0          |       h812cca2_0         808 KB  conda-forge\n",
            "    libnvstrings-0.14.0        |       cuda10.1_0        30.1 MB  rapidsai/label/main\n",
            "    libopenblas-0.3.12         |pthreads_h4812303_1         8.9 MB  conda-forge\n",
            "    libpng-1.6.37              |       h21135ba_2         306 KB  conda-forge\n",
            "    libpq-12.3                 |       h255efa7_3         2.6 MB  conda-forge\n",
            "    libprotobuf-3.8.0          |       h8b12597_0         4.7 MB  conda-forge\n",
            "    librmm-0.14.0              |       cuda10.1_0         189 KB  rapidsai/label/main\n",
            "    libspatialite-4.3.0a       |    h2482549_1038         3.1 MB  conda-forge\n",
            "    libssh2-1.9.0              |       hab1572f_5         225 KB  conda-forge\n",
            "    libtiff-4.1.0              |       hc3755c2_3         568 KB  conda-forge\n",
            "    libuuid-2.32.1             |    h7f98852_1000          28 KB  conda-forge\n",
            "    libwebp-base-1.2.0         |       h7f98852_0         808 KB  conda-forge\n",
            "    libxcb-1.13                |    h7f98852_1003         395 KB  conda-forge\n",
            "    libxgboost-1.1.0dev.rapidsai0.14|       cuda10.1_0        31.1 MB  rapidsai/label/main\n",
            "    libxml2-2.9.10             |       hee79883_0         1.3 MB  conda-forge\n",
            "    llvm-9.0.0                 |                3          47 KB  conda-forge\n",
            "    llvmlite-0.32.1            |   py36hfa65bc7_0         328 KB  conda-forge\n",
            "    locket-0.2.0               |             py_2           6 KB  conda-forge\n",
            "    lz4-c-1.8.3                |    he1b5a44_1001         187 KB  conda-forge\n",
            "    markupsafe-1.1.1           |   py36h8f6f2f9_3          27 KB  conda-forge\n",
            "    msgpack-python-1.0.2       |   py36h605e78d_1          91 KB  conda-forge\n",
            "    multidict-5.1.0            |   py36h8f6f2f9_1          67 KB  conda-forge\n",
            "    nccl-2.5.7.1               |       h51cf6c1_0        98.4 MB  conda-forge\n",
            "    numba-0.49.1               |   py36h0573a6f_0         3.1 MB\n",
            "    numpy-1.19.5               |   py36h2aa4a07_1         5.3 MB  conda-forge\n",
            "    nvstrings-0.14.0           |           py36_0         129 KB  rapidsai/label/main\n",
            "    oauthlib-3.0.1             |             py_0          82 KB  conda-forge\n",
            "    olefile-0.46               |     pyh9f0ad1d_1          32 KB  conda-forge\n",
            "    openjpeg-2.3.1             |       hf7af979_3         395 KB  conda-forge\n",
            "    packaging-20.9             |     pyh44b312d_0          35 KB  conda-forge\n",
            "    pandas-0.25.3              |   py36hb3f55d8_0        11.4 MB  conda-forge\n",
            "    parquet-cpp-1.5.1          |                2           3 KB  conda-forge\n",
            "    partd-1.1.0                |             py_0          17 KB  conda-forge\n",
            "    pcre-8.44                  |       he1b5a44_0         261 KB  conda-forge\n",
            "    pillow-8.1.0               |   py36h4f9996e_1         675 KB  conda-forge\n",
            "    pixman-0.38.0              |    h516909a_1003         594 KB  conda-forge\n",
            "    poppler-0.87.0             |       h4190859_1        12.9 MB  conda-forge\n",
            "    poppler-data-0.4.10        |                0         3.8 MB  conda-forge\n",
            "    postgresql-12.3            |       hc2f5b80_3         5.0 MB  conda-forge\n",
            "    proj-7.0.0                 |       h966b41f_5         3.7 MB  conda-forge\n",
            "    psutil-5.8.0               |   py36h8f6f2f9_1         342 KB  conda-forge\n",
            "    pthread-stubs-0.4          |    h36c2ea0_1001           5 KB  conda-forge\n",
            "    py-xgboost-1.1.0dev.rapidsai0.14|   cuda10.1py36_0         106 KB  rapidsai/label/main\n",
            "    pyarrow-0.15.0             |   py36h8b68381_1         3.2 MB  conda-forge\n",
            "    pyasn1-0.4.8               |             py_0          53 KB  conda-forge\n",
            "    pyasn1-modules-0.2.7       |             py_0          60 KB  conda-forge\n",
            "    pyjwt-2.0.1                |     pyhd8ed1ab_0          17 KB  conda-forge\n",
            "    pynvml-8.0.4               |             py_1          31 KB  conda-forge\n",
            "    pyparsing-2.4.7            |     pyh9f0ad1d_0          60 KB  conda-forge\n",
            "    python-3.6.13              |hffdb5ce_0_cpython        38.4 MB  conda-forge\n",
            "    python-dateutil-2.8.1      |             py_0         220 KB  conda-forge\n",
            "    pytz-2021.1                |     pyhd8ed1ab_0         239 KB  conda-forge\n",
            "    pyyaml-5.4.1               |   py36h8f6f2f9_0         190 KB  conda-forge\n",
            "    re2-2020.04.01             |       he1b5a44_0         438 KB  conda-forge\n",
            "    requests-oauthlib-1.3.0    |     pyh9f0ad1d_0          21 KB  conda-forge\n",
            "    rmm-0.14.0                 |           py36_0         684 KB  rapidsai/label/main\n",
            "    rsa-4.7.1                  |     pyh44b312d_0          28 KB  conda-forge\n",
            "    scikit-learn-0.24.1        |   py36he4fde30_0         7.5 MB  conda-forge\n",
            "    scipy-1.5.3                |   py36h9e8f40b_0        19.1 MB  conda-forge\n",
            "    snappy-1.1.8               |       he1b5a44_3          32 KB  conda-forge\n",
            "    sortedcontainers-2.3.0     |     pyhd8ed1ab_0          26 KB  conda-forge\n",
            "    spdlog-1.8.2               |       h4bd325d_1         351 KB  conda-forge\n",
            "    tbb-2018.0.5               |       h2d50403_0         1.1 MB  conda-forge\n",
            "    tblib-1.6.0                |             py_0          14 KB  conda-forge\n",
            "    threadpoolctl-2.1.0        |     pyh5ca1d4c_0          15 KB  conda-forge\n",
            "    thrift-cpp-0.12.0          |    hf3afdfd_1004         2.4 MB  conda-forge\n",
            "    tiledb-1.7.7               |       hcde45ca_0         2.0 MB  conda-forge\n",
            "    toolz-0.11.1               |             py_0          46 KB  conda-forge\n",
            "    tornado-6.1                |   py36h8f6f2f9_1         643 KB  conda-forge\n",
            "    typing_extensions-3.7.4.3  |             py_0          25 KB  conda-forge\n",
            "    tzcode-2021a               |       h7f98852_0         296 KB  conda-forge\n",
            "    ucx-1.8.0+gf6ec8d4         |      cuda10.1_20         8.9 MB  rapidsai/label/main\n",
            "    ucx-py-0.14.0+gf6ec8d4     |           py36_0         137 KB  rapidsai/label/main\n",
            "    uriparser-0.9.3            |       he1b5a44_1          49 KB  conda-forge\n",
            "    xerces-c-3.2.2             |    h8412b87_1004         1.7 MB  conda-forge\n",
            "    xgboost-1.1.0dev.rapidsai0.14|   cuda10.1py36_0          12 KB  rapidsai/label/main\n",
            "    xorg-kbproto-1.0.7         |    h7f98852_1002          27 KB  conda-forge\n",
            "    xorg-libice-1.0.10         |       h516909a_0          57 KB  conda-forge\n",
            "    xorg-libsm-1.2.3           |    h84519dc_1000          25 KB  conda-forge\n",
            "    xorg-libx11-1.6.12         |       h516909a_0         917 KB  conda-forge\n",
            "    xorg-libxau-1.0.9          |       h7f98852_0          13 KB  conda-forge\n",
            "    xorg-libxdmcp-1.1.3        |       h7f98852_0          19 KB  conda-forge\n",
            "    xorg-libxext-1.3.4         |       h516909a_0          51 KB  conda-forge\n",
            "    xorg-libxrender-0.9.10     |    h516909a_1002          31 KB  conda-forge\n",
            "    xorg-renderproto-0.11.1    |    h14c3975_1002           8 KB  conda-forge\n",
            "    xorg-xextproto-7.3.0       |    h7f98852_1002          28 KB  conda-forge\n",
            "    xorg-xproto-7.0.31         |    h7f98852_1007          73 KB  conda-forge\n",
            "    yarl-0.10.0                |           py36_0         163 KB  conda-forge\n",
            "    zict-2.0.0                 |             py_0          10 KB  conda-forge\n",
            "    zstd-1.4.4                 |       h3b9ef0a_2         982 KB  conda-forge\n",
            "    ------------------------------------------------------------\n",
            "                                           Total:        1.45 GB\n",
            "\n",
            "The following NEW packages will be INSTALLED:\n",
            "\n",
            "  aiohttp            conda-forge/linux-64::aiohttp-2.0.7-py36_0\n",
            "  arrow-cpp          conda-forge/linux-64::arrow-cpp-0.15.0-py36h090bef1_2\n",
            "  async-timeout      conda-forge/noarch::async-timeout-3.0.1-py_1000\n",
            "  blinker            conda-forge/noarch::blinker-1.4-py_1\n",
            "  bokeh              conda-forge/linux-64::bokeh-2.2.3-py36h5fab9bb_0\n",
            "  boost              conda-forge/linux-64::boost-1.70.0-py36h9de70de_1\n",
            "  boost-cpp          conda-forge/linux-64::boost-cpp-1.70.0-h8e57a91_2\n",
            "  brotli             conda-forge/linux-64::brotli-1.0.9-h9c3ff4c_4\n",
            "  bzip2              conda-forge/linux-64::bzip2-1.0.8-h7f98852_4\n",
            "  c-ares             conda-forge/linux-64::c-ares-1.17.1-h36c2ea0_0\n",
            "  cachetools         conda-forge/noarch::cachetools-4.2.1-pyhd8ed1ab_0\n",
            "  cairo              conda-forge/linux-64::cairo-1.16.0-hcf35c78_1003\n",
            "  cfitsio            conda-forge/linux-64::cfitsio-3.470-hb418390_7\n",
            "  click              conda-forge/noarch::click-7.1.2-pyh9f0ad1d_0\n",
            "  cloudpickle        conda-forge/noarch::cloudpickle-1.6.0-py_0\n",
            "  contextvars        conda-forge/noarch::contextvars-2.4-py_0\n",
            "  cudatoolkit        nvidia/linux-64::cudatoolkit-10.1.243-h6bb024c_0\n",
            "  cudf               rapidsai/label/main/linux-64::cudf-0.14.0-py36_0\n",
            "  cudnn              nvidia/linux-64::cudnn-7.6.0-cuda10.1_0\n",
            "  cugraph            rapidsai/label/main/linux-64::cugraph-0.14.0-py36_0\n",
            "  cuml               rapidsai/label/main/linux-64::cuml-0.14.0-cuda10.1_py36_0\n",
            "  cupy               conda-forge/linux-64::cupy-7.8.0-py36h5c369b2_1\n",
            "  curl               conda-forge/linux-64::curl-7.71.1-he644dc0_8\n",
            "  cusignal           rapidsai/label/main/noarch::cusignal-0.16.0-py38_g61980b6_0\n",
            "  cuspatial          rapidsai/label/main/linux-64::cuspatial-0.14.0-py36_0\n",
            "  cytoolz            conda-forge/linux-64::cytoolz-0.11.0-py36h8f6f2f9_3\n",
            "  dask               conda-forge/noarch::dask-2021.2.0-pyhd8ed1ab_0\n",
            "  dask-core          conda-forge/noarch::dask-core-2021.2.0-pyhd8ed1ab_0\n",
            "  dask-cudf          rapidsai/label/main/linux-64::dask-cudf-0.14.0-py36_0\n",
            "  distributed        conda-forge/linux-64::distributed-2021.2.0-py36h5fab9bb_0\n",
            "  dlpack             conda-forge/linux-64::dlpack-0.3-he1b5a44_1\n",
            "  double-conversion  conda-forge/linux-64::double-conversion-3.1.5-he1b5a44_2\n",
            "  expat              conda-forge/linux-64::expat-2.2.10-h9c3ff4c_0\n",
            "  fastavro           conda-forge/linux-64::fastavro-1.3.2-py36h8f6f2f9_0\n",
            "  fastrlock          conda-forge/linux-64::fastrlock-0.5-py36hc4f0c31_2\n",
            "  fontconfig         conda-forge/linux-64::fontconfig-2.13.1-hba837de_1004\n",
            "  freetype           conda-forge/linux-64::freetype-2.10.4-h0708190_1\n",
            "  freexl             conda-forge/linux-64::freexl-1.0.5-h516909a_1002\n",
            "  fsspec             conda-forge/noarch::fsspec-0.8.5-pyhd8ed1ab_0\n",
            "  gcsfs              conda-forge/noarch::gcsfs-0.7.2-pyhd8ed1ab_0\n",
            "  gdal               conda-forge/linux-64::gdal-3.0.4-py36hd60729c_10\n",
            "  geos               conda-forge/linux-64::geos-3.8.1-he1b5a44_0\n",
            "  geotiff            conda-forge/linux-64::geotiff-1.6.0-h05acad5_0\n",
            "  gettext            conda-forge/linux-64::gettext-0.19.8.1-h0b5b191_1005\n",
            "  gflags             conda-forge/linux-64::gflags-2.2.2-he1b5a44_1004\n",
            "  giflib             conda-forge/linux-64::giflib-5.2.1-h36c2ea0_2\n",
            "  glib               conda-forge/linux-64::glib-2.66.7-h9c3ff4c_0\n",
            "  glib-tools         conda-forge/linux-64::glib-tools-2.66.7-h9c3ff4c_0\n",
            "  glog               conda-forge/linux-64::glog-0.4.0-h49b9bf7_3\n",
            "  google-auth        conda-forge/noarch::google-auth-1.21.3-py_0\n",
            "  google-auth-oauth~ conda-forge/noarch::google-auth-oauthlib-0.4.2-pyhd8ed1ab_0\n",
            "  grpc-cpp           conda-forge/linux-64::grpc-cpp-1.23.0-h18db393_0\n",
            "  hdf4               conda-forge/linux-64::hdf4-4.2.13-h10796ff_1004\n",
            "  hdf5               conda-forge/linux-64::hdf5-1.10.6-nompi_h6a2412b_1114\n",
            "  heapdict           conda-forge/noarch::heapdict-1.0.1-py_0\n",
            "  icu                conda-forge/linux-64::icu-64.2-he1b5a44_1\n",
            "  immutables         conda-forge/linux-64::immutables-0.15-py36h8f6f2f9_0\n",
            "  jinja2             conda-forge/noarch::jinja2-2.11.3-pyh44b312d_0\n",
            "  joblib             conda-forge/noarch::joblib-1.0.1-pyhd8ed1ab_0\n",
            "  jpeg               conda-forge/linux-64::jpeg-9d-h36c2ea0_0\n",
            "  json-c             conda-forge/linux-64::json-c-0.13.1-hbfbb72e_1002\n",
            "  kealib             conda-forge/linux-64::kealib-1.4.14-he4dc956_1\n",
            "  krb5               conda-forge/linux-64::krb5-1.17.2-h926e7f8_0\n",
            "  lcms2              conda-forge/linux-64::lcms2-2.11-hcbb858e_1\n",
            "  libblas            conda-forge/linux-64::libblas-3.9.0-8_openblas\n",
            "  libcblas           conda-forge/linux-64::libcblas-3.9.0-8_openblas\n",
            "  libcudf            rapidsai/label/main/linux-64::libcudf-0.14.0-cuda10.1_0\n",
            "  libcugraph         rapidsai/label/main/linux-64::libcugraph-0.14.0-cuda10.1_0\n",
            "  libcuml            rapidsai/label/main/linux-64::libcuml-0.14.0-cuda10.1_0\n",
            "  libcumlprims       nvidia/linux-64::libcumlprims-0.14.1-cuda10.1_0\n",
            "  libcurl            conda-forge/linux-64::libcurl-7.71.1-hcdd3856_8\n",
            "  libcuspatial       rapidsai/label/main/linux-64::libcuspatial-0.14.0-cuda10.1_0\n",
            "  libdap4            conda-forge/linux-64::libdap4-3.20.6-hd7c4107_1\n",
            "  libedit            conda-forge/linux-64::libedit-3.1.20191231-he28a2e2_2\n",
            "  libev              conda-forge/linux-64::libev-4.33-h516909a_1\n",
            "  libevent           conda-forge/linux-64::libevent-2.1.10-hcdb4288_3\n",
            "  libgdal            conda-forge/linux-64::libgdal-3.0.4-he6a97d6_10\n",
            "  libgfortran-ng     conda-forge/linux-64::libgfortran-ng-9.3.0-hff62375_18\n",
            "  libgfortran5       conda-forge/linux-64::libgfortran5-9.3.0-hff62375_18\n",
            "  libglib            conda-forge/linux-64::libglib-2.66.7-h1f3bc88_0\n",
            "  libhwloc           conda-forge/linux-64::libhwloc-2.1.0-h3c4fd83_0\n",
            "  libiconv           conda-forge/linux-64::libiconv-1.16-h516909a_0\n",
            "  libkml             conda-forge/linux-64::libkml-1.3.0-h4fcabce_1010\n",
            "  liblapack          conda-forge/linux-64::liblapack-3.9.0-8_openblas\n",
            "  libllvm8           conda-forge/linux-64::libllvm8-8.0.1-hc9558a2_0\n",
            "  libllvm9           conda-forge/linux-64::libllvm9-9.0.0-hc9558a2_3\n",
            "  libnetcdf          conda-forge/linux-64::libnetcdf-4.7.4-nompi_h56d31a8_107\n",
            "  libnghttp2         conda-forge/linux-64::libnghttp2-1.43.0-h812cca2_0\n",
            "  libnvstrings       rapidsai/label/main/linux-64::libnvstrings-0.14.0-cuda10.1_0\n",
            "  libopenblas        conda-forge/linux-64::libopenblas-0.3.12-pthreads_h4812303_1\n",
            "  libpng             conda-forge/linux-64::libpng-1.6.37-h21135ba_2\n",
            "  libpq              conda-forge/linux-64::libpq-12.3-h255efa7_3\n",
            "  libprotobuf        conda-forge/linux-64::libprotobuf-3.8.0-h8b12597_0\n",
            "  librmm             rapidsai/label/main/linux-64::librmm-0.14.0-cuda10.1_0\n",
            "  libspatialite      conda-forge/linux-64::libspatialite-4.3.0a-h2482549_1038\n",
            "  libssh2            conda-forge/linux-64::libssh2-1.9.0-hab1572f_5\n",
            "  libtiff            conda-forge/linux-64::libtiff-4.1.0-hc3755c2_3\n",
            "  libuuid            conda-forge/linux-64::libuuid-2.32.1-h7f98852_1000\n",
            "  libwebp-base       conda-forge/linux-64::libwebp-base-1.2.0-h7f98852_0\n",
            "  libxcb             conda-forge/linux-64::libxcb-1.13-h7f98852_1003\n",
            "  libxgboost         rapidsai/label/main/linux-64::libxgboost-1.1.0dev.rapidsai0.14-cuda10.1_0\n",
            "  libxml2            conda-forge/linux-64::libxml2-2.9.10-hee79883_0\n",
            "  llvm               conda-forge/linux-64::llvm-9.0.0-3\n",
            "  llvmlite           conda-forge/linux-64::llvmlite-0.32.1-py36hfa65bc7_0\n",
            "  locket             conda-forge/noarch::locket-0.2.0-py_2\n",
            "  lz4-c              conda-forge/linux-64::lz4-c-1.8.3-he1b5a44_1001\n",
            "  markupsafe         conda-forge/linux-64::markupsafe-1.1.1-py36h8f6f2f9_3\n",
            "  msgpack-python     conda-forge/linux-64::msgpack-python-1.0.2-py36h605e78d_1\n",
            "  multidict          conda-forge/linux-64::multidict-5.1.0-py36h8f6f2f9_1\n",
            "  nccl               conda-forge/linux-64::nccl-2.5.7.1-h51cf6c1_0\n",
            "  numba              pkgs/main/linux-64::numba-0.49.1-py36h0573a6f_0\n",
            "  numpy              conda-forge/linux-64::numpy-1.19.5-py36h2aa4a07_1\n",
            "  nvstrings          rapidsai/label/main/linux-64::nvstrings-0.14.0-py36_0\n",
            "  oauthlib           conda-forge/noarch::oauthlib-3.0.1-py_0\n",
            "  olefile            conda-forge/noarch::olefile-0.46-pyh9f0ad1d_1\n",
            "  openjpeg           conda-forge/linux-64::openjpeg-2.3.1-hf7af979_3\n",
            "  packaging          conda-forge/noarch::packaging-20.9-pyh44b312d_0\n",
            "  pandas             conda-forge/linux-64::pandas-0.25.3-py36hb3f55d8_0\n",
            "  parquet-cpp        conda-forge/noarch::parquet-cpp-1.5.1-2\n",
            "  partd              conda-forge/noarch::partd-1.1.0-py_0\n",
            "  pcre               conda-forge/linux-64::pcre-8.44-he1b5a44_0\n",
            "  pillow             conda-forge/linux-64::pillow-8.1.0-py36h4f9996e_1\n",
            "  pixman             conda-forge/linux-64::pixman-0.38.0-h516909a_1003\n",
            "  poppler            conda-forge/linux-64::poppler-0.87.0-h4190859_1\n",
            "  poppler-data       conda-forge/noarch::poppler-data-0.4.10-0\n",
            "  postgresql         conda-forge/linux-64::postgresql-12.3-hc2f5b80_3\n",
            "  proj               conda-forge/linux-64::proj-7.0.0-h966b41f_5\n",
            "  psutil             conda-forge/linux-64::psutil-5.8.0-py36h8f6f2f9_1\n",
            "  pthread-stubs      conda-forge/linux-64::pthread-stubs-0.4-h36c2ea0_1001\n",
            "  py-xgboost         rapidsai/label/main/linux-64::py-xgboost-1.1.0dev.rapidsai0.14-cuda10.1py36_0\n",
            "  pyarrow            conda-forge/linux-64::pyarrow-0.15.0-py36h8b68381_1\n",
            "  pyasn1             conda-forge/noarch::pyasn1-0.4.8-py_0\n",
            "  pyasn1-modules     conda-forge/noarch::pyasn1-modules-0.2.7-py_0\n",
            "  pyjwt              conda-forge/noarch::pyjwt-2.0.1-pyhd8ed1ab_0\n",
            "  pynvml             conda-forge/noarch::pynvml-8.0.4-py_1\n",
            "  pyparsing          conda-forge/noarch::pyparsing-2.4.7-pyh9f0ad1d_0\n",
            "  python-dateutil    conda-forge/noarch::python-dateutil-2.8.1-py_0\n",
            "  pytz               conda-forge/noarch::pytz-2021.1-pyhd8ed1ab_0\n",
            "  pyyaml             conda-forge/linux-64::pyyaml-5.4.1-py36h8f6f2f9_0\n",
            "  re2                conda-forge/linux-64::re2-2020.04.01-he1b5a44_0\n",
            "  requests-oauthlib  conda-forge/noarch::requests-oauthlib-1.3.0-pyh9f0ad1d_0\n",
            "  rmm                rapidsai/label/main/linux-64::rmm-0.14.0-py36_0\n",
            "  rsa                conda-forge/noarch::rsa-4.7.1-pyh44b312d_0\n",
            "  scikit-learn       conda-forge/linux-64::scikit-learn-0.24.1-py36he4fde30_0\n",
            "  scipy              conda-forge/linux-64::scipy-1.5.3-py36h9e8f40b_0\n",
            "  snappy             conda-forge/linux-64::snappy-1.1.8-he1b5a44_3\n",
            "  sortedcontainers   conda-forge/noarch::sortedcontainers-2.3.0-pyhd8ed1ab_0\n",
            "  spdlog             conda-forge/linux-64::spdlog-1.8.2-h4bd325d_1\n",
            "  tbb                conda-forge/linux-64::tbb-2018.0.5-h2d50403_0\n",
            "  tblib              conda-forge/noarch::tblib-1.6.0-py_0\n",
            "  threadpoolctl      conda-forge/noarch::threadpoolctl-2.1.0-pyh5ca1d4c_0\n",
            "  thrift-cpp         conda-forge/linux-64::thrift-cpp-0.12.0-hf3afdfd_1004\n",
            "  tiledb             conda-forge/linux-64::tiledb-1.7.7-hcde45ca_0\n",
            "  toolz              conda-forge/noarch::toolz-0.11.1-py_0\n",
            "  tornado            conda-forge/linux-64::tornado-6.1-py36h8f6f2f9_1\n",
            "  typing_extensions  conda-forge/noarch::typing_extensions-3.7.4.3-py_0\n",
            "  tzcode             conda-forge/linux-64::tzcode-2021a-h7f98852_0\n",
            "  ucx                rapidsai/label/main/linux-64::ucx-1.8.0+gf6ec8d4-cuda10.1_20\n",
            "  ucx-py             rapidsai/label/main/linux-64::ucx-py-0.14.0+gf6ec8d4-py36_0\n",
            "  uriparser          conda-forge/linux-64::uriparser-0.9.3-he1b5a44_1\n",
            "  xerces-c           conda-forge/linux-64::xerces-c-3.2.2-h8412b87_1004\n",
            "  xgboost            rapidsai/label/main/linux-64::xgboost-1.1.0dev.rapidsai0.14-cuda10.1py36_0\n",
            "  xorg-kbproto       conda-forge/linux-64::xorg-kbproto-1.0.7-h7f98852_1002\n",
            "  xorg-libice        conda-forge/linux-64::xorg-libice-1.0.10-h516909a_0\n",
            "  xorg-libsm         conda-forge/linux-64::xorg-libsm-1.2.3-h84519dc_1000\n",
            "  xorg-libx11        conda-forge/linux-64::xorg-libx11-1.6.12-h516909a_0\n",
            "  xorg-libxau        conda-forge/linux-64::xorg-libxau-1.0.9-h7f98852_0\n",
            "  xorg-libxdmcp      conda-forge/linux-64::xorg-libxdmcp-1.1.3-h7f98852_0\n",
            "  xorg-libxext       conda-forge/linux-64::xorg-libxext-1.3.4-h516909a_0\n",
            "  xorg-libxrender    conda-forge/linux-64::xorg-libxrender-0.9.10-h516909a_1002\n",
            "  xorg-renderproto   conda-forge/linux-64::xorg-renderproto-0.11.1-h14c3975_1002\n",
            "  xorg-xextproto     conda-forge/linux-64::xorg-xextproto-7.3.0-h7f98852_1002\n",
            "  xorg-xproto        conda-forge/linux-64::xorg-xproto-7.0.31-h7f98852_1007\n",
            "  yarl               conda-forge/linux-64::yarl-0.10.0-py36_0\n",
            "  zict               conda-forge/noarch::zict-2.0.0-py_0\n",
            "  zstd               conda-forge/linux-64::zstd-1.4.4-h3b9ef0a_2\n",
            "\n",
            "The following packages will be UPDATED:\n",
            "\n",
            "  python                pkgs/main::python-3.6.12-hcff3b4d_2 --> conda-forge::python-3.6.13-hffdb5ce_0_cpython\n",
            "\n",
            "\n",
            "\n",
            "Downloading and Extracting Packages\n",
            "libblas-3.9.0        | 11 KB     | : 100% 1.0/1 [00:00<00:00, 16.51it/s]\n",
            "tblib-1.6.0          | 14 KB     | : 100% 1.0/1 [00:00<00:00, 37.55it/s]\n",
            "fastavro-1.3.2       | 481 KB    | : 100% 1.0/1 [00:00<00:00,  9.31it/s]\n",
            "msgpack-python-1.0.2 | 91 KB     | : 100% 1.0/1 [00:00<00:00, 18.85it/s]\n",
            "pyarrow-0.15.0       | 3.2 MB    | : 100% 1.0/1 [00:00<00:00,  1.30it/s]\n",
            "cudf-0.14.0          | 25.7 MB   | : 100% 1.0/1 [00:03<00:00,  3.69s/it]                \n",
            "hdf4-4.2.13          | 951 KB    | : 100% 1.0/1 [00:00<00:00,  5.30it/s]\n",
            "locket-0.2.0         | 6 KB      | : 100% 1.0/1 [00:00<00:00, 27.92it/s]\n",
            "oauthlib-3.0.1       | 82 KB     | : 100% 1.0/1 [00:00<00:00, 17.52it/s]\n",
            "fontconfig-2.13.1    | 344 KB    | : 100% 1.0/1 [00:00<00:00, 11.89it/s]\n",
            "partd-1.1.0          | 17 KB     | : 100% 1.0/1 [00:00<00:00, 25.16it/s]\n",
            "sortedcontainers-2.3 | 26 KB     | : 100% 1.0/1 [00:00<00:00, 20.93it/s]\n",
            "rsa-4.7.1            | 28 KB     | : 100% 1.0/1 [00:00<00:00, 25.53it/s]\n",
            "curl-7.71.1          | 139 KB    | : 100% 1.0/1 [00:00<00:00, 22.14it/s]\n",
            "threadpoolctl-2.1.0  | 15 KB     | : 100% 1.0/1 [00:00<00:00, 20.36it/s]\n",
            "libllvm8-8.0.1       | 23.2 MB   | : 100% 1.0/1 [00:03<00:00,  3.65s/it]              \n",
            "freexl-1.0.5         | 46 KB     | : 100% 1.0/1 [00:00<00:00, 30.97it/s]\n",
            "pixman-0.38.0        | 594 KB    | : 100% 1.0/1 [00:00<00:00,  8.49it/s]\n",
            "openjpeg-2.3.1       | 395 KB    | : 100% 1.0/1 [00:00<00:00,  6.45it/s]\n",
            "google-auth-oauthlib | 19 KB     | : 100% 1.0/1 [00:00<00:00, 29.16it/s]\n",
            "libcumlprims-0.14.1  | 6.0 MB    | : 100% 1.0/1 [00:01<00:00,  1.59s/it]\n",
            "cudnn-7.6.0          | 240.9 MB  | : 100% 1.0/1 [00:32<00:00, 32.32s/it]\n",
            "click-7.1.2          | 64 KB     | : 100% 1.0/1 [00:00<00:00, 16.72it/s]\n",
            "geotiff-1.6.0        | 280 KB    | : 100% 1.0/1 [00:00<00:00, 12.98it/s]\n",
            "py-xgboost-1.1.0dev. | 106 KB    | : 100% 1.0/1 [00:00<00:00,  4.65it/s]                \n",
            "cudatoolkit-10.1.243 | 513.2 MB  | : 100% 1.0/1 [01:06<00:00, 66.38s/it]\n",
            "pcre-8.44            | 261 KB    | : 100% 1.0/1 [00:00<00:00, 11.12it/s]\n",
            "libglib-2.66.7       | 3.0 MB    | : 100% 1.0/1 [00:00<00:00,  1.64it/s]\n",
            "pyasn1-modules-0.2.7 | 60 KB     | : 100% 1.0/1 [00:00<00:00, 10.55it/s]\n",
            "python-dateutil-2.8. | 220 KB    | : 100% 1.0/1 [00:00<00:00, 15.08it/s]\n",
            "poppler-0.87.0       | 12.9 MB   | : 100% 1.0/1 [00:02<00:00,  2.01s/it]             \n",
            "xorg-libx11-1.6.12   | 917 KB    | : 100% 1.0/1 [00:00<00:00,  5.56it/s]\n",
            "zstd-1.4.4           | 982 KB    | : 100% 1.0/1 [00:00<00:00,  5.43it/s]\n",
            "double-conversion-3. | 85 KB     | : 100% 1.0/1 [00:00<00:00, 17.41it/s]\n",
            "xorg-kbproto-1.0.7   | 27 KB     | : 100% 1.0/1 [00:00<00:00, 19.86it/s]\n",
            "xorg-renderproto-0.1 | 8 KB      | : 100% 1.0/1 [00:00<00:00, 23.38it/s]\n",
            "xorg-libxau-1.0.9    | 13 KB     | : 100% 1.0/1 [00:00<00:00, 29.45it/s]\n",
            "c-ares-1.17.1        | 111 KB    | : 100% 1.0/1 [00:00<00:00, 18.15it/s]\n",
            "aiohttp-2.0.7        | 474 KB    | : 100% 1.0/1 [00:00<00:00,  7.27it/s]\n",
            "joblib-1.0.1         | 206 KB    | : 100% 1.0/1 [00:00<00:00, 11.74it/s]\n",
            "google-auth-1.21.3   | 56 KB     | : 100% 1.0/1 [00:00<00:00, 16.15it/s]\n",
            "async-timeout-3.0.1  | 11 KB     | : 100% 1.0/1 [00:00<00:00, 24.54it/s]\n",
            "dlpack-0.3           | 13 KB     | : 100% 1.0/1 [00:00<00:00, 32.09it/s]\n",
            "postgresql-12.3      | 5.0 MB    | : 100% 1.0/1 [00:00<00:00,  1.32it/s]\n",
            "kealib-1.4.14        | 186 KB    | : 100% 1.0/1 [00:00<00:00, 17.76it/s]\n",
            "boost-cpp-1.70.0     | 21.1 MB   | : 100% 1.0/1 [00:06<00:00,  6.01s/it]               \n",
            "pyyaml-5.4.1         | 190 KB    | : 100% 1.0/1 [00:00<00:00, 13.29it/s]\n",
            "llvm-9.0.0           | 47 KB     | : 100% 1.0/1 [00:00<00:00, 22.98it/s]\n",
            "dask-2021.2.0        | 4 KB      | : 100% 1.0/1 [00:00<00:00, 21.81it/s]\n",
            "llvmlite-0.32.1      | 328 KB    | : 100% 1.0/1 [00:00<00:00,  9.72it/s]\n",
            "cuspatial-0.14.0     | 3.6 MB    | : 100% 1.0/1 [00:00<00:00,  1.21it/s]\n",
            "grpc-cpp-1.23.0      | 4.5 MB    | : 100% 1.0/1 [00:00<00:00,  1.12it/s]\n",
            "bzip2-1.0.8          | 484 KB    | : 100% 1.0/1 [00:00<00:00,  7.83it/s]\n",
            "icu-64.2             | 12.6 MB   | : 100% 1.0/1 [00:01<00:00,  1.83s/it]               \n",
            "giflib-5.2.1         | 77 KB     | : 100% 1.0/1 [00:00<00:00,  6.70it/s]               \n",
            "brotli-1.0.9         | 389 KB    | : 100% 1.0/1 [00:00<00:00, 11.96it/s]\n",
            "ucx-py-0.14.0+gf6ec8 | 137 KB    | : 100% 1.0/1 [00:00<00:00,  7.15it/s]               \n",
            "libcugraph-0.14.0    | 14.3 MB   | : 100% 1.0/1 [00:02<00:00,  2.30s/it]\n",
            "python-3.6.13        | 38.4 MB   | : 100% 1.0/1 [00:04<00:00,  4.89s/it]               \n",
            "contextvars-2.4      | 11 KB     | : 100% 1.0/1 [00:00<00:00, 40.23it/s]\n",
            "tiledb-1.7.7         | 2.0 MB    | : 100% 1.0/1 [00:00<00:00,  2.54it/s]\n",
            "libxml2-2.9.10       | 1.3 MB    | : 100% 1.0/1 [00:00<00:00,  3.30it/s]\n",
            "libprotobuf-3.8.0    | 4.7 MB    | : 100% 1.0/1 [00:00<00:00,  1.09it/s]\n",
            "libcuspatial-0.14.0  | 3.4 MB    | : 100% 1.0/1 [00:00<00:00,  1.01it/s]               \n",
            "xerces-c-3.2.2       | 1.7 MB    | : 100% 1.0/1 [00:00<00:00,  1.18it/s]\n",
            "requests-oauthlib-1. | 21 KB     | : 100% 1.0/1 [00:00<00:00, 11.80it/s]\n",
            "thrift-cpp-0.12.0    | 2.4 MB    | : 100% 1.0/1 [00:00<00:00,  2.29it/s]\n",
            "geos-3.8.1           | 1.0 MB    | : 100% 1.0/1 [00:00<00:00,  3.77it/s]\n",
            "lcms2-2.11           | 434 KB    | : 100% 1.0/1 [00:00<00:00,  6.46it/s]\n",
            "typing_extensions-3. | 25 KB     | : 100% 1.0/1 [00:00<00:00, 26.08it/s]\n",
            "uriparser-0.9.3      | 49 KB     | : 100% 1.0/1 [00:00<00:00, 26.95it/s]\n",
            "libspatialite-4.3.0a | 3.1 MB    | : 100% 1.0/1 [00:00<00:00,  1.77it/s]\n",
            "libiconv-1.16        | 1.4 MB    | : 100% 1.0/1 [00:00<00:00,  5.12it/s]\n",
            "markupsafe-1.1.1     | 27 KB     | : 100% 1.0/1 [00:00<00:00, 25.61it/s]\n",
            "libcblas-3.9.0       | 11 KB     | : 100% 1.0/1 [00:00<00:00, 25.42it/s]\n",
            "numpy-1.19.5         | 5.3 MB    | : 100% 1.0/1 [00:01<00:00,  1.01s/it]\n",
            "liblapack-3.9.0      | 11 KB     | : 100% 1.0/1 [00:00<00:00, 15.28it/s]\n",
            "freetype-2.10.4      | 890 KB    | : 100% 1.0/1 [00:00<00:00,  5.71it/s]\n",
            "gcsfs-0.7.2          | 23 KB     | : 100% 1.0/1 [00:00<00:00, 15.95it/s]\n",
            "cytoolz-0.11.0       | 393 KB    | : 100% 1.0/1 [00:00<00:00,  9.23it/s]\n",
            "pynvml-8.0.4         | 31 KB     | : 100% 1.0/1 [00:00<00:00, 18.46it/s]\n",
            "cusignal-0.16.0      | 821 KB    | : 100% 1.0/1 [00:00<00:00,  3.36it/s]\n",
            "tbb-2018.0.5         | 1.1 MB    | : 100% 1.0/1 [00:00<00:00,  5.29it/s]\n",
            "libkml-1.3.0         | 643 KB    | : 100% 1.0/1 [00:00<00:00,  6.41it/s]\n",
            "heapdict-1.0.1       | 7 KB      | : 100% 1.0/1 [00:00<00:00, 42.62it/s]\n",
            "libnvstrings-0.14.0  | 30.1 MB   | : 100% 1.0/1 [00:05<00:00,  6.00s/it]                \n",
            "libopenblas-0.3.12   | 8.9 MB    | : 100% 1.0/1 [00:01<00:00,  1.42s/it]               \n",
            "cloudpickle-1.6.0    | 22 KB     | : 100% 1.0/1 [00:00<00:00, 26.56it/s]\n",
            "distributed-2021.2.0 | 1.1 MB    | : 100% 1.0/1 [00:00<00:00,  3.67it/s]\n",
            "libcurl-7.71.1       | 312 KB    | : 100% 1.0/1 [00:00<00:00, 13.85it/s]\n",
            "glog-0.4.0           | 104 KB    | : 100% 1.0/1 [00:00<00:00, 14.55it/s]\n",
            "expat-2.2.10         | 164 KB    | : 100% 1.0/1 [00:00<00:00, 18.78it/s]\n",
            "libnetcdf-4.7.4      | 1.3 MB    | : 100% 1.0/1 [00:00<00:00,  4.51it/s]\n",
            "snappy-1.1.8         | 32 KB     | : 100% 1.0/1 [00:00<00:00, 34.93it/s]\n",
            "xorg-libice-1.0.10   | 57 KB     | : 100% 1.0/1 [00:00<00:00, 26.11it/s]\n",
            "immutables-0.15      | 70 KB     | : 100% 1.0/1 [00:00<00:00, 23.37it/s]\n",
            "libgdal-3.0.4        | 18.8 MB   | : 100% 1.0/1 [00:03<00:00,  3.13s/it]\n",
            "dask-cudf-0.14.0     | 81 KB     | : 100% 1.0/1 [00:00<00:00,  5.46it/s]               \n",
            "libev-4.33           | 104 KB    | : 100% 1.0/1 [00:00<00:00, 22.22it/s]\n",
            "libwebp-base-1.2.0   | 808 KB    | : 100% 1.0/1 [00:00<00:00,  6.02it/s]\n",
            "glib-2.66.7          | 441 KB    | : 100% 1.0/1 [00:00<00:00,  6.62it/s]\n",
            "xorg-libsm-1.2.3     | 25 KB     | : 100% 1.0/1 [00:00<00:00, 21.94it/s]\n",
            "psutil-5.8.0         | 342 KB    | : 100% 1.0/1 [00:00<00:00, 11.25it/s]\n",
            "cuml-0.14.0          | 9.6 MB    | : 100% 1.0/1 [00:01<00:00,  1.64s/it]\n",
            "gettext-0.19.8.1     | 3.6 MB    | : 100% 1.0/1 [00:00<00:00,  1.32it/s]\n",
            "xorg-libxrender-0.9. | 31 KB     | : 100% 1.0/1 [00:00<00:00, 26.80it/s]\n",
            "libdap4-3.20.6       | 11.4 MB   | : 100% 1.0/1 [00:01<00:00,  1.80s/it]               \n",
            "json-c-0.13.1        | 76 KB     | : 100% 1.0/1 [00:00<00:00, 25.32it/s]\n",
            "nvstrings-0.14.0     | 129 KB    | : 100% 1.0/1 [00:00<00:00,  7.42it/s]                \n",
            "xgboost-1.1.0dev.rap | 12 KB     | : 100% 1.0/1 [00:00<00:00,  8.42it/s]\n",
            "libssh2-1.9.0        | 225 KB    | : 100% 1.0/1 [00:00<00:00, 13.02it/s]\n",
            "olefile-0.46         | 32 KB     | : 100% 1.0/1 [00:00<00:00, 28.49it/s]\n",
            "lz4-c-1.8.3          | 187 KB    | : 100% 1.0/1 [00:00<00:00, 12.23it/s]\n",
            "libhwloc-2.1.0       | 2.7 MB    | : 100% 1.0/1 [00:00<00:00,  2.90it/s]\n",
            "dask-core-2021.2.0   | 681 KB    | : 100% 1.0/1 [00:00<00:00,  5.59it/s]\n",
            "hdf5-1.10.6          | 3.1 MB    | : 100% 1.0/1 [00:00<00:00,  2.31it/s]\n",
            "pthread-stubs-0.4    | 5 KB      | : 100% 1.0/1 [00:00<00:00, 22.54it/s]\n",
            "ucx-1.8.0+gf6ec8d4   | 8.9 MB    | : 100% 1.0/1 [00:01<00:00,  1.32s/it]\n",
            "libllvm9-9.0.0       | 25.1 MB   | : 100% 1.0/1 [00:03<00:00,  3.86s/it]\n",
            "scikit-learn-0.24.1  | 7.5 MB    | : 100% 1.0/1 [00:01<00:00,  1.48s/it]\n",
            "re2-2020.04.01       | 438 KB    | : 100% 1.0/1 [00:00<00:00,  9.60it/s]\n",
            "pyparsing-2.4.7      | 60 KB     | : 100% 1.0/1 [00:00<00:00, 20.85it/s]\n",
            "fastrlock-0.5        | 31 KB     | : 100% 1.0/1 [00:00<00:00, 24.62it/s]\n",
            "libedit-3.1.20191231 | 121 KB    | : 100% 1.0/1 [00:00<00:00, 16.94it/s]\n",
            "librmm-0.14.0        | 189 KB    | : 100% 1.0/1 [00:00<00:00,  3.26it/s]                \n",
            "pytz-2021.1          | 239 KB    | : 100% 1.0/1 [00:00<00:00,  9.87it/s]\n",
            "numba-0.49.1         | 3.1 MB    | : 100% 1.0/1 [00:00<00:00,  3.08it/s]\n",
            "pandas-0.25.3        | 11.4 MB   | : 100% 1.0/1 [00:02<00:00,  2.06s/it]\n",
            "spdlog-1.8.2         | 351 KB    | : 100% 1.0/1 [00:00<00:00,  8.29it/s]\n",
            "xorg-xextproto-7.3.0 | 28 KB     | : 100% 1.0/1 [00:00<00:00, 18.58it/s]\n",
            "pyasn1-0.4.8         | 53 KB     | : 100% 1.0/1 [00:00<00:00, 15.06it/s]\n",
            "cugraph-0.14.0       | 6.9 MB    | : 100% 1.0/1 [00:01<00:00,  1.14s/it]               \n",
            "gflags-2.2.2         | 114 KB    | : 100% 1.0/1 [00:00<00:00, 11.08it/s]\n",
            "pillow-8.1.0         | 675 KB    | : 100% 1.0/1 [00:00<00:00,  6.35it/s]\n",
            "glib-tools-2.66.7    | 85 KB     | : 100% 1.0/1 [00:00<00:00, 14.23it/s]\n",
            "scipy-1.5.3          | 19.1 MB   | : 100% 1.0/1 [00:02<00:00,  2.97s/it]\n",
            "libnghttp2-1.43.0    | 808 KB    | : 100% 1.0/1 [00:00<00:00,  5.71it/s]\n",
            "krb5-1.17.2          | 1.4 MB    | : 100% 1.0/1 [00:00<00:00,  3.76it/s]\n",
            "libxcb-1.13          | 395 KB    | : 100% 1.0/1 [00:00<00:00,  7.71it/s]\n",
            "tornado-6.1          | 643 KB    | : 100% 1.0/1 [00:00<00:00,  5.44it/s]\n",
            "libuuid-2.32.1       | 28 KB     | : 100% 1.0/1 [00:00<00:00, 27.93it/s]\n",
            "xorg-xproto-7.0.31   | 73 KB     | : 100% 1.0/1 [00:00<00:00, 23.89it/s]\n",
            "cfitsio-3.470        | 1.3 MB    | : 100% 1.0/1 [00:00<00:00,  3.96it/s]\n",
            "libxgboost-1.1.0dev. | 31.1 MB   | : 100% 1.0/1 [00:06<00:00,  6.24s/it]                \n",
            "libgfortran5-9.3.0   | 2.0 MB    | : 100% 1.0/1 [00:00<00:00,  2.44it/s]\n",
            "zict-2.0.0           | 10 KB     | : 100% 1.0/1 [00:00<00:00, 36.04it/s]\n",
            "gdal-3.0.4           | 1.3 MB    | : 100% 1.0/1 [00:00<00:00,  4.15it/s]\n",
            "libcuml-0.14.0       | 42.4 MB   | : 100% 1.0/1 [00:07<00:00,  7.98s/it]                \n",
            "xorg-libxext-1.3.4   | 51 KB     | : 100% 1.0/1 [00:00<00:00, 20.62it/s]\n",
            "cairo-1.16.0         | 1.5 MB    | : 100% 1.0/1 [00:00<00:00,  3.46it/s]\n",
            "toolz-0.11.1         | 46 KB     | : 100% 1.0/1 [00:00<00:00, 20.76it/s]\n",
            "multidict-5.1.0      | 67 KB     | : 100% 1.0/1 [00:00<00:00, 18.28it/s]\n",
            "xorg-libxdmcp-1.1.3  | 19 KB     | : 100% 1.0/1 [00:00<00:00, 14.37it/s]\n",
            "arrow-cpp-0.15.0     | 18.1 MB   | : 100% 1.0/1 [00:02<00:00,  2.88s/it]            \n",
            "pyjwt-2.0.1          | 17 KB     | : 100% 1.0/1 [00:00<00:00, 23.13it/s]\n",
            "libtiff-4.1.0        | 568 KB    | : 100% 1.0/1 [00:00<00:00,  8.44it/s]\n",
            "cachetools-4.2.1     | 13 KB     | : 100% 1.0/1 [00:00<00:00, 23.33it/s]\n",
            "jinja2-2.11.3        | 93 KB     | : 100% 1.0/1 [00:00<00:00, 19.90it/s]\n",
            "libpq-12.3           | 2.6 MB    | : 100% 1.0/1 [00:00<00:00,  1.75it/s]\n",
            "libgfortran-ng-9.3.0 | 22 KB     | : 100% 1.0/1 [00:00<00:00, 22.06it/s]\n",
            "fsspec-0.8.5         | 69 KB     | : 100% 1.0/1 [00:00<00:00, 21.36it/s]\n",
            "parquet-cpp-1.5.1    | 3 KB      | : 100% 1.0/1 [00:00<00:00, 28.24it/s]\n",
            "bokeh-2.2.3          | 7.0 MB    | : 100% 1.0/1 [00:01<00:00,  1.56s/it]               \n",
            "nccl-2.5.7.1         | 98.4 MB   | : 100% 1.0/1 [00:11<00:00, 11.92s/it]               \n",
            "libpng-1.6.37        | 306 KB    | : 100% 1.0/1 [00:00<00:00, 12.11it/s]\n",
            "blinker-1.4          | 13 KB     | : 100% 1.0/1 [00:00<00:00, 22.18it/s]\n",
            "yarl-0.10.0          | 163 KB    | : 100% 1.0/1 [00:00<00:00, 18.93it/s]\n",
            "cupy-7.8.0           | 20.6 MB   | : 100% 1.0/1 [00:02<00:00,  2.90s/it]\n",
            "jpeg-9d              | 264 KB    | : 100% 1.0/1 [00:00<00:00, 13.63it/s]\n",
            "tzcode-2021a         | 296 KB    | : 100% 1.0/1 [00:00<00:00,  6.64it/s]\n",
            "proj-7.0.0           | 3.7 MB    | : 100% 1.0/1 [00:00<00:00,  1.53it/s]\n",
            "poppler-data-0.4.10  | 3.8 MB    | : 100% 1.0/1 [00:00<00:00,  1.68it/s]\n",
            "libcudf-0.14.0       | 101.5 MB  | : 100% 1.0/1 [00:22<00:00, 22.78s/it] \n",
            "boost-1.70.0         | 337 KB    | : 100% 1.0/1 [00:00<00:00,  7.52it/s]\n",
            "packaging-20.9       | 35 KB     | : 100% 1.0/1 [00:00<00:00, 26.62it/s]\n",
            "rmm-0.14.0           | 684 KB    | : 100% 1.0/1 [00:00<00:00,  3.72it/s]\n",
            "libevent-2.1.10      | 1.1 MB    | : 100% 1.0/1 [00:00<00:00,  3.27it/s]\n",
            "Preparing transaction: / \b\b- \b\b\\ \b\b| \b\b/ \b\b- \b\b\\ \b\b| \b\b/ \b\b- \b\b\\ \b\b| \b\b/ \b\b- \b\b\\ \b\bdone\n",
            "Verifying transaction: / \b\b- \b\b\\ \b\b| \b\b/ \b\b- \b\b\\ \b\b| \b\b/ \b\b- \b\b\\ \b\b| \b\b/ \b\b- \b\b\\ \b\b| \b\b/ \b\b- \b\b\\ \b\b| \b\b/ \b\b- \b\b\\ \b\b| \b\b/ \b\b- \b\b\\ \b\b| \b\b/ \b\b- \b\b\\ \b\b| \b\b/ \b\b- \b\b\\ \b\b| \b\b/ \b\b- \b\b\\ \b\b| \b\b/ \b\b- \b\b\\ \b\b| \b\b/ \b\b- \b\b\\ \b\b| \b\b/ \b\b- \b\b\\ \b\b| \b\b/ \b\b- \b\b\\ \b\b| \b\b/ \b\b- \b\b\\ \b\b| \b\b/ \b\b- \b\b\\ \b\b| \b\b/ \b\b- \b\b\\ \b\b| \b\b/ \b\b- \b\b\\ \b\b| \b\b/ \b\b- \b\b\\ \b\b| \b\b/ \b\b- \b\b\\ \b\b| \b\b/ \b\b- \b\b\\ \b\b| \b\b/ \b\b- \b\b\\ \b\b| \b\b/ \b\b- \b\b\\ \b\b| \b\b/ \b\b- \b\b\\ \b\b| \b\b/ \b\b- \b\b\\ \b\b| \b\b/ \b\b- \b\b\\ \b\b| \b\b/ \b\b- \b\b\\ \b\b| \b\b/ \b\b- \b\b\\ \b\b| \b\b/ \b\b- \b\b\\ \b\b| \b\b/ \b\b- \b\b\\ \b\b| \b\b/ \b\b- \b\b\\ \b\b| \b\b/ \b\b- \b\b\\ \b\b| \b\b/ \b\b- \b\b\\ \b\b| \b\b/ \b\b- \b\b\\ \b\b| \b\b/ \b\b- \b\b\\ \b\b| \b\b/ \b\b- \b\b\\ \b\b| \b\b/ \b\b- \b\b\\ \b\b| \b\b/ \b\b- \b\b\\ \b\b| \b\b/ \b\b- \b\b\\ \b\b| \b\b/ \b\b- \b\b\\ \b\b| \b\b/ \b\b- \b\b\\ \b\b| \b\b/ \b\b- \b\b\\ \b\b| \b\b/ \b\b- \b\b\\ \b\b| \b\b/ \b\b- \b\b\\ \b\b| \b\b/ \b\b- \b\b\\ \b\b| \b\b/ \b\b- \b\b\\ \b\b| \b\b/ \b\b- \b\b\\ \b\b| \b\b/ \b\b- \b\b\\ \b\b| \b\b/ \b\b- \b\b\\ \b\b| \b\b/ \b\b- \b\b\\ \b\b| \b\b/ \b\b- \b\b\\ \b\b| \b\b/ \b\b- \b\b\\ \b\b| \b\b/ \b\b- \b\b\\ \b\b| \b\b/ \b\b- \b\b\\ \b\b| \b\b/ \b\b- \b\b\\ \b\b| \b\b/ \b\b- \b\b\\ \b\b| \b\b/ \b\b- \b\b\\ \b\b| \b\b/ \b\b- \b\b\\ \b\b| \b\b/ \b\b- \b\b\\ \b\b| \b\b/ \b\b- \b\b\\ \b\b| \b\b/ \b\b- \b\b\\ \b\b| \b\b/ \b\b- \b\b\\ \b\b| \b\b/ \b\b- \b\b\\ \b\b| \b\b/ \b\b- \b\b\\ \b\b| \b\b/ \b\b- \b\b\\ \b\b| \b\b/ \b\b- \b\b\\ \b\b| \b\b/ \b\b- \b\b\\ \b\b| \b\b/ \b\b- \b\b\\ \b\b| \b\b/ \b\b- \b\b\\ \b\b| \b\b/ \b\b- \b\b\\ \b\b| \b\b/ \b\b- \b\b\\ \b\b| \b\b/ \b\b- \b\b\\ \b\b| \b\b/ \b\b- \b\b\\ \b\b| \b\b/ \b\b- \b\b\\ \b\b| \b\b/ \b\b- \b\b\\ \b\b| \b\b/ \b\b- \b\b\\ \b\b| \b\b/ \b\b- \b\b\\ \b\b| \b\b/ \b\b- \b\b\\ \b\b| \b\b/ \b\b- \b\b\\ \b\b| \b\b/ \b\b- \b\b\\ \b\b| \b\b/ \b\b- \b\b\\ \b\b| \b\b/ \b\b- \b\b\\ \b\b| \b\b/ \b\b- \b\b\\ \b\b| \b\b/ \b\b- \b\b\\ \b\b| \b\bdone\n",
            "Executing transaction: - \b\b\\ \b\b| \b\b/ \b\b- \b\b\\ \b\b| \b\b/ \b\b- \b\b\\ \b\b| \b\b/ \b\b- \b\b\\ \b\b| \b\b/ \b\b- \b\b\\ \b\b| \b\b/ \b\b- \b\b\\ \b\b| \b\b/ \b\b- \b\b\\ \b\b| \b\b/ \b\b- \b\b\\ \b\b| \b\b/ \b\b- \b\b\\ \b\b| \b\b/ \b\b- \b\b\\ \b\b| \b\b/ \b\b- \b\b\\ \b\b| \b\b/ \b\b- \b\b\\ \b\b| \b\b/ \b\b- \b\b\\ \b\b| \b\b/ \b\b- \b\b\\ \b\b| \b\b/ \b\b- \b\b\\ \b\bdone\n",
            "Copying shared object files to /usr/lib\n",
            "Copying RAPIDS compatible xgboost\n",
            "\n",
            "************************************************\n",
            "Your Google Colab instance has RAPIDS installed!\n",
            "************************************************\n",
            "***********************************************************************\n",
            "Let us check on those pyarrow and cffi versions...\n",
            "***********************************************************************\n",
            "\n",
            "You're don't have pyarrow.\n",
            "unloaded cffi 1.14.4\n",
            "loaded cffi 1.14.5\n"
          ],
          "name": "stdout"
        }
      ]
    },
    {
      "cell_type": "markdown",
      "metadata": {
        "id": "W3P6DqsOGOkB"
      },
      "source": [
        "## Install daal4py"
      ]
    },
    {
      "cell_type": "code",
      "metadata": {
        "colab": {
          "base_uri": "https://localhost:8080/"
        },
        "id": "nZ4SGhf5GQ21",
        "outputId": "2cca0b17-e02b-42e7-91dc-1b660a40e227"
      },
      "source": [
        "!pip install daal4py"
      ],
      "execution_count": null,
      "outputs": [
        {
          "output_type": "stream",
          "text": [
            "Collecting daal4py\n",
            "  Downloading daal4py-2021.1-1-cp36-cp36m-manylinux1_x86_64.whl (11.8 MB)\n",
            "\u001b[K     |████████████████████████████████| 11.8 MB 18.1 MB/s \n",
            "\u001b[?25hRequirement already satisfied: numpy>=1.14 in /usr/local/lib/python3.6/site-packages (from daal4py) (1.19.5)\n",
            "Collecting daal\n",
            "  Downloading daal-2021.1.2-py2.py3-none-manylinux1_x86_64.whl (248.2 MB)\n",
            "\u001b[K     |████████████████████████████████| 248.2 MB 11 kB/s \n",
            "\u001b[?25hCollecting dpcpp-cpp-rt\n",
            "  Downloading dpcpp_cpp_rt-2021.1.2-py2.py3-none-manylinux1_x86_64.whl (155.8 MB)\n",
            "\u001b[K     |████████████████████████████████| 155.8 MB 73 kB/s \n",
            "\u001b[?25hCollecting tbb==2021.*\n",
            "  Downloading tbb-2021.1.1-py2.py3-none-manylinux1_x86_64.whl (3.6 MB)\n",
            "\u001b[K     |████████████████████████████████| 3.6 MB 71.4 MB/s \n",
            "\u001b[?25hCollecting common-cmplr-lib-rt==2021.*\n",
            "  Downloading common_cmplr_lib_rt-2021.1.2-py2.py3-none-manylinux1_x86_64.whl (30.6 MB)\n",
            "\u001b[K     |████████████████████████████████| 30.6 MB 76 kB/s \n",
            "\u001b[?25hCollecting intel-openmp==2021.*\n",
            "  Downloading intel_openmp-2021.1.2-py2.py3-none-manylinux1_x86_64.whl (1.9 MB)\n",
            "\u001b[K     |████████████████████████████████| 1.9 MB 59.9 MB/s \n",
            "\u001b[?25hCollecting opencl-rt==2021.*\n",
            "  Downloading opencl_rt-2021.1.2-py2.py3-none-manylinux1_x86_64.whl (153.4 MB)\n",
            "\u001b[K     |████████████████████████████████| 153.4 MB 34 kB/s \n",
            "\u001b[?25hCollecting common-cmplr-lic-rt==2021.*\n",
            "  Downloading common_cmplr_lic_rt-2021.1.2-py2.py3-none-manylinux1_x86_64.whl (24 kB)\n",
            "Installing collected packages: tbb, common-cmplr-lic-rt, opencl-rt, intel-openmp, common-cmplr-lib-rt, dpcpp-cpp-rt, daal, daal4py\n",
            "Successfully installed common-cmplr-lib-rt-2021.1.2 common-cmplr-lic-rt-2021.1.2 daal-2021.1.2 daal4py-2021.1 dpcpp-cpp-rt-2021.1.2 intel-openmp-2021.1.2 opencl-rt-2021.1.2 tbb-2021.1.1\n"
          ],
          "name": "stdout"
        }
      ]
    },
    {
      "cell_type": "markdown",
      "metadata": {
        "id": "2GuhqCvA2fSw"
      },
      "source": [
        "# Random Forest Classifier"
      ]
    },
    {
      "cell_type": "code",
      "metadata": {
        "id": "yzz0HA1n17wv"
      },
      "source": [
        "import cudf\n",
        "import numpy as np\n",
        "import pandas as pd\n",
        "import pickle\n",
        "\n",
        "from cuml.ensemble import RandomForestClassifier as curfc\n",
        "from cuml.metrics import accuracy_score\n",
        "\n",
        "from sklearn.ensemble import RandomForestClassifier as skrfc\n",
        "from sklearn.datasets import make_classification\n",
        "from sklearn.model_selection import train_test_split"
      ],
      "execution_count": null,
      "outputs": []
    },
    {
      "cell_type": "markdown",
      "metadata": {
        "id": "KSXUx_E57-kw"
      },
      "source": [
        "## Define Parameters"
      ]
    },
    {
      "cell_type": "code",
      "metadata": {
        "id": "N-olzgHB2jm0"
      },
      "source": [
        "# The speedup obtained by using cuML'sRandom Forest implementation\n",
        "# becomes much higher when using larger datasets. Uncomment and use the n_samples\n",
        "# value provided below to see the difference in the time required to run\n",
        "# Scikit-learn's vs cuML's implementation with a large dataset.\n",
        "\n",
        "# n_samples = 2*17\n",
        "# n_samples = 2**13\n",
        "n_samples = 2**14\n",
        "n_features = 399\n",
        "n_info = 300\n",
        "data_type = np.float32"
      ],
      "execution_count": null,
      "outputs": []
    },
    {
      "cell_type": "markdown",
      "metadata": {
        "id": "S4rYkTi_8DzD"
      },
      "source": [
        "## Generate Data"
      ]
    },
    {
      "cell_type": "markdown",
      "metadata": {
        "id": "rEujXC2v8HrY"
      },
      "source": [
        "### Host"
      ]
    },
    {
      "cell_type": "code",
      "metadata": {
        "colab": {
          "base_uri": "https://localhost:8080/"
        },
        "id": "IQZ_uJuy2l66",
        "outputId": "0ef8b57a-d738-44d8-bd30-048b38c8625d"
      },
      "source": [
        "%%time\n",
        "X,y = make_classification(n_samples=n_samples,\n",
        "                          n_features=n_features,\n",
        "                          n_informative=n_info,\n",
        "                          random_state=123, n_classes=2)\n",
        "\n",
        "X = pd.DataFrame(X.astype(data_type))\n",
        "# cuML Random Forest Classifier requires the labels to be integers\n",
        "y = pd.Series(y.astype(np.int32))\n",
        "\n",
        "X_train, X_test, y_train, y_test = train_test_split(X, y,\n",
        "                                                    test_size = 0.2,\n",
        "                                                    random_state=0)"
      ],
      "execution_count": null,
      "outputs": [
        {
          "output_type": "stream",
          "text": [
            "CPU times: user 638 ms, sys: 148 ms, total: 786 ms\n",
            "Wall time: 547 ms\n"
          ],
          "name": "stdout"
        }
      ]
    },
    {
      "cell_type": "markdown",
      "metadata": {
        "id": "3gedAkAm8IqI"
      },
      "source": [
        "### GPU"
      ]
    },
    {
      "cell_type": "code",
      "metadata": {
        "colab": {
          "base_uri": "https://localhost:8080/"
        },
        "id": "0GIXThEI73Xl",
        "outputId": "71522ee4-ddb8-4dc3-ad2a-c1edffcd9f9f"
      },
      "source": [
        "%%time\n",
        "X_cudf_train = cudf.DataFrame.from_pandas(X_train)\n",
        "X_cudf_test = cudf.DataFrame.from_pandas(X_test)\n",
        "\n",
        "y_cudf_train = cudf.Series(y_train.values)"
      ],
      "execution_count": null,
      "outputs": [
        {
          "output_type": "stream",
          "text": [
            "CPU times: user 370 ms, sys: 10 ms, total: 380 ms\n",
            "Wall time: 381 ms\n"
          ],
          "name": "stdout"
        }
      ]
    },
    {
      "cell_type": "markdown",
      "metadata": {
        "id": "ofPgt1g68Rxu"
      },
      "source": [
        "## Scikit-learn Model"
      ]
    },
    {
      "cell_type": "code",
      "metadata": {
        "colab": {
          "base_uri": "https://localhost:8080/"
        },
        "id": "z8h-WlWa8SMG",
        "outputId": "292828b0-82e1-4917-98e6-d55f20734266"
      },
      "source": [
        "%%time\n",
        "sk_model = skrfc(n_estimators=40,\n",
        "                 max_depth=16,\n",
        "                 max_features=1.0,\n",
        "                 random_state=10)\n",
        "\n",
        "sk_model.fit(X_train, y_train)"
      ],
      "execution_count": null,
      "outputs": [
        {
          "output_type": "stream",
          "text": [
            "CPU times: user 2min 33s, sys: 37.9 ms, total: 2min 33s\n",
            "Wall time: 2min 33s\n"
          ],
          "name": "stdout"
        }
      ]
    },
    {
      "cell_type": "code",
      "metadata": {
        "colab": {
          "base_uri": "https://localhost:8080/"
        },
        "id": "T8W0ISgz8UH5",
        "outputId": "9167927e-22be-45c1-eda2-dd6cfde6ae75"
      },
      "source": [
        "%%time\n",
        "sk_predict = sk_model.predict(X_test)\n",
        "sk_acc = accuracy_score(y_test, sk_predict)"
      ],
      "execution_count": null,
      "outputs": [
        {
          "output_type": "stream",
          "text": [
            "CPU times: user 38.5 ms, sys: 0 ns, total: 38.5 ms\n",
            "Wall time: 40.1 ms\n"
          ],
          "name": "stdout"
        }
      ]
    },
    {
      "cell_type": "markdown",
      "metadata": {
        "id": "1XF5Vufi8Xik"
      },
      "source": [
        "## cuML Model"
      ]
    },
    {
      "cell_type": "code",
      "metadata": {
        "colab": {
          "base_uri": "https://localhost:8080/"
        },
        "id": "gKu6EXCE8WUY",
        "outputId": "c60367c9-47f7-4a96-a898-e87956d6bad7"
      },
      "source": [
        "%%time\n",
        "cuml_model = curfc(n_estimators=40,\n",
        "                   max_depth=16,\n",
        "                   max_features=1.0,\n",
        "                   seed=10)\n",
        "\n",
        "cuml_model.fit(X_cudf_train, y_cudf_train)"
      ],
      "execution_count": null,
      "outputs": [
        {
          "output_type": "stream",
          "text": [
            "/usr/local/lib/python3.6/dist-packages/ipykernel_launcher.py:4: UserWarning: For reproducible results, n_streams==1 is recommended. If n_streams is > 1, results may vary due to stream/thread timing differences, even when random_seed is set\n",
            "  after removing the cwd from sys.path.\n"
          ],
          "name": "stderr"
        },
        {
          "output_type": "stream",
          "text": [
            "CPU times: user 22.3 s, sys: 1.25 s, total: 23.6 s\n",
            "Wall time: 12.2 s\n"
          ],
          "name": "stdout"
        }
      ]
    },
    {
      "cell_type": "code",
      "metadata": {
        "colab": {
          "base_uri": "https://localhost:8080/"
        },
        "id": "IQQKNEJ58eTH",
        "outputId": "1d52c1ac-b106-430e-8014-02bf527c48c8"
      },
      "source": [
        "%%time\n",
        "fil_preds_orig = cuml_model.predict(X_cudf_test)\n",
        "\n",
        "fil_acc_orig = accuracy_score(y_test.to_numpy(), fil_preds_orig)"
      ],
      "execution_count": null,
      "outputs": [
        {
          "output_type": "stream",
          "text": [
            "CPU times: user 142 ms, sys: 3 ms, total: 145 ms\n",
            "Wall time: 146 ms\n"
          ],
          "name": "stdout"
        }
      ]
    },
    {
      "cell_type": "markdown",
      "metadata": {
        "id": "1bKMJ2cK8nZj"
      },
      "source": [
        "### Pickle the cuML random forest classification model"
      ]
    },
    {
      "cell_type": "code",
      "metadata": {
        "id": "joXqz6un8hG4"
      },
      "source": [
        "filename = 'cuml_random_forest_model.sav'\n",
        "# save the trained cuml model into a file\n",
        "pickle.dump(cuml_model, open(filename, 'wb'))\n",
        "# delete the previous model to ensure that there is no leakage of pointers.\n",
        "# this is not strictly necessary but just included here for demo purposes.\n",
        "del cuml_model\n",
        "# load the previously saved cuml model from a file\n",
        "pickled_cuml_model = pickle.load(open(filename, 'rb'))"
      ],
      "execution_count": null,
      "outputs": []
    },
    {
      "cell_type": "code",
      "metadata": {
        "colab": {
          "base_uri": "https://localhost:8080/"
        },
        "id": "3YiVbztB8pwH",
        "outputId": "f3793d3a-5368-4ebc-d468-d3bf35bbccf8"
      },
      "source": [
        "%%time\n",
        "pred_after_pickling = pickled_cuml_model.predict(X_cudf_test)\n",
        "\n",
        "fil_acc_after_pickling = accuracy_score(y_test.to_numpy(), pred_after_pickling)"
      ],
      "execution_count": null,
      "outputs": [
        {
          "output_type": "stream",
          "text": [
            "CPU times: user 131 ms, sys: 4 ms, total: 135 ms\n",
            "Wall time: 136 ms\n"
          ],
          "name": "stdout"
        }
      ]
    },
    {
      "cell_type": "markdown",
      "metadata": {
        "id": "9cGjiQlMGYuk"
      },
      "source": [
        "## daal4py model"
      ]
    },
    {
      "cell_type": "code",
      "metadata": {
        "colab": {
          "base_uri": "https://localhost:8080/"
        },
        "id": "0jXewyZSGdq0",
        "outputId": "7147260d-9357-46fd-c44e-1dbb72958300"
      },
      "source": [
        "from daal4py.sklearn import patch_sklearn\n",
        "patch_sklearn()\n",
        "\n",
        "from sklearn.ensemble import RandomForestClassifier as dalrfc"
      ],
      "execution_count": null,
      "outputs": [
        {
          "output_type": "stream",
          "text": [
            "Intel(R) oneAPI Data Analytics Library solvers for sklearn enabled: https://intelpython.github.io/daal4py/sklearn.html\n"
          ],
          "name": "stderr"
        }
      ]
    },
    {
      "cell_type": "markdown",
      "metadata": {
        "id": "ONLpqAg8HcRc"
      },
      "source": [
        "### Intel CPU optimizations patching"
      ]
    },
    {
      "cell_type": "code",
      "metadata": {
        "colab": {
          "base_uri": "https://localhost:8080/"
        },
        "id": "99e6n-s7GolH",
        "outputId": "1648ddf5-cf57-4489-febd-e496729bbef0"
      },
      "source": [
        "%%time\n",
        "dal_model = dalrfc(n_estimators=40,\n",
        "                   max_depth=16,\n",
        "                   max_features=1.0,\n",
        "                   random_state=10)\n",
        "\n",
        "dal_model.fit(X_train, y_train)"
      ],
      "execution_count": null,
      "outputs": [
        {
          "output_type": "stream",
          "text": [
            "CPU times: user 1min 37s, sys: 33.7 ms, total: 1min 37s\n",
            "Wall time: 1min 37s\n"
          ],
          "name": "stdout"
        }
      ]
    },
    {
      "cell_type": "code",
      "metadata": {
        "colab": {
          "base_uri": "https://localhost:8080/"
        },
        "id": "LYJXt8SfHmCo",
        "outputId": "ba1157cb-970d-4693-9162-2d0451882a9f"
      },
      "source": [
        "%%time\n",
        "dal_predict = dal_model.predict(X_test)\n",
        "dal_acc = accuracy_score(y_test, dal_predict)"
      ],
      "execution_count": null,
      "outputs": [
        {
          "output_type": "stream",
          "text": [
            "CPU times: user 24.4 ms, sys: 4 µs, total: 24.4 ms\n",
            "Wall time: 26.1 ms\n"
          ],
          "name": "stdout"
        }
      ]
    },
    {
      "cell_type": "markdown",
      "metadata": {
        "id": "Zv5BiyrpH9zf"
      },
      "source": [
        "### Intel CPU/GPU optimizations patching"
      ]
    },
    {
      "cell_type": "markdown",
      "metadata": {
        "id": "pjsQgF1cLF5V"
      },
      "source": [
        "No required accelerators available in the google colab session. Thus it cannot experiment the performance for oneDAL. \n",
        "\n",
        "Required accelerators for oneDAL:\n",
        "\n",
        "\n",
        "*   Intel Processor Graphics [GEN9](https://software.intel.com/content/dam/develop/external/us/en/documents/the-compute-architecture-of-intel-processor-graphics-gen9-v1d0-166010.pdf) (and higher)\n",
        "*   FPGA Cards and FPGA Custom Platforms\n",
        "\n"
      ]
    },
    {
      "cell_type": "markdown",
      "metadata": {
        "id": "o_dcSLKr8t2x"
      },
      "source": [
        "## Compare Results"
      ]
    },
    {
      "cell_type": "code",
      "metadata": {
        "colab": {
          "base_uri": "https://localhost:8080/"
        },
        "id": "m3v44oD68sYl",
        "outputId": "305b6e63-9146-486d-9ada-cacaafb3ac0c"
      },
      "source": [
        "print(\"CUML accuracy of the RF model before pickling: %s\" % fil_acc_orig)\n",
        "print(\"CUML accuracy of the RF model after pickling: %s\" % fil_acc_after_pickling)"
      ],
      "execution_count": null,
      "outputs": [
        {
          "output_type": "stream",
          "text": [
            "CUML accuracy of the RF model before pickling: 0.7888312339782715\n",
            "CUML accuracy of the RF model after pickling: 0.7888312339782715\n"
          ],
          "name": "stdout"
        }
      ]
    },
    {
      "cell_type": "code",
      "metadata": {
        "colab": {
          "base_uri": "https://localhost:8080/"
        },
        "id": "Wd01fmOpDTK8",
        "outputId": "9bb00018-6a5c-4c2e-9637-616dd6e5665a"
      },
      "source": [
        "print(\"SKL accuracy: %s\" % sk_acc)\n",
        "print(\"CUML accuracy before pickling: %s\" % fil_acc_orig)\n",
        "print(\"oneDAL accuracy: %s\" % dal_acc)"
      ],
      "execution_count": null,
      "outputs": [
        {
          "output_type": "stream",
          "text": [
            "SKL accuracy: 0.8104974031448364\n",
            "CUML accuracy before pickling: 0.7888312339782715\n",
            "oneDAL accuracy: 0.7958498597145081\n"
          ],
          "name": "stdout"
        }
      ]
    },
    {
      "cell_type": "code",
      "metadata": {
        "id": "etIJzrw9Mj64"
      },
      "source": [
        ""
      ],
      "execution_count": null,
      "outputs": []
    }
  ]
}
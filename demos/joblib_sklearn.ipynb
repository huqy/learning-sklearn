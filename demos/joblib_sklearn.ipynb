{
  "nbformat": 4,
  "nbformat_minor": 0,
  "metadata": {
    "kernelspec": {
      "display_name": "Python 3",
      "language": "python",
      "name": "python3"
    },
    "language_info": {
      "codemirror_mode": {
        "name": "ipython",
        "version": 3
      },
      "file_extension": ".py",
      "mimetype": "text/x-python",
      "name": "python",
      "nbconvert_exporter": "python",
      "pygments_lexer": "ipython3",
      "version": "3.6.9"
    },
    "colab": {
      "name": "joblib_sklearn.ipynb",
      "provenance": [],
      "toc_visible": true
    },
    "accelerator": "GPU"
  },
  "cells": [
    {
      "cell_type": "markdown",
      "metadata": {
        "id": "O2LhQib_GKrV"
      },
      "source": [
        "# Check the available cores"
      ]
    },
    {
      "cell_type": "code",
      "metadata": {
        "colab": {
          "base_uri": "https://localhost:8080/"
        },
        "id": "pHo4Y-ewEabP",
        "outputId": "6a2c5456-4db9-437b-8d6f-09688e75c841"
      },
      "source": [
        "!lscpu --all --extended"
      ],
      "execution_count": null,
      "outputs": [
        {
          "output_type": "stream",
          "text": [
            "CPU NODE SOCKET CORE L1d:L1i:L2:L3 ONLINE\n",
            "0   0    0      0    0:0:0:0       yes\n",
            "1   0    0      0    0:0:0:0       yes\n"
          ],
          "name": "stdout"
        }
      ]
    },
    {
      "cell_type": "code",
      "metadata": {
        "colab": {
          "base_uri": "https://localhost:8080/"
        },
        "id": "t46lgo5yiS9u",
        "outputId": "9d715092-e058-425e-bd4b-abd4a982876f"
      },
      "source": [
        "import multiprocessing\n",
        "print (multiprocessing.cpu_count())"
      ],
      "execution_count": null,
      "outputs": [
        {
          "output_type": "stream",
          "text": [
            "2\n"
          ],
          "name": "stdout"
        }
      ]
    },
    {
      "cell_type": "markdown",
      "metadata": {
        "id": "4kzLAMGcCm45"
      },
      "source": [
        "# Joblib Common Usage\n",
        "\n",
        "From https://joblib.readthedocs.io/"
      ]
    },
    {
      "cell_type": "code",
      "metadata": {
        "id": "BRXKbZ1YCycK"
      },
      "source": [
        " from math import sqrt"
      ],
      "execution_count": null,
      "outputs": []
    },
    {
      "cell_type": "code",
      "metadata": {
        "colab": {
          "base_uri": "https://localhost:8080/"
        },
        "id": "nvwBvKPaC2j3",
        "outputId": "d5bc6805-cc53-472a-a4af-09a201dc3f6e"
      },
      "source": [
        "[sqrt(i ** 2) for i in range(10)]"
      ],
      "execution_count": null,
      "outputs": [
        {
          "output_type": "execute_result",
          "data": {
            "text/plain": [
              "[0.0, 1.0, 2.0, 3.0, 4.0, 5.0, 6.0, 7.0, 8.0, 9.0]"
            ]
          },
          "metadata": {
            "tags": []
          },
          "execution_count": 2
        }
      ]
    },
    {
      "cell_type": "code",
      "metadata": {
        "id": "MpT3_WpnC30R"
      },
      "source": [
        "from joblib import Parallel, delayed"
      ],
      "execution_count": null,
      "outputs": []
    },
    {
      "cell_type": "code",
      "metadata": {
        "colab": {
          "base_uri": "https://localhost:8080/"
        },
        "id": "qp4Ga9nQC7Ml",
        "outputId": "0d2427f8-29fb-41b6-f250-6bf020684eb7"
      },
      "source": [
        "Parallel(n_jobs=2)(delayed(sqrt)(i ** 2) for i in range(10))"
      ],
      "execution_count": null,
      "outputs": [
        {
          "output_type": "execute_result",
          "data": {
            "text/plain": [
              "[0.0, 1.0, 2.0, 3.0, 4.0, 5.0, 6.0, 7.0, 8.0, 9.0]"
            ]
          },
          "metadata": {
            "tags": []
          },
          "execution_count": 4
        }
      ]
    },
    {
      "cell_type": "markdown",
      "metadata": {
        "id": "eZU8cRthDBTN"
      },
      "source": [
        "# Example for using joblib in Pipeline and Hyperparameter Grid Search\n",
        "\n",
        "Some code snipets are from Janani Ravi presented in [PluralSight](https://www.pluralsight.com/)."
      ]
    },
    {
      "cell_type": "markdown",
      "metadata": {
        "id": "fdCy6xiYDNNO"
      },
      "source": [
        "## Generate the data"
      ]
    },
    {
      "cell_type": "code",
      "metadata": {
        "id": "SHr1oc9tBmOg"
      },
      "source": [
        "from sklearn.datasets import make_classification"
      ],
      "execution_count": null,
      "outputs": []
    },
    {
      "cell_type": "code",
      "metadata": {
        "id": "m30sUE1GBmOi"
      },
      "source": [
        "X, y = make_classification(n_samples=10000,\n",
        "                           n_features=500,\n",
        "                           n_classes=2,\n",
        "                           n_redundant=250,\n",
        "                           random_state=42)"
      ],
      "execution_count": null,
      "outputs": []
    },
    {
      "cell_type": "markdown",
      "metadata": {
        "id": "DjfOHT9EDRub"
      },
      "source": [
        "## Set parameters and models"
      ]
    },
    {
      "cell_type": "code",
      "metadata": {
        "id": "viYXK-p5BmOi"
      },
      "source": [
        "from sklearn import linear_model, decomposition\n",
        "from sklearn.pipeline import Pipeline"
      ],
      "execution_count": null,
      "outputs": []
    },
    {
      "cell_type": "code",
      "metadata": {
        "id": "vi260VkyBmOj"
      },
      "source": [
        "logistic = linear_model.LogisticRegression(solver='saga')\n",
        "pca = decomposition.PCA()"
      ],
      "execution_count": null,
      "outputs": []
    },
    {
      "cell_type": "code",
      "metadata": {
        "id": "yNUK5OdtBmOj"
      },
      "source": [
        "pipe = Pipeline(steps=[('pca', pca),\n",
        "                       ('logistic', logistic)])"
      ],
      "execution_count": null,
      "outputs": []
    },
    {
      "cell_type": "code",
      "metadata": {
        "id": "AHyCbH_7BmOj"
      },
      "source": [
        "grid = dict(pca__n_components=[50, 100, 250],\n",
        "            logistic__C=[1e-4, 1.0, 1e4],\n",
        "            logistic__penalty=['l1', 'l2'])"
      ],
      "execution_count": null,
      "outputs": []
    },
    {
      "cell_type": "code",
      "metadata": {
        "id": "GpdsE6DeDrjj"
      },
      "source": [
        "from sklearn.model_selection import GridSearchCV"
      ],
      "execution_count": null,
      "outputs": []
    },
    {
      "cell_type": "markdown",
      "metadata": {
        "id": "HhVE1QwKDegw"
      },
      "source": [
        "## Run with 1 core"
      ]
    },
    {
      "cell_type": "code",
      "metadata": {
        "id": "6cQckb1pBmOk"
      },
      "source": [
        "estimator = GridSearchCV(pipe, grid, n_jobs=1, cv=5, error_score='raise')"
      ],
      "execution_count": null,
      "outputs": []
    },
    {
      "cell_type": "code",
      "metadata": {
        "colab": {
          "base_uri": "https://localhost:8080/"
        },
        "id": "slyS_p1zBmOl",
        "outputId": "dd2c7ff8-e75e-4c7a-d2ff-aba6b258c9a1"
      },
      "source": [
        "%time estimator.fit(X, y)"
      ],
      "execution_count": null,
      "outputs": [
        {
          "output_type": "stream",
          "text": [
            "CPU times: user 2min 46s, sys: 1min 32s, total: 4min 18s\n",
            "Wall time: 2min 24s\n"
          ],
          "name": "stdout"
        },
        {
          "output_type": "execute_result",
          "data": {
            "text/plain": [
              "GridSearchCV(cv=5, error_score='raise',\n",
              "             estimator=Pipeline(memory=None,\n",
              "                                steps=[('pca',\n",
              "                                        PCA(copy=True, iterated_power='auto',\n",
              "                                            n_components=None,\n",
              "                                            random_state=None,\n",
              "                                            svd_solver='auto', tol=0.0,\n",
              "                                            whiten=False)),\n",
              "                                       ('logistic',\n",
              "                                        LogisticRegression(C=1.0,\n",
              "                                                           class_weight=None,\n",
              "                                                           dual=False,\n",
              "                                                           fit_intercept=True,\n",
              "                                                           intercept_scaling=1,\n",
              "                                                           l1_ratio=None,\n",
              "                                                           max_iter=100,\n",
              "                                                           multi_class='auto',\n",
              "                                                           n_jobs=None,\n",
              "                                                           penalty='l2',\n",
              "                                                           random_state=None,\n",
              "                                                           solver='saga',\n",
              "                                                           tol=0.0001,\n",
              "                                                           verbose=0,\n",
              "                                                           warm_start=False))],\n",
              "                                verbose=False),\n",
              "             iid='deprecated', n_jobs=1,\n",
              "             param_grid={'logistic__C': [0.0001, 1.0, 10000.0],\n",
              "                         'logistic__penalty': ['l1', 'l2'],\n",
              "                         'pca__n_components': [50, 100, 250]},\n",
              "             pre_dispatch='2*n_jobs', refit=True, return_train_score=False,\n",
              "             scoring=None, verbose=0)"
            ]
          },
          "metadata": {
            "tags": []
          },
          "execution_count": 13
        }
      ]
    },
    {
      "cell_type": "code",
      "metadata": {
        "colab": {
          "base_uri": "https://localhost:8080/"
        },
        "id": "OL2A4Mw4BmOl",
        "outputId": "0682caab-36a9-4ee0-9c59-586f210ad847"
      },
      "source": [
        "estimator.best_score_"
      ],
      "execution_count": null,
      "outputs": [
        {
          "output_type": "execute_result",
          "data": {
            "text/plain": [
              "0.8926000000000001"
            ]
          },
          "metadata": {
            "tags": []
          },
          "execution_count": 14
        }
      ]
    },
    {
      "cell_type": "code",
      "metadata": {
        "colab": {
          "base_uri": "https://localhost:8080/"
        },
        "id": "-WaZmutZBmOm",
        "outputId": "94d568d9-e72a-43f5-b2b5-c3e6d4251818"
      },
      "source": [
        "estimator.best_params_"
      ],
      "execution_count": null,
      "outputs": [
        {
          "output_type": "execute_result",
          "data": {
            "text/plain": [
              "{'logistic__C': 0.0001, 'logistic__penalty': 'l2', 'pca__n_components': 100}"
            ]
          },
          "metadata": {
            "tags": []
          },
          "execution_count": 15
        }
      ]
    },
    {
      "cell_type": "code",
      "metadata": {
        "colab": {
          "base_uri": "https://localhost:8080/"
        },
        "id": "FYw19QBbBmOm",
        "outputId": "22808404-7739-4d2a-f75b-9577acb0bfd3"
      },
      "source": [
        "estimator.best_estimator_"
      ],
      "execution_count": null,
      "outputs": [
        {
          "output_type": "execute_result",
          "data": {
            "text/plain": [
              "Pipeline(memory=None,\n",
              "         steps=[('pca',\n",
              "                 PCA(copy=True, iterated_power='auto', n_components=100,\n",
              "                     random_state=None, svd_solver='auto', tol=0.0,\n",
              "                     whiten=False)),\n",
              "                ('logistic',\n",
              "                 LogisticRegression(C=0.0001, class_weight=None, dual=False,\n",
              "                                    fit_intercept=True, intercept_scaling=1,\n",
              "                                    l1_ratio=None, max_iter=100,\n",
              "                                    multi_class='auto', n_jobs=None,\n",
              "                                    penalty='l2', random_state=None,\n",
              "                                    solver='saga', tol=0.0001, verbose=0,\n",
              "                                    warm_start=False))],\n",
              "         verbose=False)"
            ]
          },
          "metadata": {
            "tags": []
          },
          "execution_count": 16
        }
      ]
    },
    {
      "cell_type": "markdown",
      "metadata": {
        "id": "TC62FV85D3bs"
      },
      "source": [
        "## Run with multiple cores"
      ]
    },
    {
      "cell_type": "code",
      "metadata": {
        "id": "DFp102FgBmOn"
      },
      "source": [
        "estimator = GridSearchCV(pipe, grid, n_jobs=-1, cv=5, error_score='raise')"
      ],
      "execution_count": null,
      "outputs": []
    },
    {
      "cell_type": "code",
      "metadata": {
        "colab": {
          "base_uri": "https://localhost:8080/"
        },
        "id": "lorSshZxBmOn",
        "outputId": "b7d2eeb5-1d8a-4ffc-830c-48c029c5b160"
      },
      "source": [
        "%time estimator.fit(X, y)"
      ],
      "execution_count": null,
      "outputs": [
        {
          "output_type": "stream",
          "text": [
            "CPU times: user 2.57 s, sys: 1.18 s, total: 3.75 s\n",
            "Wall time: 1min 26s\n"
          ],
          "name": "stdout"
        },
        {
          "output_type": "execute_result",
          "data": {
            "text/plain": [
              "GridSearchCV(cv=5, error_score='raise',\n",
              "             estimator=Pipeline(memory=None,\n",
              "                                steps=[('pca',\n",
              "                                        PCA(copy=True, iterated_power='auto',\n",
              "                                            n_components=None,\n",
              "                                            random_state=None,\n",
              "                                            svd_solver='auto', tol=0.0,\n",
              "                                            whiten=False)),\n",
              "                                       ('logistic',\n",
              "                                        LogisticRegression(C=1.0,\n",
              "                                                           class_weight=None,\n",
              "                                                           dual=False,\n",
              "                                                           fit_intercept=True,\n",
              "                                                           intercept_scaling=1,\n",
              "                                                           l1_ratio=None,\n",
              "                                                           max_iter=100,\n",
              "                                                           multi_class='auto',\n",
              "                                                           n_jobs=None,\n",
              "                                                           penalty='l2',\n",
              "                                                           random_state=None,\n",
              "                                                           solver='saga',\n",
              "                                                           tol=0.0001,\n",
              "                                                           verbose=0,\n",
              "                                                           warm_start=False))],\n",
              "                                verbose=False),\n",
              "             iid='deprecated', n_jobs=-1,\n",
              "             param_grid={'logistic__C': [0.0001, 1.0, 10000.0],\n",
              "                         'logistic__penalty': ['l1', 'l2'],\n",
              "                         'pca__n_components': [50, 100, 250]},\n",
              "             pre_dispatch='2*n_jobs', refit=True, return_train_score=False,\n",
              "             scoring=None, verbose=0)"
            ]
          },
          "metadata": {
            "tags": []
          },
          "execution_count": 20
        }
      ]
    },
    {
      "cell_type": "code",
      "metadata": {
        "colab": {
          "base_uri": "https://localhost:8080/"
        },
        "id": "Hwm62EJZBmOn",
        "outputId": "fb0effbb-a2c7-4799-a778-25a8830d1ec5"
      },
      "source": [
        "estimator.best_score_"
      ],
      "execution_count": null,
      "outputs": [
        {
          "output_type": "execute_result",
          "data": {
            "text/plain": [
              "0.8929"
            ]
          },
          "metadata": {
            "tags": []
          },
          "execution_count": 22
        }
      ]
    },
    {
      "cell_type": "code",
      "metadata": {
        "colab": {
          "base_uri": "https://localhost:8080/"
        },
        "id": "wwTWSvR6BmOn",
        "outputId": "b98d246c-52b7-4dc0-a5be-beba725ca485"
      },
      "source": [
        "estimator.best_params_"
      ],
      "execution_count": null,
      "outputs": [
        {
          "output_type": "execute_result",
          "data": {
            "text/plain": [
              "{'logistic__C': 0.0001, 'logistic__penalty': 'l2', 'pca__n_components': 100}"
            ]
          },
          "metadata": {
            "tags": []
          },
          "execution_count": 23
        }
      ]
    },
    {
      "cell_type": "code",
      "metadata": {
        "colab": {
          "base_uri": "https://localhost:8080/"
        },
        "id": "HsglA1MxBmOo",
        "outputId": "478a7813-ba7a-48b4-c695-594308590c15"
      },
      "source": [
        "estimator.best_estimator_"
      ],
      "execution_count": null,
      "outputs": [
        {
          "output_type": "execute_result",
          "data": {
            "text/plain": [
              "Pipeline(memory=None,\n",
              "         steps=[('pca',\n",
              "                 PCA(copy=True, iterated_power='auto', n_components=100,\n",
              "                     random_state=None, svd_solver='auto', tol=0.0,\n",
              "                     whiten=False)),\n",
              "                ('logistic',\n",
              "                 LogisticRegression(C=0.0001, class_weight=None, dual=False,\n",
              "                                    fit_intercept=True, intercept_scaling=1,\n",
              "                                    l1_ratio=None, max_iter=100,\n",
              "                                    multi_class='auto', n_jobs=None,\n",
              "                                    penalty='l2', random_state=None,\n",
              "                                    solver='saga', tol=0.0001, verbose=0,\n",
              "                                    warm_start=False))],\n",
              "         verbose=False)"
            ]
          },
          "metadata": {
            "tags": []
          },
          "execution_count": 24
        }
      ]
    },
    {
      "cell_type": "markdown",
      "metadata": {
        "id": "oXY9R1S1dx4h"
      },
      "source": [
        "# Using Dask for Joblib in scikit-learn"
      ]
    },
    {
      "cell_type": "code",
      "metadata": {
        "colab": {
          "base_uri": "https://localhost:8080/"
        },
        "id": "5O4VMJrLe57b",
        "outputId": "3b1a0089-def3-4e63-dd73-e15057d23a1f"
      },
      "source": [
        "#%pip install \"tornado>=5\" \n",
        "#%pip install \"dask[complete]\"\n",
        "%pip install \"cloudpickle>=1.5.0\"\n",
        "!python -m pip install dask distributed --upgrade"
      ],
      "execution_count": null,
      "outputs": [
        {
          "output_type": "stream",
          "text": [
            "Collecting cloudpickle>=1.5.0\n",
            "  Downloading https://files.pythonhosted.org/packages/e7/e3/898487e5dbeb612054cf2e0c188463acb358167fef749c53c8bb8918cea1/cloudpickle-1.6.0-py3-none-any.whl\n",
            "Installing collected packages: cloudpickle\n",
            "  Found existing installation: cloudpickle 1.3.0\n",
            "    Uninstalling cloudpickle-1.3.0:\n",
            "      Successfully uninstalled cloudpickle-1.3.0\n",
            "Successfully installed cloudpickle-1.6.0\n",
            "Collecting dask\n",
            "\u001b[?25l  Downloading https://files.pythonhosted.org/packages/31/a2/59bd5d72cfe1ecc540d1307fc4cca8ac5151d625e0a68474e21cf7b2267d/dask-2021.6.0-py3-none-any.whl (965kB)\n",
            "\u001b[K     |████████████████████████████████| 972kB 7.2MB/s \n",
            "\u001b[?25hCollecting distributed\n",
            "\u001b[?25l  Downloading https://files.pythonhosted.org/packages/91/57/4ab1e5b6a4aee968ab7a808ca99fd85a4709c2e2b32bf6956cfd5e6c6c82/distributed-2021.6.0-py3-none-any.whl (715kB)\n",
            "\u001b[K     |████████████████████████████████| 716kB 21.8MB/s \n",
            "\u001b[?25hRequirement already satisfied, skipping upgrade: cloudpickle>=1.1.1 in /usr/local/lib/python3.7/dist-packages (from dask) (1.6.0)\n",
            "Collecting fsspec>=0.6.0\n",
            "\u001b[?25l  Downloading https://files.pythonhosted.org/packages/8e/d2/d05466997f7751a2c06a7a416b7d1f131d765f7916698d3fdcb3a4d037e5/fsspec-2021.6.0-py3-none-any.whl (114kB)\n",
            "\u001b[K     |████████████████████████████████| 122kB 31.8MB/s \n",
            "\u001b[?25hRequirement already satisfied, skipping upgrade: toolz>=0.8.2 in /usr/local/lib/python3.7/dist-packages (from dask) (0.11.1)\n",
            "Collecting partd>=0.3.10\n",
            "  Downloading https://files.pythonhosted.org/packages/41/94/360258a68b55f47859d72b2d0b2b3cfe0ca4fbbcb81b78812bd00ae86b7c/partd-1.2.0-py3-none-any.whl\n",
            "Requirement already satisfied, skipping upgrade: pyyaml in /usr/local/lib/python3.7/dist-packages (from dask) (3.13)\n",
            "Requirement already satisfied, skipping upgrade: tornado>=5; python_version < \"3.8\" in /usr/local/lib/python3.7/dist-packages (from distributed) (5.1.1)\n",
            "Requirement already satisfied, skipping upgrade: click>=6.6 in /usr/local/lib/python3.7/dist-packages (from distributed) (7.1.2)\n",
            "Requirement already satisfied, skipping upgrade: zict>=0.1.3 in /usr/local/lib/python3.7/dist-packages (from distributed) (2.0.0)\n",
            "Requirement already satisfied, skipping upgrade: setuptools in /usr/local/lib/python3.7/dist-packages (from distributed) (57.0.0)\n",
            "Requirement already satisfied, skipping upgrade: sortedcontainers!=2.0.0,!=2.0.1 in /usr/local/lib/python3.7/dist-packages (from distributed) (2.4.0)\n",
            "Requirement already satisfied, skipping upgrade: tblib>=1.6.0 in /usr/local/lib/python3.7/dist-packages (from distributed) (1.7.0)\n",
            "Requirement already satisfied, skipping upgrade: psutil>=5.0 in /usr/local/lib/python3.7/dist-packages (from distributed) (5.4.8)\n",
            "Requirement already satisfied, skipping upgrade: msgpack>=0.6.0 in /usr/local/lib/python3.7/dist-packages (from distributed) (1.0.2)\n",
            "Collecting locket\n",
            "  Downloading https://files.pythonhosted.org/packages/50/b8/e789e45b9b9c2db75e9d9e6ceb022c8d1d7e49b2c085ce8c05600f90a96b/locket-0.2.1-py2.py3-none-any.whl\n",
            "Requirement already satisfied, skipping upgrade: heapdict in /usr/local/lib/python3.7/dist-packages (from zict>=0.1.3->distributed) (1.0.1)\n",
            "Installing collected packages: fsspec, locket, partd, dask, distributed\n",
            "  Found existing installation: dask 2.12.0\n",
            "    Uninstalling dask-2.12.0:\n",
            "      Successfully uninstalled dask-2.12.0\n",
            "  Found existing installation: distributed 1.25.3\n",
            "    Uninstalling distributed-1.25.3:\n",
            "      Successfully uninstalled distributed-1.25.3\n",
            "Successfully installed dask-2021.6.0 distributed-2021.6.0 fsspec-2021.6.0 locket-0.2.1 partd-1.2.0\n"
          ],
          "name": "stdout"
        }
      ]
    },
    {
      "cell_type": "markdown",
      "metadata": {
        "id": "aQch1SX1C_Ze"
      },
      "source": [
        "May need to restart the runtime after the above pip installation."
      ]
    },
    {
      "cell_type": "code",
      "metadata": {
        "id": "TnINT9uCERGq"
      },
      "source": [
        "import numpy as np\n",
        "from dask.distributed import Client\n",
        "\n",
        "import joblib\n",
        "from sklearn.datasets import load_digits\n",
        "from sklearn.model_selection import RandomizedSearchCV\n",
        "from sklearn.svm import SVC\n",
        "\n",
        "client = Client(processes=False)             # create local cluster"
      ],
      "execution_count": null,
      "outputs": []
    },
    {
      "cell_type": "code",
      "metadata": {
        "id": "2206pTZaFTnb"
      },
      "source": [
        "digits = load_digits()"
      ],
      "execution_count": null,
      "outputs": []
    },
    {
      "cell_type": "code",
      "metadata": {
        "id": "-DkKEq2oFYH8"
      },
      "source": [
        "param_space = {\n",
        "    'C': np.logspace(-6, 6, 13),\n",
        "    'gamma': np.logspace(-8, 8, 17),\n",
        "    'tol': np.logspace(-4, -1, 4),\n",
        "    'class_weight': [None, 'balanced'],\n",
        "}"
      ],
      "execution_count": null,
      "outputs": []
    },
    {
      "cell_type": "code",
      "metadata": {
        "id": "jrad8AExFb7k"
      },
      "source": [
        "model = SVC(kernel='rbf')\n",
        "search = RandomizedSearchCV(model, param_space, cv=3, n_iter=50, verbose=10)"
      ],
      "execution_count": null,
      "outputs": []
    },
    {
      "cell_type": "code",
      "metadata": {
        "colab": {
          "base_uri": "https://localhost:8080/"
        },
        "id": "PdhUDOwIFeaH",
        "outputId": "cd89d49a-6cfa-4cac-90bb-0cdd946b047f"
      },
      "source": [
        "with joblib.parallel_backend('dask'):\n",
        "    search.fit(digits.data, digits.target)"
      ],
      "execution_count": null,
      "outputs": [
        {
          "output_type": "stream",
          "text": [
            "Fitting 3 folds for each of 50 candidates, totalling 150 fits\n",
            "[CV] tol=0.0001, gamma=100.0, class_weight=None, C=1000000.0 .........\n",
            "[CV] tol=0.1, gamma=1000000.0, class_weight=balanced, C=100.0 ........\n"
          ],
          "name": "stdout"
        },
        {
          "output_type": "stream",
          "text": [
            "[Parallel(n_jobs=-1)]: Using backend DaskDistributedBackend with 2 concurrent workers.\n"
          ],
          "name": "stderr"
        },
        {
          "output_type": "stream",
          "text": [
            "[CV]  tol=0.1, gamma=1000000.0, class_weight=balanced, C=100.0, score=0.100, total=   0.5s\n",
            "[CV] tol=0.0001, gamma=100.0, class_weight=None, C=1000000.0 .........\n",
            "[CV]  tol=0.0001, gamma=100.0, class_weight=None, C=1000000.0, score=0.102, total=   0.5s\n",
            "[CV] tol=0.0001, gamma=100.0, class_weight=None, C=1000000.0 .........\n"
          ],
          "name": "stdout"
        },
        {
          "output_type": "stream",
          "text": [
            "[Parallel(n_jobs=-1)]: Done   1 tasks      | elapsed:    0.5s\n"
          ],
          "name": "stderr"
        },
        {
          "output_type": "stream",
          "text": [
            "[CV]  tol=0.0001, gamma=100.0, class_weight=None, C=1000000.0, score=0.102, total=   0.5s\n",
            "[CV] tol=0.1, gamma=1000000.0, class_weight=balanced, C=100.0 ........\n",
            "[CV]  tol=0.0001, gamma=100.0, class_weight=None, C=1000000.0, score=0.100, total=   0.5s\n",
            "[CV] tol=0.1, gamma=1000000.0, class_weight=balanced, C=100.0 ........\n"
          ],
          "name": "stdout"
        },
        {
          "output_type": "stream",
          "text": [
            "[Parallel(n_jobs=-1)]: Done   4 tasks      | elapsed:    1.0s\n"
          ],
          "name": "stderr"
        },
        {
          "output_type": "stream",
          "text": [
            "[CV]  tol=0.1, gamma=1000000.0, class_weight=balanced, C=100.0, score=0.102, total=   0.4s\n",
            "[CV] tol=0.1, gamma=1e-07, class_weight=balanced, C=1e-06 ............\n",
            "[CV]  tol=0.1, gamma=1000000.0, class_weight=balanced, C=100.0, score=0.102, total=   0.5s\n",
            "[CV] tol=0.1, gamma=1e-07, class_weight=balanced, C=1e-06 ............\n",
            "[CV]  tol=0.1, gamma=1e-07, class_weight=balanced, C=1e-06, score=0.098, total=   0.5s\n",
            "[CV] tol=0.0001, gamma=1e-08, class_weight=None, C=10.0 ..............\n",
            "[CV]  tol=0.1, gamma=1e-07, class_weight=balanced, C=1e-06, score=0.197, total=   0.5s\n",
            "[CV] tol=0.1, gamma=1e-07, class_weight=balanced, C=1e-06 ............\n",
            "[CV]  tol=0.0001, gamma=1e-08, class_weight=None, C=10.0, score=0.292, total=   0.5s\n",
            "[CV] tol=0.0001, gamma=1e-08, class_weight=None, C=10.0 ..............\n",
            "[CV]  tol=0.1, gamma=1e-07, class_weight=balanced, C=1e-06, score=0.098, total=   0.5s\n",
            "[CV] tol=0.0001, gamma=1e-08, class_weight=None, C=10.0 ..............\n"
          ],
          "name": "stdout"
        },
        {
          "output_type": "stream",
          "text": [
            "[Parallel(n_jobs=-1)]: Done   9 tasks      | elapsed:    2.4s\n"
          ],
          "name": "stderr"
        },
        {
          "output_type": "stream",
          "text": [
            "[CV]  tol=0.0001, gamma=1e-08, class_weight=None, C=10.0, score=0.102, total=   0.4s\n",
            "[CV] tol=0.01, gamma=1.0, class_weight=balanced, C=0.1 ...............\n",
            "[CV]  tol=0.0001, gamma=1e-08, class_weight=None, C=10.0, score=0.102, total=   0.5s\n",
            "[CV] tol=0.01, gamma=1.0, class_weight=balanced, C=0.1 ...............\n",
            "[CV]  tol=0.01, gamma=1.0, class_weight=balanced, C=0.1, score=0.098, total=   0.4s\n",
            "[CV] tol=0.0001, gamma=1e-05, class_weight=None, C=1.0 ...............\n",
            "[CV]  tol=0.01, gamma=1.0, class_weight=balanced, C=0.1, score=0.199, total=   0.4s\n",
            "[CV] tol=0.01, gamma=1.0, class_weight=balanced, C=0.1 ...............\n"
          ],
          "name": "stdout"
        },
        {
          "output_type": "stream",
          "text": [
            "[Parallel(n_jobs=-1)]: Done  14 tasks      | elapsed:    3.3s\n"
          ],
          "name": "stderr"
        },
        {
          "output_type": "stream",
          "text": [
            "[CV]  tol=0.0001, gamma=1e-05, class_weight=None, C=1.0, score=0.891, total=   0.4s\n",
            "[CV] tol=0.0001, gamma=1e-05, class_weight=None, C=1.0 ...............\n",
            "[CV]  tol=0.01, gamma=1.0, class_weight=balanced, C=0.1, score=0.098, total=   0.5s\n",
            "[CV] tol=0.0001, gamma=1e-05, class_weight=None, C=1.0 ...............\n",
            "[CV]  tol=0.0001, gamma=1e-05, class_weight=None, C=1.0, score=0.865, total=   0.4s\n",
            "[CV] tol=0.0001, gamma=10000000.0, class_weight=balanced, C=10.0 .....\n",
            "[CV]  tol=0.0001, gamma=1e-05, class_weight=None, C=1.0, score=0.885, total=   0.4s\n",
            "[CV] tol=0.0001, gamma=10000000.0, class_weight=balanced, C=10.0 .....\n",
            "[CV]  tol=0.0001, gamma=10000000.0, class_weight=balanced, C=10.0, score=0.100, total=   0.5s\n",
            "[CV] tol=0.0001, gamma=10000000.0, class_weight=balanced, C=10.0 .....\n",
            "[CV]  tol=0.0001, gamma=10000000.0, class_weight=balanced, C=10.0, score=0.102, total=   0.5s\n",
            "[CV] tol=0.01, gamma=1e-08, class_weight=None, C=0.1 .................\n",
            "[CV]  tol=0.0001, gamma=10000000.0, class_weight=balanced, C=10.0, score=0.102, total=   0.5s\n",
            "[CV] tol=0.01, gamma=1e-08, class_weight=None, C=0.1 .................\n",
            "[CV]  tol=0.01, gamma=1e-08, class_weight=None, C=0.1, score=0.292, total=   0.4s\n",
            "[CV] tol=0.01, gamma=1e-08, class_weight=None, C=0.1 .................\n"
          ],
          "name": "stdout"
        },
        {
          "output_type": "stream",
          "text": [
            "[Parallel(n_jobs=-1)]: Done  21 tasks      | elapsed:    5.0s\n"
          ],
          "name": "stderr"
        },
        {
          "output_type": "stream",
          "text": [
            "[CV]  tol=0.01, gamma=1e-08, class_weight=None, C=0.1, score=0.102, total=   0.5s\n",
            "[CV] tol=0.01, gamma=0.0001, class_weight=None, C=0.01 ...............\n",
            "[CV]  tol=0.01, gamma=1e-08, class_weight=None, C=0.1, score=0.102, total=   0.5s\n",
            "[CV] tol=0.01, gamma=0.0001, class_weight=None, C=0.01 ...............\n",
            "[CV]  tol=0.01, gamma=0.0001, class_weight=None, C=0.01, score=0.295, total=   0.5s\n",
            "[CV] tol=0.01, gamma=0.0001, class_weight=None, C=0.01 ...............\n",
            "[CV]  tol=0.01, gamma=0.0001, class_weight=None, C=0.01, score=0.102, total=   0.5s\n",
            "[CV] tol=0.0001, gamma=1e-08, class_weight=None, C=100000.0 ..........\n",
            "[CV]  tol=0.0001, gamma=1e-08, class_weight=None, C=100000.0, score=0.935, total=   0.1s\n",
            "[CV] tol=0.0001, gamma=1e-08, class_weight=None, C=100000.0 ..........\n",
            "[CV]  tol=0.0001, gamma=1e-08, class_weight=None, C=100000.0, score=0.967, total=   0.1s\n",
            "[CV] tol=0.0001, gamma=1e-08, class_weight=None, C=100000.0 ..........\n"
          ],
          "name": "stdout"
        },
        {
          "output_type": "stream",
          "text": [
            "[Parallel(n_jobs=-1)]: Done  28 tasks      | elapsed:    6.3s\n"
          ],
          "name": "stderr"
        },
        {
          "output_type": "stream",
          "text": [
            "[CV]  tol=0.0001, gamma=1e-08, class_weight=None, C=100000.0, score=0.943, total=   0.1s\n",
            "[CV] tol=0.1, gamma=100.0, class_weight=None, C=10000.0 ..............\n",
            "[CV]  tol=0.01, gamma=0.0001, class_weight=None, C=0.01, score=0.102, total=   0.5s\n",
            "[CV] tol=0.1, gamma=100.0, class_weight=None, C=10000.0 ..............\n",
            "[CV]  tol=0.1, gamma=100.0, class_weight=None, C=10000.0, score=0.100, total=   0.4s\n",
            "[CV] tol=0.0001, gamma=1000000.0, class_weight=balanced, C=100.0 .....\n",
            "[CV]  tol=0.1, gamma=100.0, class_weight=None, C=10000.0, score=0.102, total=   0.4s\n",
            "[CV] tol=0.1, gamma=100.0, class_weight=None, C=10000.0 ..............\n",
            "[CV]  tol=0.1, gamma=100.0, class_weight=None, C=10000.0, score=0.102, total=   0.4s\n",
            "[CV] tol=0.0001, gamma=1000000.0, class_weight=balanced, C=100.0 .....\n",
            "[CV]  tol=0.0001, gamma=1000000.0, class_weight=balanced, C=100.0, score=0.100, total=   0.5s\n",
            "[CV] tol=0.0001, gamma=1000000.0, class_weight=balanced, C=100.0 .....\n",
            "[CV]  tol=0.0001, gamma=1000000.0, class_weight=balanced, C=100.0, score=0.102, total=   0.5s\n",
            "[CV] tol=0.1, gamma=100.0, class_weight=balanced, C=1000000.0 ........\n",
            "[CV]  tol=0.0001, gamma=1000000.0, class_weight=balanced, C=100.0, score=0.102, total=   0.5s\n",
            "[CV] tol=0.1, gamma=100.0, class_weight=balanced, C=1000000.0 ........\n",
            "[CV]  tol=0.1, gamma=100.0, class_weight=balanced, C=1000000.0, score=0.102, total=   0.4s\n",
            "[CV] tol=0.1, gamma=1.0, class_weight=None, C=0.1 ....................\n",
            "[CV]  tol=0.1, gamma=100.0, class_weight=balanced, C=1000000.0, score=0.100, total=   0.4s\n",
            "[CV] tol=0.1, gamma=100.0, class_weight=balanced, C=1000000.0 ........\n"
          ],
          "name": "stdout"
        },
        {
          "output_type": "stream",
          "text": [
            "[Parallel(n_jobs=-1)]: Done  37 tasks      | elapsed:    8.3s\n"
          ],
          "name": "stderr"
        },
        {
          "output_type": "stream",
          "text": [
            "[CV]  tol=0.1, gamma=1.0, class_weight=None, C=0.1, score=0.202, total=   0.4s\n",
            "[CV] tol=0.1, gamma=1.0, class_weight=None, C=0.1 ....................\n",
            "[CV]  tol=0.1, gamma=100.0, class_weight=balanced, C=1000000.0, score=0.102, total=   0.4s\n",
            "[CV] tol=0.1, gamma=1.0, class_weight=None, C=0.1 ....................\n",
            "[CV]  tol=0.1, gamma=1.0, class_weight=None, C=0.1, score=0.102, total=   0.4s\n",
            "[CV] tol=0.1, gamma=10000000.0, class_weight=None, C=10000.0 .........\n",
            "[CV]  tol=0.1, gamma=1.0, class_weight=None, C=0.1, score=0.102, total=   0.4s\n",
            "[CV] tol=0.1, gamma=10000000.0, class_weight=None, C=10000.0 .........\n",
            "[CV]  tol=0.1, gamma=10000000.0, class_weight=None, C=10000.0, score=0.102, total=   0.5s\n",
            "[CV] tol=0.001, gamma=1000000.0, class_weight=None, C=1e-05 ..........\n",
            "[CV]  tol=0.1, gamma=10000000.0, class_weight=None, C=10000.0, score=0.100, total=   0.5s\n",
            "[CV] tol=0.1, gamma=10000000.0, class_weight=None, C=10000.0 .........\n",
            "[CV]  tol=0.001, gamma=1000000.0, class_weight=None, C=1e-05, score=0.100, total=   0.4s\n",
            "[CV] tol=0.001, gamma=1000000.0, class_weight=None, C=1e-05 ..........\n",
            "[CV]  tol=0.1, gamma=10000000.0, class_weight=None, C=10000.0, score=0.102, total=   0.4s\n",
            "[CV] tol=0.001, gamma=1000000.0, class_weight=None, C=1e-05 ..........\n"
          ],
          "name": "stdout"
        },
        {
          "output_type": "stream",
          "text": [
            "[Parallel(n_jobs=-1)]: Done  46 tasks      | elapsed:   10.1s\n"
          ],
          "name": "stderr"
        },
        {
          "output_type": "stream",
          "text": [
            "[CV]  tol=0.001, gamma=1000000.0, class_weight=None, C=1e-05, score=0.102, total=   0.4s\n",
            "[CV] tol=0.01, gamma=1e-08, class_weight=balanced, C=100.0 ...........\n",
            "[CV]  tol=0.001, gamma=1000000.0, class_weight=None, C=1e-05, score=0.102, total=   0.4s\n",
            "[CV] tol=0.01, gamma=1e-08, class_weight=balanced, C=100.0 ...........\n",
            "[CV]  tol=0.01, gamma=1e-08, class_weight=balanced, C=100.0, score=0.197, total=   0.5s\n",
            "[CV] tol=0.001, gamma=0.0001, class_weight=balanced, C=100.0 .........\n",
            "[CV]  tol=0.01, gamma=1e-08, class_weight=balanced, C=100.0, score=0.472, total=   0.5s\n",
            "[CV] tol=0.01, gamma=1e-08, class_weight=balanced, C=100.0 ...........\n",
            "[CV]  tol=0.001, gamma=0.0001, class_weight=balanced, C=100.0, score=0.952, total=   0.1s\n",
            "[CV] tol=0.001, gamma=0.0001, class_weight=balanced, C=100.0 .........\n",
            "[CV]  tol=0.001, gamma=0.0001, class_weight=balanced, C=100.0, score=0.952, total=   0.1s\n",
            "[CV] tol=0.001, gamma=10000.0, class_weight=None, C=1000.0 ...........\n",
            "[CV]  tol=0.01, gamma=1e-08, class_weight=balanced, C=100.0, score=0.182, total=   0.4s\n",
            "[CV] tol=0.001, gamma=0.0001, class_weight=balanced, C=100.0 .........\n",
            "[CV]  tol=0.001, gamma=0.0001, class_weight=balanced, C=100.0, score=0.963, total=   0.1s\n",
            "[CV] tol=0.001, gamma=10000.0, class_weight=None, C=1000.0 ...........\n",
            "[CV]  tol=0.001, gamma=10000.0, class_weight=None, C=1000.0, score=0.100, total=   0.5s\n",
            "[CV] tol=0.1, gamma=0.0001, class_weight=None, C=10.0 ................\n",
            "[CV]  tol=0.1, gamma=0.0001, class_weight=None, C=10.0, score=0.947, total=   0.1s\n",
            "[CV] tol=0.001, gamma=10000.0, class_weight=None, C=1000.0 ...........\n",
            "[CV]  tol=0.001, gamma=10000.0, class_weight=None, C=1000.0, score=0.102, total=   0.5s\n",
            "[CV] tol=0.1, gamma=0.0001, class_weight=None, C=10.0 ................\n",
            "[CV]  tol=0.1, gamma=0.0001, class_weight=None, C=10.0, score=0.955, total=   0.1s\n",
            "[CV] tol=0.1, gamma=0.0001, class_weight=None, C=10.0 ................\n",
            "[CV]  tol=0.001, gamma=10000.0, class_weight=None, C=1000.0, score=0.102, total=   0.5s\n",
            "[CV] tol=0.0001, gamma=10.0, class_weight=balanced, C=10.0 ...........\n",
            "[CV]  tol=0.1, gamma=0.0001, class_weight=None, C=10.0, score=0.972, total=   0.1s\n",
            "[CV] tol=0.0001, gamma=10.0, class_weight=balanced, C=10.0 ...........\n"
          ],
          "name": "stdout"
        },
        {
          "output_type": "stream",
          "text": [
            "[Parallel(n_jobs=-1)]: Done  57 tasks      | elapsed:   12.0s\n"
          ],
          "name": "stderr"
        },
        {
          "output_type": "stream",
          "text": [
            "[CV]  tol=0.0001, gamma=10.0, class_weight=balanced, C=10.0, score=0.102, total=   0.5s\n",
            "[CV] tol=0.1, gamma=10.0, class_weight=None, C=100000.0 ..............\n",
            "[CV]  tol=0.0001, gamma=10.0, class_weight=balanced, C=10.0, score=0.100, total=   0.5s\n",
            "[CV] tol=0.0001, gamma=10.0, class_weight=balanced, C=10.0 ...........\n",
            "[CV]  tol=0.1, gamma=10.0, class_weight=None, C=100000.0, score=0.100, total=   0.4s\n",
            "[CV] tol=0.1, gamma=10.0, class_weight=None, C=100000.0 ..............\n",
            "[CV]  tol=0.0001, gamma=10.0, class_weight=balanced, C=10.0, score=0.102, total=   0.5s\n",
            "[CV] tol=0.1, gamma=10.0, class_weight=None, C=100000.0 ..............\n",
            "[CV]  tol=0.1, gamma=10.0, class_weight=None, C=100000.0, score=0.102, total=   0.4s\n",
            "[CV] tol=0.0001, gamma=1e-08, class_weight=balanced, C=1000000.0 .....\n",
            "[CV]  tol=0.0001, gamma=1e-08, class_weight=balanced, C=1000000.0, score=0.960, total=   0.1s\n",
            "[CV] tol=0.0001, gamma=1e-08, class_weight=balanced, C=1000000.0 .....[CV]  tol=0.1, gamma=10.0, class_weight=None, C=100000.0, score=0.102, total=   0.4s\n",
            "\n",
            "[CV] tol=0.0001, gamma=1e-08, class_weight=balanced, C=1000000.0 .....\n",
            "[CV]  tol=0.0001, gamma=1e-08, class_weight=balanced, C=1000000.0, score=0.937, total=   0.1s\n",
            "[CV] tol=0.001, gamma=0.0001, class_weight=None, C=0.001 .............\n",
            "[CV]  tol=0.0001, gamma=1e-08, class_weight=balanced, C=1000000.0, score=0.938, total=   0.1s\n"
          ],
          "name": "stdout"
        },
        {
          "output_type": "stream",
          "text": [
            "[Parallel(n_jobs=-1)]: Done  68 tasks      | elapsed:   13.7s\n"
          ],
          "name": "stderr"
        },
        {
          "output_type": "stream",
          "text": [
            "[CV] tol=0.001, gamma=0.0001, class_weight=None, C=0.001 .............\n",
            "[CV]  tol=0.001, gamma=0.0001, class_weight=None, C=0.001, score=0.295, total=   0.5s\n",
            "[CV] tol=0.01, gamma=1.0, class_weight=balanced, C=1.0 ...............\n",
            "[CV]  tol=0.001, gamma=0.0001, class_weight=None, C=0.001, score=0.102, total=   0.5s\n",
            "[CV] tol=0.001, gamma=0.0001, class_weight=None, C=0.001 .............\n",
            "[CV]  tol=0.01, gamma=1.0, class_weight=balanced, C=1.0, score=0.202, total=   0.5s\n",
            "[CV] tol=0.01, gamma=1.0, class_weight=balanced, C=1.0 ...............\n",
            "[CV]  tol=0.001, gamma=0.0001, class_weight=None, C=0.001, score=0.102, total=   0.5s\n",
            "[CV] tol=0.01, gamma=1.0, class_weight=balanced, C=1.0 ...............\n",
            "[CV]  tol=0.01, gamma=1.0, class_weight=balanced, C=1.0, score=0.102, total=   0.4s\n",
            "[CV] tol=0.1, gamma=10.0, class_weight=None, C=1000.0 ................\n",
            "[CV]  tol=0.01, gamma=1.0, class_weight=balanced, C=1.0, score=0.102, total=   0.5s\n",
            "[CV] tol=0.1, gamma=10.0, class_weight=None, C=1000.0 ................\n",
            "[CV]  tol=0.1, gamma=10.0, class_weight=None, C=1000.0, score=0.102, total=   0.4s\n",
            "[CV] tol=0.0001, gamma=10000.0, class_weight=balanced, C=1.0 .........\n",
            "[CV]  tol=0.1, gamma=10.0, class_weight=None, C=1000.0, score=0.100, total=   0.4s\n",
            "[CV] tol=0.1, gamma=10.0, class_weight=None, C=1000.0 ................\n",
            "[CV]  tol=0.0001, gamma=10000.0, class_weight=balanced, C=1.0, score=0.100, total=   0.5s\n",
            "[CV]  tol=0.1, gamma=10.0, class_weight=None, C=1000.0, score=0.102, total=   0.4s\n",
            "[CV] tol=0.0001, gamma=10000.0, class_weight=balanced, C=1.0 .........[CV] tol=0.0001, gamma=10000.0, class_weight=balanced, C=1.0 .........\n",
            "\n",
            "[CV]  tol=0.0001, gamma=10000.0, class_weight=balanced, C=1.0, score=0.102, total=   0.5s\n",
            "[CV] tol=0.1, gamma=0.01, class_weight=balanced, C=0.001 .............\n",
            "[CV]  tol=0.0001, gamma=10000.0, class_weight=balanced, C=1.0, score=0.102, total=   0.5s\n",
            "[CV] tol=0.1, gamma=0.01, class_weight=balanced, C=0.001 .............\n"
          ],
          "name": "stdout"
        },
        {
          "output_type": "stream",
          "text": [
            "[Parallel(n_jobs=-1)]: Done  81 tasks      | elapsed:   16.5s\n"
          ],
          "name": "stderr"
        },
        {
          "output_type": "stream",
          "text": [
            "[CV]  tol=0.1, gamma=0.01, class_weight=balanced, C=0.001, score=0.098, total=   0.5s\n",
            "[CV] tol=0.001, gamma=1000000.0, class_weight=balanced, C=1e-05 ......\n",
            "[CV]  tol=0.1, gamma=0.01, class_weight=balanced, C=0.001, score=0.145, total=   0.5s\n",
            "[CV] tol=0.1, gamma=0.01, class_weight=balanced, C=0.001 .............\n",
            "[CV]  tol=0.001, gamma=1000000.0, class_weight=balanced, C=1e-05, score=0.098, total=   0.4s\n",
            "[CV] tol=0.001, gamma=1000000.0, class_weight=balanced, C=1e-05 ......\n",
            "[CV]  tol=0.1, gamma=0.01, class_weight=balanced, C=0.001, score=0.098, total=   0.5s\n",
            "[CV] tol=0.001, gamma=1000000.0, class_weight=balanced, C=1e-05 ......\n",
            "[CV]  tol=0.001, gamma=1000000.0, class_weight=balanced, C=1e-05, score=0.100, total=   0.5s\n",
            "[CV] tol=0.01, gamma=10.0, class_weight=balanced, C=0.001 ............\n",
            "[CV]  tol=0.001, gamma=1000000.0, class_weight=balanced, C=1e-05, score=0.100, total=   0.5s\n",
            "[CV] tol=0.01, gamma=10.0, class_weight=balanced, C=0.001 ............\n",
            "[CV]  tol=0.01, gamma=10.0, class_weight=balanced, C=0.001, score=0.098, total=   0.5s\n",
            "[CV] tol=0.1, gamma=0.0001, class_weight=None, C=0.01 ................\n",
            "[CV]  tol=0.01, gamma=10.0, class_weight=balanced, C=0.001, score=0.098, total=   0.5s\n",
            "[CV] tol=0.01, gamma=10.0, class_weight=balanced, C=0.001 ............\n",
            "[CV]  tol=0.1, gamma=0.0001, class_weight=None, C=0.01, score=0.295, total=   0.5s\n",
            "[CV] tol=0.1, gamma=0.0001, class_weight=None, C=0.01 ................\n",
            "[CV]  tol=0.01, gamma=10.0, class_weight=balanced, C=0.001, score=0.098, total=   0.4s\n",
            "[CV] tol=0.1, gamma=0.0001, class_weight=None, C=0.01 ................\n",
            "[CV]  tol=0.1, gamma=0.0001, class_weight=None, C=0.01, score=0.102, total=   0.4s\n",
            "[CV] tol=0.01, gamma=10.0, class_weight=None, C=1e-06 ................\n",
            "[CV]  tol=0.1, gamma=0.0001, class_weight=None, C=0.01, score=0.102, total=   0.4s\n",
            "[CV] tol=0.01, gamma=10.0, class_weight=None, C=1e-06 ................\n",
            "[CV]  tol=0.01, gamma=10.0, class_weight=None, C=1e-06, score=0.102, total=   0.4s\n",
            "[CV] tol=0.01, gamma=0.0001, class_weight=balanced, C=1000000.0 ......\n",
            "[CV]  tol=0.01, gamma=10.0, class_weight=None, C=1e-06, score=0.100, total=   0.4s\n",
            "[CV] tol=0.01, gamma=10.0, class_weight=None, C=1e-06 ................[CV]  tol=0.01, gamma=0.0001, class_weight=balanced, C=1000000.0, score=0.952, total=   0.1s\n",
            "[CV] tol=0.01, gamma=0.0001, class_weight=balanced, C=1000000.0 ......\n",
            "\n",
            "[CV]  tol=0.01, gamma=0.0001, class_weight=balanced, C=1000000.0, score=0.963, total=   0.1s\n"
          ],
          "name": "stdout"
        },
        {
          "output_type": "stream",
          "text": [
            "[Parallel(n_jobs=-1)]: Done  94 tasks      | elapsed:   19.7s\n"
          ],
          "name": "stderr"
        },
        {
          "output_type": "stream",
          "text": [
            "[CV] tol=0.01, gamma=0.0001, class_weight=balanced, C=1000000.0 ......\n",
            "[CV]  tol=0.01, gamma=0.0001, class_weight=balanced, C=1000000.0, score=0.952, total=   0.1s\n",
            "[CV] tol=0.001, gamma=1.0, class_weight=None, C=0.1 ..................\n",
            "[CV]  tol=0.01, gamma=10.0, class_weight=None, C=1e-06, score=0.102, total=   0.4s\n",
            "[CV] tol=0.001, gamma=1.0, class_weight=None, C=0.1 ..................\n",
            "[CV]  tol=0.001, gamma=1.0, class_weight=None, C=0.1, score=0.102, total=   0.4s\n",
            "[CV] tol=0.001, gamma=1.0, class_weight=None, C=0.1 ..................\n",
            "[CV]  tol=0.001, gamma=1.0, class_weight=None, C=0.1, score=0.202, total=   0.5s\n",
            "[CV] tol=0.01, gamma=100000.0, class_weight=balanced, C=100000.0 .....\n",
            "[CV]  tol=0.001, gamma=1.0, class_weight=None, C=0.1, score=0.102, total=   0.5s\n",
            "[CV] tol=0.01, gamma=100000.0, class_weight=balanced, C=100000.0 .....\n",
            "[CV]  tol=0.01, gamma=100000.0, class_weight=balanced, C=100000.0, score=0.100, total=   0.5s\n",
            "[CV] tol=0.01, gamma=100000.0, class_weight=balanced, C=100000.0 .....\n",
            "[CV]  tol=0.01, gamma=100000.0, class_weight=balanced, C=100000.0, score=0.102, total=   0.5s\n",
            "[CV] tol=0.1, gamma=1000000.0, class_weight=None, C=1.0 ..............\n",
            "[CV]  tol=0.01, gamma=100000.0, class_weight=balanced, C=100000.0, score=0.102, total=   0.5s\n",
            "[CV] tol=0.1, gamma=1000000.0, class_weight=None, C=1.0 ..............\n",
            "[CV]  tol=0.1, gamma=1000000.0, class_weight=None, C=1.0, score=0.100, total=   0.4s\n",
            "[CV] tol=0.1, gamma=1000000.0, class_weight=None, C=1.0 ..............\n",
            "[CV]  tol=0.1, gamma=1000000.0, class_weight=None, C=1.0, score=0.102, total=   0.4s\n",
            "[CV] tol=0.01, gamma=10000.0, class_weight=balanced, C=10000.0 .......\n",
            "[CV]  tol=0.1, gamma=1000000.0, class_weight=None, C=1.0, score=0.102, total=   0.4s\n",
            "[CV] tol=0.01, gamma=10000.0, class_weight=balanced, C=10000.0 .......\n",
            "[CV]  tol=0.01, gamma=10000.0, class_weight=balanced, C=10000.0, score=0.100, total=   0.5s\n",
            "[CV] tol=0.01, gamma=10000.0, class_weight=balanced, C=10000.0 .......\n"
          ],
          "name": "stdout"
        },
        {
          "output_type": "stream",
          "text": [
            "[Parallel(n_jobs=-1)]: Done 109 tasks      | elapsed:   22.6s\n"
          ],
          "name": "stderr"
        },
        {
          "output_type": "stream",
          "text": [
            "[CV]  tol=0.01, gamma=10000.0, class_weight=balanced, C=10000.0, score=0.102, total=   0.5s\n",
            "[CV] tol=0.001, gamma=100000.0, class_weight=None, C=10.0 ............\n",
            "[CV]  tol=0.01, gamma=10000.0, class_weight=balanced, C=10000.0, score=0.102, total=   0.5s\n",
            "[CV] tol=0.001, gamma=100000.0, class_weight=None, C=10.0 ............\n",
            "[CV]  tol=0.001, gamma=100000.0, class_weight=None, C=10.0, score=0.100, total=   0.5s\n",
            "[CV] tol=0.001, gamma=100000.0, class_weight=None, C=10.0 ............\n",
            "[CV]  tol=0.001, gamma=100000.0, class_weight=None, C=10.0, score=0.102, total=   0.5s\n",
            "[CV] tol=0.1, gamma=0.1, class_weight=balanced, C=1e-06 ..............\n",
            "[CV]  tol=0.001, gamma=100000.0, class_weight=None, C=10.0, score=0.102, total=   0.5s\n",
            "[CV] tol=0.1, gamma=0.1, class_weight=balanced, C=1e-06 ..............\n",
            "[CV]  tol=0.1, gamma=0.1, class_weight=balanced, C=1e-06, score=0.098, total=   0.5s\n",
            "[CV] tol=0.1, gamma=0.1, class_weight=balanced, C=1e-06 ..............\n",
            "[CV]  tol=0.1, gamma=0.1, class_weight=balanced, C=1e-06, score=0.098, total=   0.5s\n",
            "[CV] tol=0.01, gamma=0.1, class_weight=balanced, C=0.1 ...............\n",
            "[CV]  tol=0.1, gamma=0.1, class_weight=balanced, C=1e-06, score=0.098, total=   0.5s\n",
            "[CV] tol=0.01, gamma=0.1, class_weight=balanced, C=0.1 ...............\n",
            "[CV]  tol=0.01, gamma=0.1, class_weight=balanced, C=0.1, score=0.098, total=   0.5s\n",
            "[CV] tol=0.01, gamma=0.1, class_weight=balanced, C=0.1 ...............\n",
            "[CV]  tol=0.01, gamma=0.1, class_weight=balanced, C=0.1, score=0.098, total=   0.5s\n",
            "[CV] tol=0.001, gamma=100.0, class_weight=balanced, C=10000.0 ........\n",
            "[CV]  tol=0.01, gamma=0.1, class_weight=balanced, C=0.1, score=0.098, total=   0.4s\n",
            "[CV] tol=0.001, gamma=100.0, class_weight=balanced, C=10000.0 ........\n",
            "[CV]  tol=0.001, gamma=100.0, class_weight=balanced, C=10000.0, score=0.100, total=   0.5s\n",
            "[CV] tol=0.001, gamma=100.0, class_weight=balanced, C=10000.0 ........\n",
            "[CV]  tol=0.001, gamma=100.0, class_weight=balanced, C=10000.0, score=0.102, total=   0.5s\n",
            "[CV] tol=0.1, gamma=100000000.0, class_weight=balanced, C=1000.0 .....\n",
            "[CV]  tol=0.001, gamma=100.0, class_weight=balanced, C=10000.0, score=0.102, total=   0.5s\n",
            "[CV] tol=0.1, gamma=100000000.0, class_weight=balanced, C=1000.0 .....\n",
            "[CV]  tol=0.1, gamma=100000000.0, class_weight=balanced, C=1000.0, score=0.100, total=   0.4s\n",
            "[CV] tol=0.1, gamma=100000000.0, class_weight=balanced, C=1000.0 .....\n",
            "[CV]  tol=0.1, gamma=100000000.0, class_weight=balanced, C=1000.0, score=0.102, total=   0.4s\n",
            "[CV] tol=0.0001, gamma=10000000.0, class_weight=balanced, C=10000.0 ..\n"
          ],
          "name": "stdout"
        },
        {
          "output_type": "stream",
          "text": [
            "[Parallel(n_jobs=-1)]: Done 124 tasks      | elapsed:   26.2s\n"
          ],
          "name": "stderr"
        },
        {
          "output_type": "stream",
          "text": [
            "[CV]  tol=0.1, gamma=100000000.0, class_weight=balanced, C=1000.0, score=0.102, total=   0.4s\n",
            "[CV] tol=0.0001, gamma=10000000.0, class_weight=balanced, C=10000.0 ..\n",
            "[CV]  tol=0.0001, gamma=10000000.0, class_weight=balanced, C=10000.0, score=0.100, total=   0.5s\n",
            "[CV] tol=0.0001, gamma=10000000.0, class_weight=balanced, C=10000.0 ..\n",
            "[CV]  tol=0.0001, gamma=10000000.0, class_weight=balanced, C=10000.0, score=0.102, total=   0.5s\n",
            "[CV] tol=0.01, gamma=10.0, class_weight=None, C=1e-05 ................\n",
            "[CV]  tol=0.0001, gamma=10000000.0, class_weight=balanced, C=10000.0, score=0.102, total=   0.5s\n",
            "[CV] tol=0.01, gamma=10.0, class_weight=None, C=1e-05 ................\n",
            "[CV]  tol=0.01, gamma=10.0, class_weight=None, C=1e-05, score=0.100, total=   0.4s\n",
            "[CV] tol=0.01, gamma=10.0, class_weight=None, C=1e-05 ................\n",
            "[CV]  tol=0.01, gamma=10.0, class_weight=None, C=1e-05, score=0.102, total=   0.4s\n",
            "[CV] tol=0.01, gamma=1000.0, class_weight=balanced, C=100.0 ..........\n",
            "[CV]  tol=0.01, gamma=10.0, class_weight=None, C=1e-05, score=0.102, total=   0.4s\n",
            "[CV] tol=0.01, gamma=1000.0, class_weight=balanced, C=100.0 ..........\n",
            "[CV]  tol=0.01, gamma=1000.0, class_weight=balanced, C=100.0, score=0.100, total=   0.4s\n",
            "[CV] tol=0.01, gamma=1000.0, class_weight=balanced, C=100.0 ..........\n",
            "[CV]  tol=0.01, gamma=1000.0, class_weight=balanced, C=100.0, score=0.102, total=   0.4s\n",
            "[CV] tol=0.0001, gamma=0.1, class_weight=balanced, C=1.0 .............\n",
            "[CV]  tol=0.01, gamma=1000.0, class_weight=balanced, C=100.0, score=0.102, total=   0.5s\n",
            "[CV] tol=0.0001, gamma=0.1, class_weight=balanced, C=1.0 .............\n",
            "[CV]  tol=0.0001, gamma=0.1, class_weight=balanced, C=1.0, score=0.100, total=   0.5s\n",
            "[CV] tol=0.0001, gamma=0.1, class_weight=balanced, C=1.0 .............\n",
            "[CV]  tol=0.0001, gamma=0.1, class_weight=balanced, C=1.0, score=0.102, total=   0.5s\n",
            "[CV] tol=0.001, gamma=0.01, class_weight=None, C=1.0 .................\n",
            "[CV]  tol=0.0001, gamma=0.1, class_weight=balanced, C=1.0, score=0.102, total=   0.5s\n",
            "[CV] tol=0.001, gamma=0.01, class_weight=None, C=1.0 .................\n",
            "[CV]  tol=0.001, gamma=0.01, class_weight=None, C=1.0, score=0.653, total=   0.5s\n",
            "[CV] tol=0.001, gamma=0.01, class_weight=None, C=1.0 .................\n",
            "[CV]  tol=0.001, gamma=0.01, class_weight=None, C=1.0, score=0.684, total=   0.5s\n",
            "[CV] tol=0.001, gamma=1.0, class_weight=None, C=10000.0 ..............\n",
            "[CV]  tol=0.001, gamma=0.01, class_weight=None, C=1.0, score=0.738, total=   0.5s\n",
            "[CV] tol=0.001, gamma=1.0, class_weight=None, C=10000.0 ..............\n",
            "[CV]  tol=0.001, gamma=1.0, class_weight=None, C=10000.0, score=0.202, total=   0.5s\n",
            "[CV] tol=0.001, gamma=1.0, class_weight=None, C=10000.0 ..............\n"
          ],
          "name": "stdout"
        },
        {
          "output_type": "stream",
          "text": [
            "[Parallel(n_jobs=-1)]: Done 141 tasks      | elapsed:   30.2s\n"
          ],
          "name": "stderr"
        },
        {
          "output_type": "stream",
          "text": [
            "[CV]  tol=0.001, gamma=1.0, class_weight=None, C=10000.0, score=0.102, total=   0.5s\n",
            "[CV] tol=0.001, gamma=100000000.0, class_weight=None, C=100000.0 .....\n",
            "[CV]  tol=0.001, gamma=1.0, class_weight=None, C=10000.0, score=0.102, total=   0.5s\n",
            "[CV] tol=0.001, gamma=100000000.0, class_weight=None, C=100000.0 .....\n",
            "[CV]  tol=0.001, gamma=100000000.0, class_weight=None, C=100000.0, score=0.100, total=   0.5s\n",
            "[CV] tol=0.001, gamma=100000000.0, class_weight=None, C=100000.0 .....\n",
            "[CV]  tol=0.001, gamma=100000000.0, class_weight=None, C=100000.0, score=0.102, total=   0.5s\n",
            "[CV] tol=0.001, gamma=0.01, class_weight=None, C=100.0 ...............\n",
            "[CV]  tol=0.001, gamma=100000000.0, class_weight=None, C=100000.0, score=0.102, total=   0.5s\n",
            "[CV] tol=0.001, gamma=0.01, class_weight=None, C=100.0 ...............\n",
            "[CV]  tol=0.001, gamma=0.01, class_weight=None, C=100.0, score=0.664, total=   0.5s\n",
            "[CV] tol=0.001, gamma=0.01, class_weight=None, C=100.0 ...............\n",
            "[CV]  tol=0.001, gamma=0.01, class_weight=None, C=100.0, score=0.689, total=   0.5s\n",
            "[CV]  tol=0.001, gamma=0.01, class_weight=None, C=100.0, score=0.745, total=   0.5s\n"
          ],
          "name": "stdout"
        },
        {
          "output_type": "stream",
          "text": [
            "[Parallel(n_jobs=-1)]: Done 150 out of 150 | elapsed:   32.3s finished\n"
          ],
          "name": "stderr"
        }
      ]
    }
  ]
}